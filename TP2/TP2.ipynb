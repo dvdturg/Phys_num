{
 "cells": [
  {
   "cell_type": "markdown",
   "metadata": {},
   "source": [
    "<h1><center>Physique numérique (PHY-3500)</center></h1>\n",
    "<h1><center>TP2 - Résolution d'équations non-linéaires</center></h1>"
   ]
  },
  {
   "cell_type": "markdown",
   "metadata": {},
   "source": [
    "## Nom des membres de l'équipe :\n",
    "\n",
    "### Nom, Prénom :  NI \n",
    "### Légaré, Ophélie : 111 182 608\n",
    "### Parrot, Anaïs : 111 184 980\n",
    "### Turgeon, David : 111 182 265"
   ]
  },
  {
   "cell_type": "markdown",
   "metadata": {},
   "source": [
    "### Importation des modules :"
   ]
  },
  {
   "cell_type": "code",
   "execution_count": 1,
   "metadata": {},
   "outputs": [],
   "source": [
    "import numpy as np\n",
    "import matplotlib.pyplot as plt"
   ]
  },
  {
   "cell_type": "markdown",
   "metadata": {},
   "source": [
    "# Introduction : "
   ]
  },
  {
   "cell_type": "markdown",
   "metadata": {},
   "source": [
    "Il était une fois le TP2... À remettre dans moins d'une semaine, nos protagonistes vont-ils y parvenir? C'est à suivre, avec un stress pas moins palpable..."
   ]
  },
  {
   "cell_type": "markdown",
   "metadata": {},
   "source": [
    "# Le potentiel de Lennard-Jones"
   ]
  },
  {
   "cell_type": "markdown",
   "metadata": {},
   "source": [
    "What the fuck is happening here?? OMG  :'("
   ]
  },
  {
   "cell_type": "markdown",
   "metadata": {},
   "source": [
    "## Question 1 :"
   ]
  },
  {
   "cell_type": "code",
   "execution_count": 2,
   "metadata": {},
   "outputs": [],
   "source": [
    "\"\"\"\n",
    "Trouver r pour p(r) = 0 sachant p(r) = ±[2mu(epsilon_n*V0-V(r))]^(1/2)\n",
    "epsilon_n = E_n/V0 = p^2/(2mu) + V(r)\n",
    "V(r) = 4V0[(sigma/r)^6-(sigma/r)^12]\n",
    "Évaluation numérique du résultat\n",
    "\"\"\"\n",
    "def rebroussement_pts(V_0,sigma,mu, epsilon_n,autre_variable):\n",
    "    pass\n"
   ]
  },
  {
   "cell_type": "markdown",
   "metadata": {},
   "source": [
    "## Question 2 :"
   ]
  },
  {
   "cell_type": "code",
   "execution_count": 3,
   "metadata": {},
   "outputs": [
    {
     "data": {
      "text/plain": [
       "\"\\n### Méthode à validé ###\\nItérer sur des valeurs de epsilon_n jusqu'à ce que la valeur soit de (n+1/2)/gamma\\nUtilisé la fonction en 1 pour déterminé les bornes de l'intégrale\\nintégrale de l'équation 9\\n\""
      ]
     },
     "execution_count": 3,
     "metadata": {},
     "output_type": "execute_result"
    }
   ],
   "source": [
    "\"\"\"\n",
    "### Méthode à validé ###\n",
    "Itérer sur des valeurs de epsilon_n jusqu'à ce que la valeur soit de (n+1/2)/gamma\n",
    "Utilisé la fonction en 1 pour déterminé les bornes de l'intégrale\n",
    "intégrale de l'équation 9\n",
    "\"\"\""
   ]
  },
  {
   "cell_type": "markdown",
   "metadata": {},
   "source": [
    "## Question 3 :"
   ]
  },
  {
   "cell_type": "code",
   "execution_count": 4,
   "metadata": {},
   "outputs": [
    {
     "data": {
      "text/plain": [
       "'\\nUtilisé les fonctions fait en 1 et 2 pour plot les différents graph\\n'"
      ]
     },
     "execution_count": 4,
     "metadata": {},
     "output_type": "execute_result"
    }
   ],
   "source": [
    "\"\"\"\n",
    "Utilisé les fonctions fait en 1 et 2 pour plot les différents graph\n",
    "\"\"\""
   ]
  },
  {
   "cell_type": "markdown",
   "metadata": {},
   "source": [
    "## Question 4 :"
   ]
  },
  {
   "cell_type": "code",
   "execution_count": 5,
   "metadata": {
    "scrolled": true
   },
   "outputs": [
    {
     "data": {
      "text/plain": [
       "\"\\nOn s'en reparlera xD\\n\""
      ]
     },
     "execution_count": 5,
     "metadata": {},
     "output_type": "execute_result"
    }
   ],
   "source": [
    "\"\"\"\n",
    "On s'en reparlera xD\n",
    "\"\"\""
   ]
  },
  {
   "cell_type": "markdown",
   "metadata": {},
   "source": [
    "# Pandémie et relaxation"
   ]
  },
  {
   "cell_type": "markdown",
   "metadata": {},
   "source": [
    "Afin de modéliser le nombre de personnes qui seront infectées au terme de la pandémie de la COVID-19, on utilise l'équation :\n",
    "\n",
    "$$p = 1 - e^{-R_0 p} \\ ,$$\n",
    "\n",
    "où $R_0$ est le nombre de reproduction de base et $p$ le pourcentage de la population qui aura été infecté. Cette équation permet de modéliser n'importe quelle pandémie.\n",
    "\n",
    "Nous allons essayer ici de déterminer le pourcentage $p$ pour un nombre $R_0$ donné grâce à la méthode de relaxation."
   ]
  },
  {
   "cell_type": "markdown",
   "metadata": {},
   "source": [
    "## Question 5 :\n",
    "On veut évaluer le pourcentage $p$ de la population qui aura ́eté infecté au terme de la pandémie de la COVID-19 grâce à la méthode de la relaxation, et ce, pour un nombre de reproduction de base $R_0$ entre 0 et 5,7 à une précision de 10$^{-6}$."
   ]
  },
  {
   "cell_type": "markdown",
   "metadata": {},
   "source": [
    "Pour calculer l'erreur faite sur l'estimation de la solution, il nous faut la dérivée de l'équation utilisée. Dans ce cas, la dérivée est très simple à calculer :\n",
    "$$ \\frac{d}{dx} \\left[1-\\exp(-R_0 p)\\right] = R_0\\exp(-R_0 p) $$\n",
    "\n",
    "L'erreur sur l'estimé se calcule comme :\n",
    "$$ \\epsilon' \\approx \\frac{x-x'}{1-1/f'(x)} $$\n",
    "\n",
    "Comme $p$ ne peut être compris que entre 0 et 1, nous choissions aléatoirement $p = 0,1$ comme valeur initiale."
   ]
  },
  {
   "cell_type": "code",
   "execution_count": 2,
   "metadata": {},
   "outputs": [],
   "source": [
    "def modele_pandemie(p, R_0):\n",
    "    # Équation du modèle des pandémies\n",
    "    return 1 - np.exp(-R_0*p)\n",
    "\n",
    "def derivee_modele_pandemie(p, R_0):\n",
    "    # Dérivée de l'équation du modèle des pandémies\n",
    "    return R_0 * np.exp(-R_0*p)\n",
    "\n",
    "def erreur_estime(p, R_0, p_prime):\n",
    "    # Erreur sur l'estimé calculé grâce à la méthode de relaxation\n",
    "    return (p - p_prime) / (1 - 1/(derivee_modele_pandemie(p, R_0)))\n",
    "\n",
    "def relaxation(p, R_0, precision):\n",
    "    # Méthode de relaxation\n",
    "    p_prime = modele_pandemie(p, R_0)  # Calcul du prochain estimé\n",
    "    \n",
    "    nb_iterations = 1\n",
    "    while abs(erreur_estime(p, R_0, p_prime)) > precision:\n",
    "        # Calcul du nombre d'itérations nécessaire pour que l'estimé atteigne la précision voulue\n",
    "        p = p_prime\n",
    "        p_prime = modele_pandemie(p, R_0)\n",
    "        nb_iterations += 1 \n",
    "        \n",
    "    return p_prime, nb_iterations"
   ]
  },
  {
   "cell_type": "code",
   "execution_count": 3,
   "metadata": {},
   "outputs": [
    {
     "name": "stderr",
     "output_type": "stream",
     "text": [
      "<ipython-input-2-8469909ae0dc>:11: RuntimeWarning: divide by zero encountered in double_scalars\n",
      "  return (p - p_prime) / (1 - 1/(derivee_modele_pandemie(p, R_0)))\n"
     ]
    },
    {
     "data": {
      "image/png": "[encoded data removed]",
      "text/plain": [
       "<Figure size 432x288 with 1 Axes>"
      ]
     },
     "metadata": {
      "needs_background": "light"
     },
     "output_type": "display_data"
    }
   ],
   "source": [
    "valeurs_R_0 = np.linspace(0, 5.7, 571)\n",
    "\n",
    "valeurs_p = []\n",
    "for i in valeurs_R_0:\n",
    "    valeurs_p.append(relaxation(0.1, i, 10e-6)[0])\n",
    "    \n",
    "plt.figure()\n",
    "plt.plot(valeurs_R_0, valeurs_p)\n",
    "plt.xlabel(\"Nombre de reproduction $R_0$\")\n",
    "plt.ylabel(\"Pourcentage de la population [%]\")\n",
    "plt.show()"
   ]
  },
  {
   "cell_type": "markdown",
   "metadata": {},
   "source": [
    "Tel qu'attendu, on constate que $p$ varie entre 0 et 1. Lorsque $R_0$ est inférieur à 1, $p$ est environ nul puisque le résultat de l'exponentielle dans l'équation de modélisation des pandémies tend vers 1. $R_0 = 1$ correspond donc au seuil épidémique. "
   ]
  },
  {
   "cell_type": "markdown",
   "metadata": {},
   "source": [
    "# Pandémie et relaxation accélérée"
   ]
  },
  {
   "cell_type": "markdown",
   "metadata": {},
   "source": [
    "On constate à la précédente question que cela prend un certain temps avant que la solution converge avec la précision voulue en utilisant la méthode de relaxation. On va donc recommencer avec la méthode de relaxation accélérée. Cette méthode consiste à prendre l'estimation calculée à chaque itération et à la projeter un peu plus loin en espérant que cela nous rapproche de la vraie solution, ce qui permettrait d'accélérer le processus de relaxation."
   ]
  },
  {
   "cell_type": "markdown",
   "metadata": {},
   "source": [
    "## Question 6 :"
   ]
  },
  {
   "cell_type": "markdown",
   "metadata": {},
   "source": [
    "Le calcul pour obtenir l'erreur sur l'estimé $x'$ de la méthode de relaxation accélérée est présenté ci-dessous. Il s'agit d'une démarche similaire à celui pour la méthode de relaxation.\n",
    "\n",
    "On cherche la solution $x^*$ de la fonction $f(x)$ évaluée par itérations à différentes valeurs de $x$, soit $x$, $x'$, $x''$ et ainsi de suite. La solution $x^*$ peut être exprimée, pour toutes itérations, par la somme du point d'évaluation de la fonction et de l'erreur $\\epsilon$ commise sur cette même itération, tel que :\n",
    "\n",
    "\\begin{align}\n",
    "x^* = x + \\epsilon = x' + \\epsilon' = x'' + \\epsilon'' , \\ etc.\n",
    "\\end{align}\n",
    "\n",
    "On peut exprimer l'erreur sur la deuxième itération $\\epsilon$' par une série de Taylor :\n",
    "\n",
    "\\begin{align}\n",
    "\\epsilon' = x^* - x' = (x^* - x) f'(x^* )\\ +\\ ...\n",
    "\\end{align}\n",
    "\n",
    "En négligeant les termes subséquents, cela correspond à \n",
    "\n",
    "\\begin{align}\n",
    "\\epsilon' = x^* - x' = \\epsilon f'(x^* ) \\ .\n",
    "\\end{align}\n",
    "\n",
    "Dans le cas de la relaxation accélérée, le deuxième point d'itération est donné par :\n",
    "\n",
    "\\begin{align}\n",
    "x' = f(x) = x + (1 + \\omega) \\Delta x = x + (1 + \\omega) (f(x) -x) = (1 + \\omega) f(x) - x \\omega \\ .\n",
    "\\end{align}\n",
    "\n",
    "Par conséquent,\n",
    "\n",
    "\\begin{align}\n",
    "f(x^* ) = (1 + \\omega) f(x^* ) - x^* \\omega\\ .\n",
    "\\end{align}\n",
    "\n",
    "La dérivée par rapport à $x$ de la fonction autour de sa solution $x^*$ est \n",
    "\n",
    "\\begin{align}\n",
    "f'(x^* ) = (1 + \\omega) f'(x^* ) - \\omega\\ .\n",
    "\\end{align}\n",
    "\n",
    "On procède donc à isoler $\\epsilon'$ de la première équation.\n",
    "\n",
    "\\begin{align}\n",
    "x - x' = \\epsilon' - \\epsilon\n",
    "\\end{align}\n",
    "\n",
    "\\begin{align}\n",
    "x - x' = \\epsilon' - \\frac{\\epsilon'}{f'(x^* )}\n",
    "\\end{align}\n",
    "\n",
    "\\begin{align}\n",
    "x - x' = \\epsilon' \\left [1 - \\frac{1}{f'(x^* )} \\right]\n",
    "\\end{align}\n",
    "\n",
    "\\begin{align}\n",
    "x - x' = \\epsilon' \\left [1 - \\frac{1}{(1 + \\omega) f'(x^* ) - \\omega} \\right]\n",
    "\\end{align}\n",
    "\n",
    "\\begin{align}\n",
    "\\epsilon' = \\frac{x - x'}{1 - \\frac{1}{(1 + \\omega) f'(x^* ) - \\omega}}\n",
    "\\end{align}\n",
    "\n",
    "Finalement, en approximant que $x$ est situé près de $x^*$, on a que\n",
    "\n",
    "\\begin{align}\n",
    "\\epsilon' \\approx \\frac{x - x'}{1 - \\frac{1}{(1 + \\omega) f'(x) - \\omega}}.\n",
    "\\end{align}"
   ]
  },
  {
   "cell_type": "markdown",
   "metadata": {},
   "source": [
    "## Question 7 :"
   ]
  },
  {
   "cell_type": "markdown",
   "metadata": {},
   "source": [
    "Afin de comparer la vitesse de convergence de la méthode de relaxation et de la méthode de relaxation accélérée, on regarde le nombre d'itérations nécessaire pour atteindre une précision de $10^{-6}$ avec $R_0 = 2$ pour la précédente équation décrivant un modèle des pandémies."
   ]
  },
  {
   "cell_type": "code",
   "execution_count": 4,
   "metadata": {},
   "outputs": [
    {
     "name": "stdout",
     "output_type": "stream",
     "text": [
      "Il faut 16 itérations pour atteindre la précision voulue avec la méthode de relaxation. Cela donne p = 0.7968062132149596\n"
     ]
    }
   ],
   "source": [
    "solution = relaxation(0.1, 2, 10e-6)\n",
    "print(\"Il faut\", solution[1], \"itérations pour atteindre la précision voulue avec la méthode de relaxation. Cela donne p =\", solution[0])"
   ]
  },
  {
   "cell_type": "markdown",
   "metadata": {},
   "source": [
    "## Question 8 :"
   ]
  },
  {
   "cell_type": "markdown",
   "metadata": {},
   "source": [
    "Pour évaluer la précision de la méthode de relaxation accélérée, on reprend l'équation de l'erreur sur l'estimé $\\epsilon'$ démontré à la question 6."
   ]
  },
  {
   "cell_type": "code",
   "execution_count": 5,
   "metadata": {},
   "outputs": [],
   "source": [
    "def erreur_estime_accelere(p, p_prime, R_0, omega):\n",
    "    # Erreur sur l'estimé calculé grâce à la méthode de relaxation accélérée\n",
    "    long_terme = (1 + omega) * derivee_modele_pandemie(p, R_0) - omega\n",
    "    return (p - p_prime) / (1 - 1/long_terme)\n",
    "\n",
    "def relaxation_acceleree(p, R_0, omega, precision):\n",
    "    # Méthode de relaxation accélérée\n",
    "    p_prime = (1 + omega) * modele_pandemie(p, R_0) - omega * p   # Calcul du prochain estimé\n",
    "        \n",
    "    nb_iterations = 1\n",
    "    while abs(erreur_estime_accelere(p, p_prime, R_0, omega)) > precision:\n",
    "        # Calcul du nombre d'itérations nécessaire pour que l'estimé atteigne la précision voulue\n",
    "        p = p_prime\n",
    "        p_prime = (1 + omega) * modele_pandemie(p, R_0) - omega * p\n",
    "        nb_iterations += 1\n",
    "        \n",
    "    return p_prime, nb_iterations"
   ]
  },
  {
   "cell_type": "markdown",
   "metadata": {},
   "source": [
    "On prend le point de départ donné à 0,5 pour $\\omega$ et on regarde le nombre d'itérations nécessaire pour atteindre une précision de $10^{-6}$. On augmente alors graduellement la valeur de $\\omega$ pour déterminer la valeur optimale de ce paramètre. On teste également de poser $\\omega$ à une valeur inférieure à 0,5 pour voir si la valeur optimale ne se trouverait pas plutôt dans cette direction."
   ]
  },
  {
   "cell_type": "code",
   "execution_count": 18,
   "metadata": {},
   "outputs": [
    {
     "data": {
      "image/png": "[encoded data removed]",
      "text/plain": [
       "<Figure size 432x288 with 1 Axes>"
      ]
     },
     "metadata": {
      "needs_background": "light"
     },
     "output_type": "display_data"
    }
   ],
   "source": [
    "omega = np.linspace(0.3, 1, 1000)\n",
    "\n",
    "iterations = []\n",
    "for i in omega:\n",
    "    iterations.append(relaxation_acceleree(0.1, 2, i, 10e-6)[1])\n",
    "    \n",
    "plt.figure()\n",
    "plt.plot(omega, iterations)\n",
    "plt.xlabel(\"Valeur de $\\omega$\")\n",
    "plt.ylabel(\"Nombre d'itérations\")\n",
    "plt.show()"
   ]
  },
  {
   "cell_type": "markdown",
   "metadata": {},
   "source": [
    "D'après ce graphique, la méthode de relaxation accélérée semble plus rapide lorsque $\\omega$ vaut aux alentours de 0,696 et de 0,768. On pose donc que le $\\omega$ optimal pour cette fonction est la moyenne de ces deux valeurs, soit à 0,732. On peut ainsi estimer la fonction de modélisation des pandémies avec ce $\\omega$ optimal et pour $R_0$ = 2, en souhaitant une précision de $10^{-6}$, et déterminer le nombre d'itérations nécessaire pour y parvenir en partant de $p$ = 0,1."
   ]
  },
  {
   "cell_type": "code",
   "execution_count": 19,
   "metadata": {},
   "outputs": [
    {
     "name": "stdout",
     "output_type": "stream",
     "text": [
      "Il faut 6 itérations pour atteindre la précision voulue avec la méthode de relaxation accélérée. Cela donne p = 0.7968105208881933\n"
     ]
    }
   ],
   "source": [
    "sln = relaxation_acceleree(0.1, 2, 0.732, 10e-6)\n",
    "print(\"Il faut\", sln[1], \"itérations pour atteindre la précision voulue avec la méthode de relaxation accélérée. Cela donne p =\", sln[0])"
   ]
  },
  {
   "cell_type": "markdown",
   "metadata": {},
   "source": [
    "Juste avec cet exemple, la méthode de relaxation accélérée a permis de s'épargner 10 itérations supplémentaires pour les mêmes paramètres. La méthode est donc bel et bien plus rapide et donne un estimé semblable pour la précision voulue."
   ]
  },
  {
   "cell_type": "markdown",
   "metadata": {},
   "source": [
    "## Question 9 :"
   ]
  },
  {
   "cell_type": "markdown",
   "metadata": {},
   "source": [
    "Normalement, pour la méthode de relaxation accélérée, on utilise une valeur de $\\omega$ supérieure à 0 afin de converger vers la solution. Pour rappel, choisir un $\\omega$ égal à 0 revient simplement à la méthode de relaxation. Cependant, dans certains cas, il peut être préférable que $\\omega$ soit inférieur à 0 lorsque la méthode ne permet pas autrement de converger vers la solution. On parle, par exemple, lorsque l'estimé calculé oscille entre des valeurs supérieures et inférieures à la solution attendue.\n",
    "\n",
    "Les prochaines lignes de code présentent un exemple où la méthode de relaxation semble, à priori, dans l'incapacité de converger vers une solution. Pourtant, en utilisant la méthode de relaxation accélérée avec un facteur $\\omega$ négatif, il devient finalement possible de converger vers la valeur attendue. \n",
    "\n",
    "L'exemple utilise la fonction $x = \\exp(1-x^2)$, où la solution est simplement $x = 1$. "
   ]
  },
  {
   "cell_type": "code",
   "execution_count": 21,
   "metadata": {},
   "outputs": [
    {
     "name": "stdout",
     "output_type": "stream",
     "text": [
      "Méthode de relaxation : [0.5, 2.117000016612675, 0.030755419069985038, 2.715711832754083, 0.0017034651847384463, 2.71827394057758, 0.001679913095081425, 2.7182741571849562, 0.0016799111168229455, 2.7182741572030236]\n",
      "-\n",
      "Méthode de relaxation accélérée avec un omega positif : [0.5, 2.925500024919012, -1.461967566177964, 1.2119856842107133, 0.3325336543122769, 3.4843146979755306, -1.742135579121078, 1.0670813829886672, 0.7722417461579775, 1.8597824101406184, -0.8015836989927958, 2.545339579397162, -1.2664079951530562, 1.45330801022112, -0.23335464330333916, 3.9780035948588695, -1.9890012505554808, 1.0725307067606389, 0.754380805294758, 1.9307942724338503]\n",
      "-\n",
      "Méthode de relaxation accélérée avec un omega négatif : [0.5, 1.3085000083063374, 0.8995386900546412, 1.0548962785603706, 0.9741100425513399, 1.013274151527915, 0.993451792512275, 1.0032954488944585, 0.9983577174248573, 1.000822488354106]\n"
     ]
    }
   ],
   "source": [
    "def fct_test(x):\n",
    "    # Équation qu'on souhaite tester\n",
    "    return np.exp(1 - x**2)\n",
    "\n",
    "def relax_acceleree(x, omega, N):      \n",
    "    # Méthode de relaxation accélérée\n",
    "    # N représente le nombre maximal d'itérations qu'on souhaite calculer. On n'a pas pris la peine ici\n",
    "    # d'inclure une précision seuil à atteindre pour les fins de l'exemple. On n'a pas non plus pris la peine \n",
    "    # de déterminer quel serait le omega optimal pour cette fonction test.\n",
    "    \n",
    "    x_prime = (1 + omega) * fct_test(x) - omega * x   # Calcul du prochain estimé\n",
    "        \n",
    "    estime = [x]  # Matrices de tous les estimés calculés grâce à N itérations\n",
    "    nb_iterations = 1\n",
    "    while nb_iterations < N:\n",
    "        estime.append(x_prime)\n",
    "        x = x_prime\n",
    "        x_prime = (1 + omega) * fct_test(x) - omega * x\n",
    "        nb_iterations += 1\n",
    "        \n",
    "    return estime\n",
    "\n",
    "print(\"Méthode de relaxation :\", relax_acceleree(1/2, 0, 10))\n",
    "print(\"-\")\n",
    "print(\"Méthode de relaxation accélérée avec un omega positif :\", relax_acceleree(1/2, 0.5, 20))\n",
    "print(\"-\")\n",
    "print(\"Méthode de relaxation accélérée avec un omega négatif :\", relax_acceleree(1/2, -0.5, 10))"
   ]
  },
  {
   "cell_type": "markdown",
   "metadata": {},
   "source": [
    "On voit que, avec la méthode de relaxation, l'estimé oscille entre 0,0017 et 2,7. Même si on fixait N à un très gros nombre, le programme n'atteindrait jamais la solution attendue qui est de 1. De même, on voit ici que l'utilisation de la méthode de relaxation avec un $\\omega$ positif ne fait qu'osciller de manière plus chaotique l'estimé. Après 20 itérations, il n'est toujours pas possible de dire la tendance que semble suivre le programme.\n",
    "\n",
    "On constate toutefois que, en utilisant la méthode de relaxation accélérée avec un $\\omega$ négatif, l'estimé converge rapidement vers la solution attendue. La convergence pourrait être encore plus rapide avec un choix plus approprié de $\\omega$, la valeur ici ayant été choisie aléatoirement pour les fins de l'exemple. Cela prouve que, pour certaines fonctions $f(x)$, il peut être avantageux d'opter pour un $\\omega$ négatif."
   ]
  }
 ],
 "metadata": {
  "kernelspec": {
   "display_name": "Python 3",
   "language": "python",
   "name": "python3"
  },
  "language_info": {
   "codemirror_mode": {
    "name": "ipython",
    "version": 3
   },
   "file_extension": ".py",
   "mimetype": "text/x-python",
   "name": "python",
   "nbconvert_exporter": "python",
   "pygments_lexer": "ipython3",
   "version": "3.9.1"
  }
 },
 "nbformat": 4,
 "nbformat_minor": 2
}
