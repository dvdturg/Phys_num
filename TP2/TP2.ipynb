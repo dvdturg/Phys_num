{
 "cells": [
  {
   "cell_type": "markdown",
   "metadata": {},
   "source": [
    "<h1><center>Physique numérique (PHY-3500)</center></h1>\n",
    "<h1><center>TP2 - Résolution d'équations non-linéaires</center></h1>"
   ]
  },
  {
   "cell_type": "markdown",
   "metadata": {},
   "source": [
    "## Nom des membres de l'équipe :\n",
    "\n",
    "### Nom, Prénom :  NI \n",
    "### Légaré, Ophélie : 111 182 608\n",
    "### Parrot, Anaïs : 111 184 980\n",
    "### Turgeon, David : 111 182 265"
   ]
  },
  {
   "cell_type": "markdown",
   "metadata": {},
   "source": [
    "### Importation des modules :"
   ]
  },
  {
   "cell_type": "code",
   "execution_count": 18,
   "metadata": {},
   "outputs": [],
   "source": [
    "import numpy as np\n",
    "import matplotlib.pyplot as plt\n",
    "from timeit import Timer,timeit"
   ]
  },
  {
   "cell_type": "markdown",
   "metadata": {},
   "source": [
    "# Introduction : "
   ]
  },
  {
   "cell_type": "markdown",
   "metadata": {},
   "source": [
    "De nombreux principes sont décrits par des équations non-linéaires; tels que le volume d'un gaz à faible pression selon la relation de Van der Waal, le mouvement des fluides newtoniens selon les équations de Navier-Stokes en mécanique des fluides ou le nombre d'individus dans une population selon sa vitesse d'évolution pour n'en nommer que quelques-uns. Il s'agit d'équations pour lesquelles un certain nombre d'itérations sont requises afin de converger vers la solution. Il est donc d'usage d'avoir recours à des méthodes numériques pour les résoudre.\n",
    "\n",
    "Dans cette étude, quatre méthodes numériques sont présentées et comparées entre elles soit les méthodes de la bissection et de la sécante, puis les méthodes de la relaxation et de la relaxation accélérée. Tout d'abord, les énergies des états vibrationnels d'une molécule diatomique neutre d'oxygène sont calculées selon la modélisation semi-classique du potentiel de Lennard-Jones et la quantification de Bohr-Sommerfeld. La vitesse de convergence vers l'énergie des états vibrationnels est comparée pour les méthodes de la bissection et de la sécante. Par la suite, le pourcentage de la population infectée au terme de la pandémie de la COVID-19 est évalué à l'aide de l'équation de la modélisation des pandémies. La vitesse de convergence vers le pourcentage est comparée pour les méthodes de relaxation et de relaxation accélérée."
   ]
  },
  {
   "cell_type": "markdown",
   "metadata": {},
   "source": [
    "# Le potentiel de Lennard-Jones"
   ]
  },
  {
   "cell_type": "markdown",
   "metadata": {},
   "source": [
    "Le potentiel de Lennard-Jones, aussi nommé le potentiel 6-12, permet de modéliser les états vibrationnels des molécules diatomiques neutres. Il est exprimé par \n",
    "$$V(r) = 4 V_0 \\left [\\left(\\frac{\\sigma}{r} \\right)^{12} - \\left(\\frac{\\sigma}{r} \\right)^6 \\right],$$\n",
    "où $V_0$ est une constante d'énergie qui représente la profondeur du puits de potentiel, $\\sigma$ est la longueur caractéristique d'une molécule donnée et $r$ est la séparation inter-nucléaire de la molécule diatomique.\n",
    "\n",
    "En tenant compte de la quantification de Bohr-Sommerfeld qui veut que l'action classique soit un multiple demi-entier de $2π$ pour certaines énergies discrètes $E_n$, on obtient l'action \n",
    "\n",
    "\\begin{align}\n",
    "s(\\epsilon_n) = \\frac{1}{2} S(\\epsilon_n V_0) = \\gamma \\int_{x-}^{x+} \\left [\\epsilon_n - v(x) \\right]^{1/2} dx =  (n + 1/2)π\n",
    "\\end{align}\n",
    "\n",
    "et le potentiel\n",
    "\n",
    "\\begin{align}\n",
    "v(x) = 4 \\left [\\left(\\frac{1}{x} \\right)^{12} - \\left(\\frac{1}{x} \\right)^6 \\right].\n",
    "\\end{align}\n",
    "\n",
    "Les variables adimensionnelles utilisées sont \n",
    "\n",
    "\\begin{align}\n",
    "\\epsilon = \\frac{E}{V_0},\n",
    "\\end{align}\n",
    "\n",
    "\\begin{align}\n",
    "x = \\frac{r}{\\sigma}\n",
    "\\end{align}\n",
    "\n",
    "et \n",
    "\n",
    "\\begin{align}\n",
    "\\gamma = \\left(\\frac{2 \\mu \\sigma^2 V_0}{\\hbar^2} \\right)^{1/2}.\n",
    "\\end{align}"
   ]
  },
  {
   "cell_type": "markdown",
   "metadata": {},
   "source": [
    "## Question 1 :\n",
    "Les points de rebroussement, soit les bornes de l'intégrale de l'équation de l'action, sont détermniées en fonction de l'énergie $\\epsilon_n$. Ces points de rebroussement se situe lorsque l'impulsion locale p(r) est nulle.\n",
    "\n",
    "$$p(r) = ±[2\\mu(\\epsilon_n V0-V(r))]^{1/2}$$\n",
    "\n",
    "Pour pouvoir déterminé les zéros de cette fonction on peut seulement considéré la parenthèse $(\\epsilon_n\\cdot V0-V(r))$ qui est l'élément variable de la fonction. Ainsi il reste à déterminer lorsque $\\epsilon_n V_0 = V(r)$.\n",
    "\n",
    "$$ \n",
    "\\epsilon_nV_0 = 4 V_0 \\left [\\left(\\frac{\\sigma}{r} \\right)^{12} - \\left(\\frac{\\sigma}{r} \\right)^6 \\right] \\\\\n",
    "$$\n",
    "Si on applique la substitution $\\left(\\frac{\\sigma}{r} \\right)^{6} = y^{-1}$,\n",
    "$$\n",
    "\\epsilon_n = 4\\left(y^{-2}-y^{-1}\\right) \\\\\n",
    "\\epsilon_n y^2 = 4(1-y) \\\\\n",
    "\\epsilon_n y^2 +4y + 4 = 0 \\\\\n",
    "y = \\frac{-4\\pm\\sqrt{16-4\\cdot-4\\cdot\\epsilon_n}}{2\\epsilon_n} \\\\\n",
    "y = \\frac{-2\\pm2\\sqrt{1+\\epsilon_n}}{\\epsilon_n}\\\\\n",
    "r = \\sigma\\left(\\frac{-2\\pm2\\sqrt{1+\\epsilon_n}}{\\epsilon_n}\\right)^{1/6}\n",
    "$$\n",
    "\n",
    "Ainsi les points de rebroussement se retrouveront à $\\sigma\\left(\\frac{-2\\pm2\\sqrt{1+\\epsilon_n}}{\\epsilon_n}\\right)^{1/6}$."
   ]
  },
  {
   "cell_type": "code",
   "execution_count": 2,
   "metadata": {},
   "outputs": [],
   "source": [
    "rebroussement_pts = lambda sigma,epsilon_n :(sigma*((-2+2*(1+epsilon_n)**0.5)/epsilon_n)**(1/6),\n",
    "                                             sigma*((-2-2*(1+epsilon_n)**0.5)/epsilon_n)**(1/6))\n"
   ]
  },
  {
   "cell_type": "markdown",
   "metadata": {},
   "source": [
    "## Question 2 :\n",
    "On cherche l'énergie $\\epsilon$ en fonciton de l'état vibrationnel $n$ d'une molécule et de la valeur $\\gamma$ qui lui est propre, et cela avec une précision de 10$^{-8}$."
   ]
  },
  {
   "cell_type": "code",
   "execution_count": 3,
   "metadata": {},
   "outputs": [],
   "source": [
    "from scipy.integrate import quad\n",
    "\n",
    "def bissection(a,b,fonction,val = 0,prec = 1e-16,*args): # val est pour trouver une valeur autre que 0\n",
    "    if (fonction(a,*args) > val and fonction(b,*args) < val) or (fonction(a,*args) < val and fonction(b,*args) > val):\n",
    "        if fonction(a,*args) > fonction(b,*args):\n",
    "            p_0,m_0 = a,b\n",
    "        else:\n",
    "            p_0,m_0 = b,a\n",
    "        x = (a+b)/2\n",
    "        f_x = fonction(x,*args)\n",
    "        if (-prec*val+val < f_x) and (f_x < prec*val+val):\n",
    "            return x\n",
    "        else:\n",
    "            if f_x > val:\n",
    "                return bissection(x,m_0,fonction,val = val,prec = prec,*args)\n",
    "            else:\n",
    "                return bissection(x,p_0,fonction,val = val,prec = prec,*args)\n",
    "    else:\n",
    "        print(fonction(a,*args),fonction(b,*args))\n",
    "        raise ValueError(f\"La fonction ne passe pas par {val} dans cet intervalle.\")\n",
    "\n",
    "def integral(epsilon_n):\n",
    "    v = lambda y: (epsilon_n-4*((y)**(-12)-(y)**(-6)))**0.5\n",
    "    return quad(v,rebroussement_pts(1,epsilon_n)[0],rebroussement_pts(1,epsilon_n)[1],epsrel = 1e-8)[0]\n",
    "def energie_bissection(n,gamma):\n",
    "    epsilon_n = bissection(-0.999,-1e-9,integral,prec = 1e-8,val = (n+1/2)*np.pi/gamma)\n",
    "    return epsilon_n, rebroussement_pts(1,epsilon_n)\n",
    "\n",
    "def secante(a,b,fonction,val = 0,prec = 1e-16,*args):\n",
    "    x = (val-fonction(a,*args))*(a-b)/(fonction(a,*args)-fonction(b,*args))+a\n",
    "    y = lambda x: (x-a)*(fonction(a,*args)-fonction(b,*args))/(a-b)+fonction(a,*args) # sécante passant par les point f(a) et f(b)\n",
    "    if (-prec+val < fonction(x,*args)) and (fonction(x,*args) < prec+val):\n",
    "        return x\n",
    "    else:\n",
    "        return secante(b,x,fonction,val = val, prec = prec,*args)\n",
    "\n",
    "def energie_secante(n,gamma):\n",
    "    epsilon_n = secante(-0.999,-1e-9,integral,prec = 1e-8,val = (n+1/2)*np.pi/gamma)\n",
    "    return epsilon_n, rebroussement_pts(1,epsilon_n)"
   ]
  },
  {
   "cell_type": "markdown",
   "metadata": {},
   "source": [
    "## Question 3 :"
   ]
  },
  {
   "cell_type": "code",
   "execution_count": 4,
   "metadata": {},
   "outputs": [
    {
     "data": {
      "image/png": "[encoded data removed]",
      "text/plain": [
       "<Figure size 432x288 with 1 Axes>"
      ]
     },
     "metadata": {
      "needs_background": "light"
     },
     "output_type": "display_data"
    },
    {
     "data": {
      "image/png": "[encoded data removed]",
      "text/plain": [
       "<Figure size 432x288 with 1 Axes>"
      ]
     },
     "metadata": {
      "needs_background": "light"
     },
     "output_type": "display_data"
    }
   ],
   "source": [
    "n = np.linspace(1,2.5,1000)\n",
    "v = lambda x: 4*((x)**-12-(x)**-6)\n",
    "plt.plot(n, [v(i) for i in n])\n",
    "for i in range(0,20):\n",
    "    plt.plot([energie_bissection(i,150)[1][0],energie_bissection(i,150)[1][1]],\n",
    "             [energie_bissection(i,150)[0]]*2)\n",
    "plt.xlabel(\"Séparation inter-nucléaire [-]\")\n",
    "plt.ylabel(\"$\\epsilon_n$ [-]\")\n",
    "plt.title(\"Graphique obtenu à l'aide de la méthode de la bissection\")\n",
    "plt.show()\n",
    "\n",
    "n = np.linspace(1,2.5,1000)\n",
    "v = lambda x: 4*((x)**-12-(x)**-6)\n",
    "plt.plot(n, [v(i) for i in n])\n",
    "for i in range(0,20):\n",
    "    plt.plot([energie_secante(i,150)[1][0],energie_secante(i,150)[1][1]],\n",
    "             [energie_secante(i,150)[0]]*2)\n",
    "plt.xlabel(\"Séparation inter-nucléaire [-]\")\n",
    "plt.ylabel(\"$\\epsilon_n$ [-]\")\n",
    "plt.title(\"Graphique obtenu à l'aide de la méthode de la sécante\")\n",
    "plt.show()"
   ]
  },
  {
   "cell_type": "markdown",
   "metadata": {},
   "source": [
    "## Question 4 :\n",
    "Les vitesses de convergence pour la méthode de la bissection et celle de la sécante sont comparées à l'aide du module timeit."
   ]
  },
  {
   "cell_type": "code",
   "execution_count": 41,
   "metadata": {
    "scrolled": true
   },
   "outputs": [],
   "source": [
    "def temps_bissection(val,fonction,*args):\n",
    "    for i in val:\n",
    "        bissection(-0.999,-1e-9,fonction,val = 0,prec = 1e-16,*args)\n",
    "    \n",
    "def temps_secante(val,fonction,*args):\n",
    "    for i in val:\n",
    "        secante(-0.999,-1e-9,fonction,val = 0,prec = 1e-16,*args)"
   ]
  },
  {
   "cell_type": "code",
   "execution_count": 45,
   "metadata": {},
   "outputs": [
    {
     "name": "stderr",
     "output_type": "stream",
     "text": [
      "<>:1: SyntaxWarning: 'str' object is not callable; perhaps you missed a comma?\n",
      "<>:2: SyntaxWarning: 'str' object is not callable; perhaps you missed a comma?\n",
      "<>:1: SyntaxWarning: 'str' object is not callable; perhaps you missed a comma?\n",
      "<>:2: SyntaxWarning: 'str' object is not callable; perhaps you missed a comma?\n",
      "<ipython-input-45-065e5ae3669a>:1: SyntaxWarning: 'str' object is not callable; perhaps you missed a comma?\n",
      "  print(\"Le temps de convergence vers la solution pour la méthode de la bissection est de\" (timeit(\"temps_bissection(val = (n+1/2)*np.pi/gamma,energie_bissection,prec = 1e-8)\")))\n"
     ]
    },
    {
     "ename": "SyntaxError",
     "evalue": "positional argument follows keyword argument (<timeit-src>, line 2)",
     "output_type": "error",
     "traceback": [
      "Traceback \u001b[1;36m(most recent call last)\u001b[0m:\n",
      "  File \u001b[0;32m\"C:\\Users\\ANPAR237\\Anaconda3\\lib\\site-packages\\IPython\\core\\interactiveshell.py\"\u001b[0m, line \u001b[0;32m3343\u001b[0m, in \u001b[0;35mrun_code\u001b[0m\n    exec(code_obj, self.user_global_ns, self.user_ns)\n",
      "  File \u001b[0;32m\"<ipython-input-45-065e5ae3669a>\"\u001b[0m, line \u001b[0;32m1\u001b[0m, in \u001b[0;35m<module>\u001b[0m\n    print(\"Le temps de convergence vers la solution pour la méthode de la bissection est de\" (timeit(\"temps_bissection(val = (n+1/2)*np.pi/gamma,energie_bissection,prec = 1e-8)\")))\n",
      "  File \u001b[0;32m\"C:\\Users\\ANPAR237\\Anaconda3\\lib\\timeit.py\"\u001b[0m, line \u001b[0;32m233\u001b[0m, in \u001b[0;35mtimeit\u001b[0m\n    return Timer(stmt, setup, timer, globals).timeit(number)\n",
      "\u001b[1;36m  File \u001b[1;32m\"C:\\Users\\ANPAR237\\Anaconda3\\lib\\timeit.py\"\u001b[1;36m, line \u001b[1;32m122\u001b[1;36m, in \u001b[1;35m__init__\u001b[1;36m\u001b[0m\n\u001b[1;33m    compile(stmtprefix + stmt, dummy_src_name, \"exec\")\u001b[0m\n",
      "\u001b[1;36m  File \u001b[1;32m\"<timeit-src>\"\u001b[1;36m, line \u001b[1;32m2\u001b[0m\n\u001b[1;31mSyntaxError\u001b[0m\u001b[1;31m:\u001b[0m positional argument follows keyword argument\n"
     ]
    }
   ],
   "source": [
    "print(\"Le temps de convergence vers la solution pour la méthode de la bissection est de\" (timeit(\"temps_bissection(val = (n+1/2)*np.pi/gamma,energie_bissection,prec = 1e-8)\")))\n",
    "print(\"Le temps de convergence vers la solution pour la méthode de la sécante est de\" (timeit(\"temps_secante(val = (n+1/2)*np.pi/gamma,energie_secante,prec = 1e-8)\")))"
   ]
  },
  {
   "cell_type": "markdown",
   "metadata": {},
   "source": [
    "# Pandémie et relaxation"
   ]
  },
  {
   "cell_type": "markdown",
   "metadata": {},
   "source": [
    "Afin de modéliser le nombre de personnes qui seront infectées au terme de la pandémie de la COVID-19, on utilise l'équation :\n",
    "\n",
    "$$p = 1 - e^{-R_0 p} \\ ,$$\n",
    "\n",
    "où $R_0$ est le nombre de reproduction de base et $p$ le pourcentage de la population qui aura été infecté. Cette équation permet de modéliser n'importe quelle pandémie.\n",
    "\n",
    "Nous allons essayer ici de déterminer le pourcentage $p$ pour un nombre $R_0$ donné grâce à la méthode de relaxation."
   ]
  },
  {
   "cell_type": "markdown",
   "metadata": {},
   "source": [
    "## Question 5 :\n",
    "On veut évaluer le pourcentage $p$ de la population qui aura ́eté infecté au terme de la pandémie de la COVID-19 grâce à la méthode de la relaxation, et ce, pour un nombre de reproduction de base $R_0$ entre 0 et 5,7 à une précision de 10$^{-6}$."
   ]
  },
  {
   "cell_type": "markdown",
   "metadata": {},
   "source": [
    "Pour calculer l'erreur faite sur l'estimation de la solution, il nous faut la dérivée de l'équation utilisée. Dans ce cas, la dérivée est très simple à calculer :\n",
    "$$ \\frac{d}{dx} \\left[1-\\exp(-R_0 p)\\right] = R_0\\exp(-R_0 p) $$\n",
    "\n",
    "L'erreur sur l'estimé se calcule comme :\n",
    "$$ \\epsilon' \\approx \\frac{x-x'}{1-1/f'(x)} $$\n",
    "\n",
    "Comme $p$ ne peut être compris que entre 0 et 1, nous choissions aléatoirement $p = 0,1$ comme valeur initiale."
   ]
  },
  {
   "cell_type": "code",
   "execution_count": 6,
   "metadata": {},
   "outputs": [],
   "source": [
    "def modele_pandemie(p, R_0):\n",
    "    # Équation du modèle des pandémies\n",
    "    return 1 - np.exp(-R_0*p)\n",
    "\n",
    "def derivee_modele_pandemie(p, R_0):\n",
    "    # Dérivée de l'équation du modèle des pandémies\n",
    "    return R_0 * np.exp(-R_0*p)\n",
    "\n",
    "def erreur_estime(p, R_0, p_prime):\n",
    "    # Erreur sur l'estimé calculé grâce à la méthode de relaxation\n",
    "    return (p - p_prime) / (1 - 1/(derivee_modele_pandemie(p, R_0)))\n",
    "\n",
    "def relaxation(p, R_0, precision):\n",
    "    # Méthode de relaxation\n",
    "    p_prime = modele_pandemie(p, R_0)  # Calcul du prochain estimé\n",
    "    \n",
    "    nb_iterations = 1\n",
    "    while abs(erreur_estime(p, R_0, p_prime)) > precision:\n",
    "        # Calcul du nombre d'itérations nécessaire pour que l'estimé atteigne la précision voulue\n",
    "        p = p_prime\n",
    "        p_prime = modele_pandemie(p, R_0)\n",
    "        nb_iterations += 1 \n",
    "        \n",
    "    return p_prime, nb_iterations"
   ]
  },
  {
   "cell_type": "code",
   "execution_count": 7,
   "metadata": {},
   "outputs": [
    {
     "name": "stderr",
     "output_type": "stream",
     "text": [
      "<ipython-input-6-8469909ae0dc>:11: RuntimeWarning: divide by zero encountered in double_scalars\n",
      "  return (p - p_prime) / (1 - 1/(derivee_modele_pandemie(p, R_0)))\n"
     ]
    },
    {
     "data": {
      "image/png": "[encoded data removed]",
      "text/plain": [
       "<Figure size 432x288 with 1 Axes>"
      ]
     },
     "metadata": {
      "needs_background": "light"
     },
     "output_type": "display_data"
    }
   ],
   "source": [
    "valeurs_R_0 = np.linspace(0, 5.7, 571)\n",
    "\n",
    "valeurs_p = []\n",
    "for i in valeurs_R_0:\n",
    "    valeurs_p.append(relaxation(0.1, i, 10e-6)[0])\n",
    "    \n",
    "plt.figure()\n",
    "plt.plot(valeurs_R_0, valeurs_p)\n",
    "plt.xlabel(\"Nombre de reproduction $R_0$\")\n",
    "plt.ylabel(\"Pourcentage de la population [%]\")\n",
    "plt.show()"
   ]
  },
  {
   "cell_type": "markdown",
   "metadata": {},
   "source": [
    "Tel qu'attendu, on constate que $p$ varie entre 0 et 1. Lorsque $R_0$ est inférieur à 1, $p$ est environ nul puisque le résultat de l'exponentielle dans l'équation de modélisation des pandémies tend vers 1. $R_0 = 1$ correspond donc au seuil épidémique. "
   ]
  },
  {
   "cell_type": "markdown",
   "metadata": {},
   "source": [
    "# Pandémie et relaxation accélérée"
   ]
  },
  {
   "cell_type": "markdown",
   "metadata": {},
   "source": [
    "On constate à la précédente question que cela prend un certain temps avant que la solution converge avec la précision voulue en utilisant la méthode de relaxation. On va donc recommencer avec la méthode de relaxation accélérée. Cette méthode consiste à prendre l'estimation calculée à chaque itération et à la projeter un peu plus loin en espérant que cela nous rapproche de la vraie solution, ce qui permettrait d'accélérer le processus de relaxation."
   ]
  },
  {
   "cell_type": "markdown",
   "metadata": {},
   "source": [
    "## Question 6 :"
   ]
  },
  {
   "cell_type": "markdown",
   "metadata": {},
   "source": [
    "Le calcul pour obtenir l'erreur sur l'estimé $x'$ de la méthode de relaxation accélérée est présenté ci-dessous. Il s'agit d'une démarche similaire à celui pour la méthode de relaxation.\n",
    "\n",
    "On cherche la solution $x^*$ de la fonction $f(x)$ évaluée par itérations à différentes valeurs de $x$, soit $x$, $x'$, $x''$ et ainsi de suite. La solution $x^*$ peut être exprimée, pour toutes itérations, par la somme du point d'évaluation de la fonction et de l'erreur $\\epsilon$ commise sur cette même itération, tel que :\n",
    "\n",
    "\\begin{align}\n",
    "x^* = x + \\epsilon = x' + \\epsilon' = x'' + \\epsilon'' , \\ etc.\n",
    "\\end{align}\n",
    "\n",
    "On peut exprimer l'erreur sur la deuxième itération $\\epsilon$' par une série de Taylor :\n",
    "\n",
    "\\begin{align}\n",
    "\\epsilon' = x^* - x' = (x^* - x) f'(x^* )\\ +\\ ...\n",
    "\\end{align}\n",
    "\n",
    "En négligeant les termes subséquents, cela correspond à \n",
    "\n",
    "\\begin{align}\n",
    "\\epsilon' = x^* - x' = \\epsilon f'(x^* ) \\ .\n",
    "\\end{align}\n",
    "\n",
    "Dans le cas de la relaxation accélérée, le deuxième point d'itération est donné par :\n",
    "\n",
    "\\begin{align}\n",
    "x' = f(x) = x + (1 + \\omega) \\Delta x = x + (1 + \\omega) (f(x) -x) = (1 + \\omega) f(x) - x \\omega \\ .\n",
    "\\end{align}\n",
    "\n",
    "Par conséquent,\n",
    "\n",
    "\\begin{align}\n",
    "f(x^* ) = (1 + \\omega) f(x^* ) - x^* \\omega\\ .\n",
    "\\end{align}\n",
    "\n",
    "La dérivée par rapport à $x$ de la fonction autour de sa solution $x^*$ est \n",
    "\n",
    "\\begin{align}\n",
    "f'(x^* ) = (1 + \\omega) f'(x^* ) - \\omega\\ .\n",
    "\\end{align}\n",
    "\n",
    "On procède donc à isoler $\\epsilon'$ de la première équation.\n",
    "\n",
    "\\begin{align}\n",
    "x - x' = \\epsilon' - \\epsilon\n",
    "\\end{align}\n",
    "\n",
    "\\begin{align}\n",
    "x - x' = \\epsilon' - \\frac{\\epsilon'}{f'(x^* )}\n",
    "\\end{align}\n",
    "\n",
    "\\begin{align}\n",
    "x - x' = \\epsilon' \\left [1 - \\frac{1}{f'(x^* )} \\right]\n",
    "\\end{align}\n",
    "\n",
    "\\begin{align}\n",
    "x - x' = \\epsilon' \\left [1 - \\frac{1}{(1 + \\omega) f'(x^* ) - \\omega} \\right]\n",
    "\\end{align}\n",
    "\n",
    "\\begin{align}\n",
    "\\epsilon' = \\frac{x - x'}{1 - \\frac{1}{(1 + \\omega) f'(x^* ) - \\omega}}\n",
    "\\end{align}\n",
    "\n",
    "Finalement, en approximant que $x$ est situé près de $x^*$, on a que\n",
    "\n",
    "\\begin{align}\n",
    "\\epsilon' \\approx \\frac{x - x'}{1 - \\frac{1}{(1 + \\omega) f'(x) - \\omega}}.\n",
    "\\end{align}"
   ]
  },
  {
   "cell_type": "markdown",
   "metadata": {},
   "source": [
    "## Question 7 :"
   ]
  },
  {
   "cell_type": "markdown",
   "metadata": {},
   "source": [
    "Afin de comparer la vitesse de convergence de la méthode de relaxation et de la méthode de relaxation accélérée, on regarde le nombre d'itérations nécessaire pour atteindre une précision de $10^{-6}$ avec $R_0 = 2$ pour la précédente équation décrivant un modèle des pandémies."
   ]
  },
  {
   "cell_type": "code",
   "execution_count": 8,
   "metadata": {},
   "outputs": [
    {
     "name": "stdout",
     "output_type": "stream",
     "text": [
      "Il faut 16 itérations pour atteindre la précision voulue avec la méthode de relaxation. Cela donne p = 0.7968062132149596\n"
     ]
    }
   ],
   "source": [
    "solution = relaxation(0.1, 2, 10e-6)\n",
    "print(\"Il faut\", solution[1], \"itérations pour atteindre la précision voulue avec la méthode de relaxation. Cela donne p =\", solution[0])"
   ]
  },
  {
   "cell_type": "markdown",
   "metadata": {},
   "source": [
    "## Question 8 :"
   ]
  },
  {
   "cell_type": "markdown",
   "metadata": {},
   "source": [
    "Pour évaluer la précision de la méthode de relaxation accélérée, on reprend l'équation de l'erreur sur l'estimé $\\epsilon'$ démontré à la question 6."
   ]
  },
  {
   "cell_type": "code",
   "execution_count": 9,
   "metadata": {},
   "outputs": [],
   "source": [
    "def erreur_estime_accelere(p, p_prime, R_0, omega):\n",
    "    # Erreur sur l'estimé calculé grâce à la méthode de relaxation accélérée\n",
    "    long_terme = (1 + omega) * derivee_modele_pandemie(p, R_0) - omega\n",
    "    return (p - p_prime) / (1 - 1/long_terme)\n",
    "\n",
    "def relaxation_acceleree(p, R_0, omega, precision):\n",
    "    # Méthode de relaxation accélérée\n",
    "    p_prime = (1 + omega) * modele_pandemie(p, R_0) - omega * p   # Calcul du prochain estimé\n",
    "        \n",
    "    nb_iterations = 1\n",
    "    while abs(erreur_estime_accelere(p, p_prime, R_0, omega)) > precision:\n",
    "        # Calcul du nombre d'itérations nécessaire pour que l'estimé atteigne la précision voulue\n",
    "        p = p_prime\n",
    "        p_prime = (1 + omega) * modele_pandemie(p, R_0) - omega * p\n",
    "        nb_iterations += 1\n",
    "        \n",
    "    return p_prime, nb_iterations"
   ]
  },
  {
   "cell_type": "markdown",
   "metadata": {},
   "source": [
    "On prend le point de départ donné à 0,5 pour $\\omega$ et on regarde le nombre d'itérations nécessaire pour atteindre une précision de $10^{-6}$. On augmente alors graduellement la valeur de $\\omega$ pour déterminer la valeur optimale de ce paramètre. On teste également de poser $\\omega$ à une valeur inférieure à 0,5 pour voir si la valeur optimale ne se trouverait pas plutôt dans cette direction."
   ]
  },
  {
   "cell_type": "code",
   "execution_count": 12,
   "metadata": {},
   "outputs": [
    {
     "data": {
      "image/png": "[encoded data removed]",
      "text/plain": [
       "<Figure size 432x288 with 1 Axes>"
      ]
     },
     "metadata": {
      "needs_background": "light"
     },
     "output_type": "display_data"
    }
   ],
   "source": [
    "omega = np.linspace(0.3, 1, 1000)\n",
    "\n",
    "iterations = []\n",
    "for i in omega:\n",
    "    iterations.append(relaxation_acceleree(0.1, 2, i, 10e-6)[1])\n",
    "    \n",
    "plt.figure()\n",
    "plt.plot(omega, iterations)\n",
    "plt.xlabel(\"Valeur de $\\omega$\")\n",
    "plt.ylabel(\"Nombre d'itérations\")\n",
    "plt.show()"
   ]
  },
  {
   "cell_type": "markdown",
   "metadata": {},
   "source": [
    "D'après ce graphique, la méthode de relaxation accélérée semble plus rapide lorsque $\\omega$ vaut aux alentours de 0,696 et de 0,768. On pose donc que le $\\omega$ optimal pour cette fonction est la moyenne de ces deux valeurs, soit à 0,732. On peut ainsi estimer la fonction de modélisation des pandémies avec ce $\\omega$ optimal et pour $R_0$ = 2, en souhaitant une précision de $10^{-6}$, et déterminer le nombre d'itérations nécessaire pour y parvenir en partant de $p$ = 0,1."
   ]
  },
  {
   "cell_type": "code",
   "execution_count": 13,
   "metadata": {},
   "outputs": [
    {
     "name": "stdout",
     "output_type": "stream",
     "text": [
      "Il faut 6 itérations pour atteindre la précision voulue avec la méthode de relaxation accélérée. Cela donne p = 0.7968105208881933\n"
     ]
    }
   ],
   "source": [
    "sln = relaxation_acceleree(0.1, 2, 0.732, 10e-6)\n",
    "print(\"Il faut\", sln[1], \"itérations pour atteindre la précision voulue avec la méthode de relaxation accélérée. Cela donne p =\", sln[0])"
   ]
  },
  {
   "cell_type": "markdown",
   "metadata": {},
   "source": [
    "Juste avec cet exemple, la méthode de relaxation accélérée a permis de s'épargner 10 itérations supplémentaires pour les mêmes paramètres. La méthode est donc bel et bien plus rapide et donne un estimé semblable pour la précision voulue."
   ]
  },
  {
   "cell_type": "markdown",
   "metadata": {},
   "source": [
    "## Question 9 :"
   ]
  },
  {
   "cell_type": "markdown",
   "metadata": {},
   "source": [
    "Normalement, pour la méthode de relaxation accélérée, on utilise une valeur de $\\omega$ supérieure à 0 afin de converger vers la solution. Pour rappel, choisir un $\\omega$ égal à 0 revient simplement à la méthode de relaxation. Cependant, dans certains cas, il peut être préférable que $\\omega$ soit inférieur à 0 lorsque la méthode ne permet pas autrement de converger vers la solution. On parle, par exemple, lorsque l'estimé calculé oscille entre des valeurs supérieures et inférieures à la solution attendue.\n",
    "\n",
    "Les prochaines lignes de code présentent un exemple où la méthode de relaxation semble, à priori, dans l'incapacité de converger vers une solution. Pourtant, en utilisant la méthode de relaxation accélérée avec un facteur $\\omega$ négatif, il devient finalement possible de converger vers la valeur attendue. \n",
    "\n",
    "L'exemple utilise la fonction $x = \\exp(1-x^2)$, où la solution est simplement $x = 1$. "
   ]
  },
  {
   "cell_type": "code",
   "execution_count": 14,
   "metadata": {},
   "outputs": [
    {
     "name": "stdout",
     "output_type": "stream",
     "text": [
      "Méthode de relaxation : [0.5, 2.117000016612675, 0.030755419069985038, 2.715711832754083, 0.0017034651847384463, 2.71827394057758, 0.001679913095081425, 2.7182741571849562, 0.0016799111168229455, 2.718274157203024]\n",
      "-\n",
      "Méthode de relaxation accélérée avec un omega positif : [0.5, 2.925500024919012, -1.461967566177964, 1.2119856842107133, 0.3325336543122769, 3.4843146979755306, -1.742135579121078, 1.0670813829886672, 0.7722417461579775, 1.8597824101406184, -0.8015836989927958, 2.545339579397162, -1.2664079951530562, 1.45330801022112, -0.23335464330333916, 3.9780035948588695, -1.9890012505554808, 1.0725307067606389, 0.754380805294758, 1.9307942724338503]\n",
      "-\n",
      "Méthode de relaxation accélérée avec un omega négatif : [0.5, 1.3085000083063374, 0.8995386900546412, 1.0548962785603706, 0.9741100425513399, 1.013274151527915, 0.993451792512275, 1.0032954488944585, 0.9983577174248573, 1.000822488354106]\n"
     ]
    }
   ],
   "source": [
    "def fct_test(x):\n",
    "    # Équation qu'on souhaite tester\n",
    "    return np.exp(1 - x**2)\n",
    "\n",
    "def relax_acceleree(x, omega, N):      \n",
    "    # Méthode de relaxation accélérée\n",
    "    # N représente le nombre maximal d'itérations qu'on souhaite calculer. On n'a pas pris la peine ici\n",
    "    # d'inclure une précision seuil à atteindre pour les fins de l'exemple. On n'a pas non plus pris la peine \n",
    "    # de déterminer quel serait le omega optimal pour cette fonction test.\n",
    "    \n",
    "    x_prime = (1 + omega) * fct_test(x) - omega * x   # Calcul du prochain estimé\n",
    "        \n",
    "    estime = [x]  # Matrices de tous les estimés calculés grâce à N itérations\n",
    "    nb_iterations = 1\n",
    "    while nb_iterations < N:\n",
    "        estime.append(x_prime)\n",
    "        x = x_prime\n",
    "        x_prime = (1 + omega) * fct_test(x) - omega * x\n",
    "        nb_iterations += 1\n",
    "        \n",
    "    return estime\n",
    "\n",
    "print(\"Méthode de relaxation :\", relax_acceleree(1/2, 0, 10))\n",
    "print(\"-\")\n",
    "print(\"Méthode de relaxation accélérée avec un omega positif :\", relax_acceleree(1/2, 0.5, 20))\n",
    "print(\"-\")\n",
    "print(\"Méthode de relaxation accélérée avec un omega négatif :\", relax_acceleree(1/2, -0.5, 10))"
   ]
  },
  {
   "cell_type": "markdown",
   "metadata": {},
   "source": [
    "On voit que, avec la méthode de relaxation, l'estimé oscille entre 0,0017 et 2,7. Même si on fixait N à un très gros nombre, le programme n'atteindrait jamais la solution attendue qui est de 1. De même, on voit ici que l'utilisation de la méthode de relaxation avec un $\\omega$ positif ne fait qu'osciller de manière plus chaotique l'estimé. Après 20 itérations, il n'est toujours pas possible de dire la tendance que semble suivre le programme.\n",
    "\n",
    "On constate toutefois que, en utilisant la méthode de relaxation accélérée avec un $\\omega$ négatif, l'estimé converge rapidement vers la solution attendue. La convergence pourrait être encore plus rapide avec un choix plus approprié de $\\omega$, la valeur ici ayant été choisie aléatoirement pour les fins de l'exemple. Cela prouve que, pour certaines fonctions $f(x)$, il peut être avantageux d'opter pour un $\\omega$ négatif."
   ]
  },
  {
   "cell_type": "code",
   "execution_count": null,
   "metadata": {},
   "outputs": [],
   "source": []
  }
 ],
 "metadata": {
  "kernelspec": {
   "display_name": "Python 3",
   "language": "python",
   "name": "python3"
  },
  "language_info": {
   "codemirror_mode": {
    "name": "ipython",
    "version": 3
   },
   "file_extension": ".py",
   "mimetype": "text/x-python",
   "name": "python",
   "nbconvert_exporter": "python",
   "pygments_lexer": "ipython3",
   "version": "3.8.3"
  }
 },
 "nbformat": 4,
 "nbformat_minor": 2
}
