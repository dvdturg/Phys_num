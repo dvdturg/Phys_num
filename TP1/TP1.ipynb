{
 "cells": [
  {
   "cell_type": "markdown",
   "metadata": {},
   "source": [
    "<h1><center>Physique numérique (PHY-3500)</center></h1>\n",
    "<h1><center>TP1 - Intégration numérique</center></h1>"
   ]
  },
  {
   "cell_type": "markdown",
   "metadata": {},
   "source": [
    "## Nom des membres de l'équipe:\n",
    "\n",
    "### Légaré, Ophélie : 111 182 608\n",
    "### Parrot, Anaïs : 111 184 980\n",
    "### Turgeon, David : 111 182 265"
   ]
  },
  {
   "cell_type": "markdown",
   "metadata": {},
   "source": [
    "### Importation des modules :"
   ]
  },
  {
   "cell_type": "code",
   "execution_count": 42,
   "metadata": {},
   "outputs": [],
   "source": [
    "import numpy as np\n",
    "import matplotlib.pyplot as plt\n",
    "import seaborn as sns\n",
    "import scipy.constants as cte\n",
    "import scipy.stats as sta\n",
    "from scipy.stats import moyal\n",
    "import timeit\n",
    "import scipy.integrate as sci\n",
    "from scipy.integrate import quad"
   ]
  },
  {
   "cell_type": "markdown",
   "metadata": {},
   "source": [
    "# Introduction : \n",
    "\n",
    "La radiothérapie externe est une méthode employée notamment dans le domaine de la radio-oncologie au CHUM pour le traitement du cancer. La radiothérapie externe traite les tumeurs au moyen de faisceaux de rayons-X, d'électrons ou de hadrons. La protonthérapie, quant à elle, est une branche spécifique de la radiothérapie visant à traiter les tumeurs peu profondes telles que les mélanomes oculaires à l'aide de faisceaux de protons de faible énergie. Cette technique permet d'optimiser la ballistique du faisceau afin de cibler la tumeur tout en épargnant les tissus sains.\n",
    "\n",
    "Dans cette étude, on cherche à planifier et prédire la dose reçue par un patient suivant un traitement de protonthérapie. Pour ce faire, la portée des protons dans la matière est déterminée à l'aide de méthodes d'intégration numérique, soit la méthode des trapèzes et la méthode de Simpson. Par la suite, les algorithmes sont comparés à une distribution de Moyal. Le calcul de l'énergie déposée par le faisceau de protons à la tumeur est réalisé à partir de son énergie cinétique. Finalement, le réalisme du modèle d'intégration numérique développé est discuté."
   ]
  },
  {
   "cell_type": "markdown",
   "metadata": {},
   "source": [
    "# Équations utiles :\n",
    "\n",
    "Pouvoir d'arrêt collisionnel massique :\n",
    "\n",
    "\\begin{align}\n",
    "\\frac{S_{col}}{\\rho} = -\\left(\\frac{dT}{\\rho dx}\\right) = NZ\\int^{T_e^{max}}_0 T \\left(\\frac{d\\sigma}{dT'}\\right)_{col}dT'\n",
    "\\end{align}\n",
    "\n",
    "L'énergie maximale transférable à un électron par le proton :\n",
    "\n",
    "\\begin{align}\n",
    "T_e^{max} = \\frac{2m_ec^2(\\gamma^2-1)}{1+2\\gamma\\frac{m_e}{m_p}+\\left(\\frac{m_e}{m_p}\\right)^2}\n",
    "\\end{align}\n",
    "\n",
    "Pouvoir d'arrêt collisionnel pour les protons :\n",
    "\n",
    "\\begin{align}\n",
    "-\\left(\\frac{dT}{dx}\\right)_{col} = 2\\pi r_e^2 m_e c^2 n_e \\frac{Z^2}{\\beta^2}\\left [\\ln\\left(\\frac{2m_e c^2(\\gamma^2-1)T_e^{max}}{I^2} \\right)-\\delta+\\\\\n",
    "2(-\\beta^2-\\frac{C}{Z}+ZL_1+Z^2L_2)\\right]\n",
    "\\end{align}\n",
    "\n",
    "Pouvoir d'arrêt collisionnel pour protons de plus de 3 MeV (termes correctifs négligés) :\n",
    "\n",
    "\\begin{align}\n",
    "S_{col}(T) = 2\\pi r_e^2 m_e c^2 n_e \\frac{1}{\\beta^2} \\left [\\ln\\left(\\frac{2 m_e c^2 \\beta^2 \\gamma^2 T_e^{max}}{I^2}\\right)-2\\beta^2\\right]\n",
    "\\end{align}\n",
    "\n",
    "Portée des protons en ligne droite dans la matière :\n",
    "\n",
    "\\begin{align}\n",
    "R_{CSDA} = \\int^{T_i}_0 \\frac{dT'}{\\frac{S_{col}}{\\rho}}\n",
    "\\end{align}\n",
    "\n",
    "Énergie déposée pour un déplacement d'un proton s dans un milieu :\n",
    "\n",
    "\\begin{align}\n",
    "s = \\int^{T_i}_{T_f} \\frac{dT'}{S_{col}}\n",
    "\\end{align}\n",
    "\n",
    "Les différentes variables utilisées sont :\n",
    "\n",
    "- r_e le rayon classique de l'électron\n",
    "- n_e la densité électronique du matériaux\n",
    "- Z la charge de la particule (Z = 1 pour les protons)\n",
    "- N le nombre d'atome par gramme\n",
    "- T' l'énergie transféré à l'électron de l'atome\n",
    "- I l'énergie moyenne d'excitation du matériau,\n",
    "- $\\frac{d\\sigma}{dT}$ section efficace différentielle pour les collision inélastique d'une énergie transféee T',\n",
    "- $\\beta$ et $\\gamma$ sont les facteurs de Lorentz,\n",
    "- $\\delta$ un terme considérant les effets de la polarisation,\n",
    "- $2\\frac{C}{Z}$ corrige les effet du modèle en couche du cortège électronique atomique\n",
    "- ZL$_1$ est la correction de Barkas\n",
    "- Z$^2$L$_2$ est la correction de Bloch\n"
   ]
  },
  {
   "cell_type": "markdown",
   "metadata": {},
   "source": [
    "## Question 1 :\n",
    "\n",
    "La densité électronique d'un milieu peut être exprimée en fonction de sa composition atomique et de sa masse volumique à l'aide de l'équation suivante :\n",
    "\n",
    "\\begin{align}\n",
    "n_e = \\frac{N_A Z \\rho}{A M_u} = 0.6022~x~10^{24}~ \\frac{Z \\rho}{A},\n",
    "\\end{align}\n",
    "\n",
    "où $N_A$ est le nombre d'Avogadro, $Z$ est le numéro atomique, $\\rho$ est la densité, $A$ est la masse atomique relative et $M_u$ est la  masse molaire. L'eau liquide et l'os compact (ICRU) sont des composés dont le numéro atomique et la masse atomique de chacun des éléments qui les composent sont pondérés selon leur fraction massique respective."
   ]
  },
  {
   "cell_type": "code",
   "execution_count": 48,
   "metadata": {},
   "outputs": [
    {
     "name": "stdout",
     "output_type": "stream",
     "text": [
      "3.3427050859839407e+23 électrons par cm^3\n"
     ]
    }
   ],
   "source": [
    "def densite_eau(rho,Z_1,A_1,Z_8,A_8):\n",
    "    n_eau = (0.6022*10**(24))*rho*(0.111894*(Z_1/A_1)+0.888106*(Z_8/A_8))\n",
    "    return n_eau\n",
    "print(f\"{densite_eau(1.00000,1,1.00794,8,15.9994):.16e} électrons par cm^3\")"
   ]
  },
  {
   "cell_type": "code",
   "execution_count": 49,
   "metadata": {},
   "outputs": [
    {
     "name": "stdout",
     "output_type": "stream",
     "text": [
      "5.9057675800925301e+23 électrons par cm^3\n"
     ]
    }
   ],
   "source": [
    "def densite_os(rho,Z_1,A_1,Z_6,A_6,Z_7,A_7,Z_8,A_8,Z_12,A_12,Z_15,A_15,Z_16,A_16,Z_20,A_20):\n",
    "    n_os = (0.6022*10**(24))*rho*(0.063984*(Z_1/A_1)+0.278000*(Z_6/A_6)+0.027000*(Z_7/A_7)+0.410016*(Z_8/A_8)+0.002000*(Z_12/A_12)+0.070000*(Z_15/A_15)+0.002000*(Z_16/A_16)+0.147000*(Z_20/A_20))\n",
    "    return n_os\n",
    "print(f\"{densite_os(1.85000,1,1.00794,6,12.0107,7,14.0067,8,15.9994,12,24.3050,15,30.973762,16,32.065,20,40.078):.16e} électrons par cm^3\")"
   ]
  },
  {
   "cell_type": "markdown",
   "metadata": {},
   "source": [
    "L'énergie moyenne d'excitation de l'eau liquide est de 75.000000 eV et celle de l'os compact (ICRU) est de 91.900000 eV. Les courbes des pouvoirs d'arrêt collisionnel de l'eau liquide et de l'os compact sont présentées ci-dessous avec une échelle logarithmique en abscisse. \n",
    "\n",
    "On veut maintenant calculer le pouvoir d'arrêt collisionnel grâce à l'équation 4 du TP. Pour ce faire, il faut commencer par calculer les facteurs de Lorentz $\\beta$ et $\\gamma$ et l'énergie maximale transferable à un  ́electron par le proton $T_e^{max}$."
   ]
  },
  {
   "cell_type": "code",
   "execution_count": 59,
   "metadata": {},
   "outputs": [],
   "source": [
    "mp = cte.m_p # Masse du proton\n",
    "me = cte.m_e  # Masse de l'électron\n",
    "c = cte.c # Vitesse de la lumière dans le vide\n",
    "r_e = cte.physical_constants[\"classical electron radius\"][0]  # Rayon classique de l'électron\n",
    "\n",
    "def Lorentz_factor(T): # T pour énergie cinétique du proton (en J)        \n",
    "    gamma = T/(mp * c**2) + 1\n",
    "    beta = np.sqrt((gamma**2 - 1) / gamma**2)\n",
    "    return gamma, beta\n",
    "\n",
    "def T_e_max(gamma):  # en J\n",
    "    numerateur = 2*me*c**2*(gamma**2-1)\n",
    "    denominateur = 1+2*gamma*me/mp + (me/mp)**2\n",
    "    return numerateur/denominateur\n",
    "\n",
    "def pouvoir_arret(T, n_e, I, power = 1, rho = 1):  # T et I en eV, power servira à mettre l'équation à la puissance\n",
    "    # -1 lors du calcul de la portée des protons dans la matière (voir la Question 5), rho servira à diviser le\n",
    "    # pouvoir d'arrêt par la masse volumique lorsqu'il est souhaité (comme à la Question 5)\n",
    "    \n",
    "    # Pour les protons de plus de 3 MeV !\n",
    "    T *= cte.e # Transformation de l'énergie en eV vers des J\n",
    "    I *= cte.e # Transformation de l'énergie d'excitation en eV vers des J\n",
    "    gamma, beta = Lorentz_factor(T)\n",
    "    Temax = T_e_max(gamma)\n",
    "    \n",
    "    arg_log = 2*me*c**2*beta**2*gamma**2*Temax/I**2\n",
    "    S_col = 2*np.pi * (r_e*100)**2 * me*c**2 * n_e/beta**2 * (np.log(arg_log) - 2*beta**2)  # r_e mis en cm pour \n",
    "    # compenser n_e en cm^-3\n",
    "    return (S_col/cte.e /rho)**power  # Pour avoir S_col en eV/cm"
   ]
  },
  {
   "cell_type": "code",
   "execution_count": 60,
   "metadata": {},
   "outputs": [
    {
     "data": {
      "image/png": "[encoded data removed]",
      "text/plain": [
       "<Figure size 432x288 with 1 Axes>"
      ]
     },
     "metadata": {
      "needs_background": "light"
     },
     "output_type": "display_data"
    },
    {
     "data": {
      "image/png": "[encoded data removed]",
      "text/plain": [
       "<Figure size 432x288 with 1 Axes>"
      ]
     },
     "metadata": {
      "needs_background": "light"
     },
     "output_type": "display_data"
    }
   ],
   "source": [
    "T = np.linspace(3, 1000, 10000)  # en MeV\n",
    "ne_eau = densite_eau(1.00000,1,1.00794,8,15.9994)\n",
    "ne_os = densite_os(1.85000,1,1.00794,6,12.0107,7,14.0067,8,15.9994,12,24.3050,15,30.973762,16,32.065,20,40.078)\n",
    "\n",
    "plt.plot(T, pouvoir_arret(T*1e6, ne_eau, 75)/1e6)\n",
    "plt.title(\"Eau\")\n",
    "plt.xlabel(\"Énergie cinétique [MeV]\")\n",
    "plt.ylabel('Pouvoir d''arrêt collisionnel [MeV/cm]')\n",
    "plt.xscale('log')\n",
    "plt.show()\n",
    "\n",
    "plt.plot(T, pouvoir_arret(T*1e6, ne_os, 91.9)/1e6)\n",
    "plt.title(\"Os compact (ICRU)\")\n",
    "plt.xlabel(\"Énergie cinétique [MeV]\")\n",
    "plt.ylabel('Pouvoir d''arrêt collisionnel [MeV/cm]')\n",
    "plt.xscale('log')\n",
    "plt.show()"
   ]
  },
  {
   "cell_type": "markdown",
   "metadata": {},
   "source": [
    "# Portée des protons dans la matière"
   ]
  },
  {
   "cell_type": "markdown",
   "metadata": {},
   "source": [
    "## Question 2 :\n",
    "La portée des protons en ligne droite dans la matière est approximée par une décélération continue (CSDA) et est donnée par l'équation suivante :\n",
    "\\begin{align}\n",
    "R_{CSDA} = \\int^{T_i}_0 \\frac{dT'}{\\frac{S_{col}}{\\rho}},\n",
    "\\end{align}\n",
    "soit l'intégrale de l'inverse du pouvoir d'arrêt collisionnel massique par rapport à l'énergie transférée à l'électron de l'atome.\n",
    "L'homogénéité dimensionnelle de la portée des protons en ligne droite est déterminée en vérifiant les unités de part et d'autre de l'égalité. Selon l'outil PSTAR du NIST, les unités sont des g/cm^2. On développe le côté droit de l'égalité afin de vérifier l'homogénéité dimensionnelle pour des protons de plus de 3 MeV.\n",
    "\\begin{align}\n",
    "R_{CSDA} = \\int^{T_i}_0 \\frac{dT'}{\\frac{S_{col}}{\\rho}} = \\int^{T_i}_0 \\frac{\\rho dT'}{2\\pi r_e^2 m_e c^2 n_e \\frac{1}{\\beta^2} \\left [\\ln\\left(\\frac{2 m_e c^2 \\beta^2 \\gamma^2 T_e^{max}}{I^2}\\right)-2\\beta^2\\right]} = \\int^{T_i}_0 \\frac{dT'}{-\\left(\\frac{dT}{\\rho dx}\\right)_{col}}.\n",
    "\\end{align}\n",
    "Les unités sont donc ;\n",
    "\\begin{align}\n",
    "\\left[\\frac{g}{cm^2}\\right] = \\int^{T_i}_0 dT'\\frac{\\left[\\frac{g}{cm^3}\\right]}{\\left[\\frac{MeV}{cm}\\right]} = \\int^{T_i}_0 dT'\\left[\\frac{g}{MeV cm^2}\\right].\n",
    "\\end{align}\n",
    "En intégrant cette fonction par rapport à l'énergie, on obtient les mêmes unités de part et d'autre de l'égalité ;\n",
    "\\begin{align}\n",
    "\\left[\\frac{g}{cm^2}\\right] = \\left[\\frac{g}{cm^2}\\right],\n",
    "\\end{align}\n",
    "donc l'homogénéité dimensionnelle de la portée des protons en ligne droite est démontrée."
   ]
  },
  {
   "cell_type": "markdown",
   "metadata": {},
   "source": [
    "## Question 3 :\n",
    "Le pouvoir d'arrêt collisionnel total pour une particule donnée est composé de l'arrêt collisionnel électronique (ionisation des atomes) et de l'arrêt collisionnel nucléaire (diffusion sur des noyaux). Il est également possible que cette particule donnée subisse des pertes radiatives (Bremsstrahlung, production de paires ou intéraction photoélectrique) durant sa trajectoire dans la matière. \n",
    "\n",
    "Pour les protons dans la gamme des énergies de la protonthérapie, le pouvoir d'arrêt collisionnel total peut être approximé par le pouvoir d'arrêt collisionnel électronique puisque tous deux sont du même ordre de grandeur peu importe l'énergie du proton. En effet, si on base notre analyse sur les résultats de l'outil PSTAR du NIST pour l'eau liquide, on remarque que ces deux derniers présentent un écart d'au plus 0.08%, tandis que l'arrêt collisionnel nucléaire est inférieur par un facteur d'environ $10^{3}$ pour les énergies de la protonthérapie puis ce cet écart s'accroît rapidement jusqu'à $10^{5}$ pour des énergies supérieures. Le pouvoir d'arrêt collisionnel nucléaire peut donc être négligé. On note que des résultats du même ordre de grandeur sont obtenus pour l'os compact (ICRU) à l'aide de cet outil, ce qui confirme que cette approximation est valide aussi dans ce milieu.\n",
    "\n",
    "Quant aux pertes radiatives, elles sont davantage présentes dans le comportement des particules légères telles que les électrons et les positrons qui subissent des pertes non négligeables mêmes pour des faibles énergies de l'ordre de $10^{-2}$ MeV. Dans le cas des protons, les pertes radiatives sont présentes pour des énergies de l'ordre de $10^{3}$ MeV et prennent plus d'importance pour des énergies encore plus élevées qui ne font pas partie de la gamme des énergies utilisée protonthérapie. C'est la masse élevée des protons qui réduit l'effet des pertes radiatives en protonthérapie."
   ]
  },
  {
   "cell_type": "markdown",
   "metadata": {},
   "source": [
    "## Question 4 :\n",
    "Il est nécessaire d'employer une méthode numérique pour calculer la portée des protons car il n'est pas possible de calculer cette dernière de façon analytique. On a donc recours à l'intégration numérique par la méthode des trapèzes et par la méthode de Simpson. Tel que présenté à la question 1, le pouvoir d'arrêt collisionnel varie en fonction de l'énergie des protons et du milieu traversé par le faisceau de protons. La portée des protons dépend entre autres des énergies de faisceau sélectionnées, de la forme et de la profondeur de la tumeur à traiter, de l'anatomie ainsi que de la morphologie spécifique du patient. Il s'agit de calculs complexes et laborieux qui nécessitent une exactitude au millimètre ou dixième de millimètre près afin de préserver les tissus sains. La calul numérique de la portée des protons permet d'économiser du temps lors de la préparation du traitement de chaque patient et de s'assurer que la ballistique du traitement est exacte et optimale."
   ]
  },
  {
   "cell_type": "markdown",
   "metadata": {},
   "source": [
    "## Question 5 :"
   ]
  },
  {
   "cell_type": "markdown",
   "metadata": {},
   "source": [
    "Comme mentionné en introduction, deux méthodes d'intrégration seront utilisés ici : la méthode des trapèzes et la méthode de Simpson. Leur algorithme respectif est écrit ci-dessous."
   ]
  },
  {
   "cell_type": "code",
   "execution_count": 52,
   "metadata": {},
   "outputs": [],
   "source": [
    "def methode_trapezes(fonction, a, b, N, *args):  \n",
    "    # fonction = celle à intégrer, a = 1ère borne d'intégration, b = 2e borne d'intégration, N = nombre de tranches\n",
    "    if N == 0:   # Pour éviter une division par zéro (au calcul de h)\n",
    "        return 0\n",
    "    \n",
    "    x = np.linspace(a, b, N+1) \n",
    "    h = (b - a) / N  # épaisseur de chaque tranche\n",
    "    somme = 0\n",
    "    for i in x[1:-1]:\n",
    "        somme += fonction(i, *args)\n",
    "    return h * (1/2*fonction(x[0], *args) + 1/2*fonction(x[-1], *args) + somme)\n",
    "\n",
    "def methode_Simpson(fonction, a, b, N, *args):\n",
    "    # fonction = celle à intégrer, a = 1ère borne d'intégration, b = 2e borne d'intégration, N = nombre de tranches\n",
    "    if N == 0:   # Pour éviter une division par zéro (au calcul de h)\n",
    "        return 0\n",
    "    \n",
    "    x = np.linspace(a, b, N+1)\n",
    "    h = (b - a) / N  # épaisseur de chaque tranche\n",
    "    somme_impaire = 0\n",
    "    somme_paire = 0\n",
    "    for i in x[1:-1:2]:\n",
    "        somme_impaire += fonction(i, *args)\n",
    "    for i in x[2:-2:2]:\n",
    "        somme_paire += fonction(i, *args)\n",
    "    \n",
    "    return 1 / 3 * h * (fonction(x[0], *args) + fonction(x[-1], *args) + 4 * somme_impaire + 2 * somme_paire)"
   ]
  },
  {
   "cell_type": "code",
   "execution_count": null,
   "metadata": {},
   "outputs": [],
   "source": [
    "def calcul_erreur_trapezes(N_init, fonction, a, b, N, *args):\n",
    "    I_prec = 0\n",
    "    erreur = 1\n",
    "    while erreur > I_prec*1e-16:\n",
    "        if I_prec == 0:\n",
    "            I_prec = methode_trapezes(fonction, a, b, N, *args)\n",
    "            N_tranches = [N_init]\n",
    "            portee_protons = [I_prec]\n",
    "            N_i = N_init * 2\n",
    "        else:\n",
    "            h_i = (b - a) / N_i\n",
    "            somme = 0\n",
    "            for k in range(1, N_i, 2):\n",
    "                somme += fonction(a+k*h_i, *args)\n",
    "\n",
    "            I_i = 1/2 * I_prec + h_i * somme\n",
    "            erreur = 1/3 * (I_i - I_prec)\n",
    "            N_tranches.append(N_i)\n",
    "            portee_protons.append(I_i)\n",
    "            print(erreur, N_i)\n",
    "            I_prec = I_i\n",
    "            N_i *= 2\n",
    "    return N_tranches, portee_protons\n",
    "\n",
    "\n",
    "\"\"\" En cours d'écriture : check pas ça!\n",
    "\n",
    "def calcul_erreur_Simpson(N_init, fonction, a, b, N, *args):\n",
    "    I_prec = 0\n",
    "    erreur = 1\n",
    "    while erreur > 1e-16:\n",
    "        if I_prec == 0:\n",
    "            S_i = 1/3 * (fonction(a, *args) + fonction(b, *args) + somme_paire)\n",
    "            \n",
    "            I_prec = methode_trapezes(fonction, a, b, N, *args)\n",
    "            N_tranches = [N_init]\n",
    "            portee_protons = [I_prec]\n",
    "            N_i = N_init * 2\n",
    "        else:\n",
    "            h_i = (b - a) / N_i\n",
    "            somme = 0\n",
    "            for k in range(1, N_i, 2):\n",
    "                somme += fonction(a+k*h_i, *args)\n",
    "\n",
    "            I_i = 1/2 * I_prec + h_i * somme\n",
    "            erreur = 1/15 * (I_i - I_prec)\n",
    "            N_tranches.append(N_i)\n",
    "            portee_protons.append(I_i)\n",
    "            print(erreur, N_i)\n",
    "            I_prec = I_i\n",
    "            N_i *= 2\n",
    "    return N_tranches, portee_protons\n",
    "\"\"\""
   ]
  },
  {
   "cell_type": "code",
   "execution_count": null,
   "metadata": {},
   "outputs": [],
   "source": [
    "portee_eau_trapezes = calcul_erreur_trapezes(500, pouvoir_arret, 3e6, 150e6, 10, ne_eau, 75, -1, 1)"
   ]
  },
  {
   "cell_type": "code",
   "execution_count": null,
   "metadata": {},
   "outputs": [],
   "source": [
    "plt.figure()\n",
    "plt.plot(portee_eau_trapezes[0], portee_eau_trapezes[1])\n",
    "plt.title(\"Eau\")\n",
    "plt.xlabel(\"Nombre de tranches\")\n",
    "plt.ylabel(\"Portée des protons [g/cm$^2$]\")\n",
    "plt.show()"
   ]
  },
  {
   "cell_type": "code",
   "execution_count": null,
   "metadata": {},
   "outputs": [],
   "source": [
    "def précision_machine(methode,a,b,rho,*args): # Déterminer le nombre de tranches pour atteindre la précision machine\n",
    "    valeur = 0\n",
    "    nouvelle_valeur = 0\n",
    "    i = 1000\n",
    "    it = 0\n",
    "    while True:\n",
    "        nouvelle_valeur = methode(pouvoir_arret,a,b,i,*args)*rho\n",
    "        if i == 1000:\n",
    "            valeur = nouvelle_valeur\n",
    "        else: # déterminer si la nouvelle valeur est à ± 1e-16 la valeur précédente\n",
    "            if (nouvelle_valeur < valeur+1e-16) and (nouvelle_valeur > valeur-1e-16):\n",
    "                break\n",
    "            else:\n",
    "                valeur = nouvelle_valeur\n",
    "                \n",
    "        if i > 10000000: # Éviter les itérations infini dans le cas de \"bug\"\n",
    "            break\n",
    "        i *= 2 # On double le nombre de tranche à chaque itération\n",
    "        it += 1\n",
    "        print(i,valeur)\n",
    "    return i,it, valeur\n",
    "\n",
    "#print(précision_machine(methode_trapezes,3e6, 150e6,1, ne_eau, 75,-1)) # Servent à déterminer le nombre de tranche pour la précision machine\n",
    "#print(précision_machine(methode_Simpson,3e6, 150e6,1, ne_eau, 75,-1))\n",
    "#print(précision_machine(methode_trapezes,3e6, 150e6,1.85, ne_os, 91.9,-1))\n",
    "#print(précision_machine(methode_Simpson,3e6, 150e6,1.85, ne_os, 91.9,-1))\n",
    "\n",
    "print(f\"Le nombre de tranches nécessaire pour atteindre la précision machine pour la méthode trapèze de la portée dans l'eau est de:\\n{précision_machine(methode_trapezes,3e6, 150e6,1, ne_eau, 75,-1)[0]}.\")\n",
    "print(f\"Le nombre de tranches nécessaire pour atteindre la précision machine pour la méthode Simpson de la portée dans l'eau est de:\\n{précision_machine(methode_Simpson,3e6, 150e6,1, ne_eau, 75,-1)[0]}.\")\n",
    "print(\"Les mêmes valeurs sont trouvé pour la portée dans l'os.\")"
   ]
  },
  {
   "cell_type": "code",
   "execution_count": null,
   "metadata": {},
   "outputs": [],
   "source": [
    "\n",
    "a = 3e6\n",
    "b = 150e6\n",
    "n = 1e-6\n",
    "N = np.linspace(1,10000,100, dtype = int)\n",
    "data = []\n",
    "for i in N:\n",
    "    h = (b - a) / i\n",
    "\n",
    "    v_a0 = pouvoir_arret(a,ne_eau,75,-1)\n",
    "    v_a1 = pouvoir_arret(a+n,ne_eau,75,-1)\n",
    "    v_a2 = pouvoir_arret(a-n,ne_eau,75,-1)\n",
    "\n",
    "    p_a1 = (v_a0-v_a1)/(n)\n",
    "    p_a2 = (v_a0-v_a2)/(-n)\n",
    "    da = (p_a1+p_a2)/2 # dérivée autour de a\n",
    "\n",
    "    v_b0 = pouvoir_arret(150e6,ne_eau,75,-1)\n",
    "    v_b1 = pouvoir_arret(150e6+n,ne_eau,75,-1)\n",
    "    v_b2 = pouvoir_arret(150e6-n,ne_eau,75,-1)\n",
    "\n",
    "    p_b1 = (v_b0-v_b1)/(n)\n",
    "    p_b2 = (v_b0-v_b2)/(-n)\n",
    "    db = (p_b1+p_b2)/2 # dérivée autour de b\n",
    "\n",
    "    data.append((b-a)*np.sqrt(abs(da-db)/(12*methode_trapezes(pouvoir_arret,a, b, i, ne_eau, 75,-1)*1e-16)))\n",
    "plt.plot(N,data)\n",
    "plt.xscale(\"log\")\n",
    "plt.yscale(\"log\")\n",
    "plt.show()"
   ]
  },
  {
   "cell_type": "code",
   "execution_count": null,
   "metadata": {},
   "outputs": [],
   "source": [
    "Simpson_eau = [methode_Simpson(pouvoir_arret, 3e6, 150e6, 2**i, ne_eau, 75,-1)*1 for i in range(int(précision_machine(methode_Simpson,3e6, 150e6,1, ne_eau, 75,-1)[1]))]\n",
    "Simpson_os = [methode_Simpson(pouvoir_arret, 3e6, 150e6, 2**i, ne_os, 91.9,-1)*1.85 for i in range(int(précision_machine(methode_Simpson,3e6, 150e6,1.85, ne_os, 91.9,-1)[1]))]\n",
    "trapeze_eau = [methode_trapezes(pouvoir_arret, 3e6, 150e6, 2**i, ne_eau, 75,-1)*1 for i in range(int(précision_machine(methode_trapezes,3e6, 150e6,1, ne_eau, 75,-1)[1]))]\n",
    "trapeze_os = [methode_trapezes(pouvoir_arret, 3e6, 150e6, 2**i, ne_os, 91.9,-1)*1.85 for i in range(int(précision_machine(methode_trapezes,3e6, 150e6,1.85, ne_os, 75,-1)[1]))]\n",
    "plt.rcParams[\"figure.figsize\"]=20,10\n",
    "plt.rcParams.update({'font.size': 15})\n",
    "#print(trapeze_eau)\n",
    "\n",
    "plt.subplot(421)\n",
    "plt.plot([2**i for i in range(précision_machine(methode_trapezes,3e6, 150e6,1, ne_eau, 75,-1)[1])],trapeze_eau)\n",
    "plt.xscale(\"log\")\n",
    "plt.xlabel(\"Nombre de tranche [-]\")\n",
    "plt.ylabel(\"Portée obtenue [$\\\\frac{g}{cm^2}$]\")\n",
    "plt.title(\"Eau trapèze\")\n",
    "\n",
    "plt.subplot(423)\n",
    "plt.plot([2**i for i in range(précision_machine(methode_Simpson,3e6, 150e6,1, ne_eau, 75,-1)[1])],Simpson_eau)\n",
    "plt.xscale(\"log\")\n",
    "plt.xlabel(\"Nombre de tranche [-]\")\n",
    "plt.ylabel(\"Portée obtenue [$\\\\frac{g}{cm^2}$]\")\n",
    "plt.title(\"Eau Simpson\")\n",
    "\n",
    "plt.subplot(422)\n",
    "plt.plot([2**i for i in range(précision_machine(methode_trapezes,3e6, 150e6,1.85, ne_os, 91.9,-1)[1])],trapeze_os)\n",
    "plt.xscale(\"log\")\n",
    "plt.xlabel(\"Nombre de tranche [-]\")\n",
    "plt.ylabel(\"Portée obtenue [$\\\\frac{g}{cm^2}$]\")\n",
    "plt.title(\"Os trapèze\")\n",
    "\n",
    "plt.subplot(424)\n",
    "plt.plot([2**i for i in range(précision_machine(methode_Simpson,3e6, 150e6,1.85, ne_os, 91.9,-1)[1])],Simpson_os)\n",
    "plt.xscale(\"log\")\n",
    "plt.xlabel(\"Nombre de tranche [-]\")\n",
    "plt.ylabel(\"Portée obtenue [$\\\\frac{g}{cm^2}$]\")\n",
    "plt.title(\"Os Simpson\")\n",
    "plt.tight_layout()\n",
    "plt.show()\n"
   ]
  },
  {
   "cell_type": "markdown",
   "metadata": {},
   "source": [
    "## Question 6 :\n",
    "\n",
    "On obtient l'expression analytique de la dérivée du pouvoir d'arrêt collisionnel en fonction de T en l'exprimant en fonction de $\\gamma$ et en utilisant le théorème de dérivation des fonctions composées. Le pouvoir d'arrêt collisionnel en fonction de T pour des protons de plus de 3 MeV est donné par\n",
    "\n",
    "\\begin{align}\n",
    "S_{col}(T) = 2\\pi r_e^2 m_e c^2 n_e \\frac{1}{\\beta^2} \\left [\\ln\\left(\\frac{2 m_e c^2 \\beta^2 \\gamma^2 T_e^{max}}{I^2}\\right)-2\\beta^2\\right].\n",
    "\\end{align}\n",
    "\n",
    "Avec les simplifications et substitutions suggérées dans l'énoncé, on obtient les équations suivantes.\n",
    "\n",
    "\\begin{align}\n",
    "S_{col}(T) = U \\frac{1}{\\beta^2} \\left [\\ln\\left(\\frac{a (\\gamma^2-1)}{I^2} \\frac {a (\\gamma^2-1)}{\\gamma \\delta + b}\\right)-2\\beta^2\\right]\n",
    "\\end{align}\n",
    "\n",
    "\\begin{align}\n",
    "S_{col}(T) = U \\frac{1}{\\beta^2} \\left [\\ln\\left(\\frac{k (\\gamma^2-1)^2}{\\gamma \\delta + b}\\right)-2\\beta^2\\right]\n",
    "\\end{align}\n",
    "\n",
    "\\begin{align}\n",
    "S_{col}(T) = \\frac{U \\gamma^2}{(\\gamma^2-1)} \\left [\\ln\\left(\\frac{k (\\gamma^2-1)^2}{\\gamma \\delta + b}\\right)-2\\frac{(\\gamma^2-1)}{\\gamma^2}\\right]\n",
    "\\end{align}\n",
    "\n",
    "\\begin{align}\n",
    "S_{col}(T) = \\frac{U \\gamma^2}{(\\gamma^2-1)} \\ln\\left(\\frac{k (\\gamma^2-1)^2}{\\gamma \\delta + b}\\right)-2U\n",
    "\\end{align}\n",
    "\n",
    "Sachant que $\\gamma$ peut s'exprimer en fonction de $T$ comme suit\n",
    "\n",
    "\\begin{align}\n",
    "\\gamma = \\frac{T}{m_pc^2}+1,\n",
    "\\end{align}\n",
    "\n",
    "on peut se servir du théorème de dérivation des fonctions composées pour obtenir la dérivée du pouvoir d'arrêt collisionnel en fonction de T de la manière suivante.\n",
    "\n",
    "\\begin{align}\n",
    "\\frac{dS_{col}}{dT} = \\frac{dS_{col}}{d\\gamma}\\frac{d\\gamma}{dT} \n",
    "\\end{align}\n",
    "\n",
    "La première dérivée est \n",
    "\n",
    "\\begin{align}\n",
    "\\frac{dS_{col}}{d\\gamma} = U \\frac{d}{d\\gamma} \\left[\\frac{\\gamma^2}{(\\gamma^2-1)} ln\\left(\\frac{k (\\gamma^2-1)^2}{\\gamma \\delta + b}\\right) \\right]\n",
    "\\end{align}\n",
    "\n",
    "\\begin{align}\n",
    "\\frac{dS_{col}}{d\\gamma} = U \\Bigg(\\left[\\frac{\\gamma(\\gamma^2-1)-\\gamma^2(2\\gamma)}{(\\gamma^2-1)^2} ln\\left(\\frac{k (\\gamma^2-1)^2}{\\gamma \\delta + b}\\right) \\right] + \\left[\\frac{\\gamma^2}{(\\gamma^2-1)}\\frac{\\gamma \\delta + b}{k (\\gamma^2-1)^2}\\frac{4k\\gamma\\left(\\gamma^2-1\\right)\\left(\\gamma \\delta + b \\right) - k\\delta\\left(\\gamma^2-1\\right)^2}{(\\gamma \\delta + b)^2} \\right]\\Bigg)\n",
    "\\end{align}\n",
    "\n",
    "\\begin{align}\n",
    "\\frac{dS_{col}}{d\\gamma} = U \\Bigg(\\left[\\frac{\\gamma(\\gamma^2-1)-2\\gamma^3}{(\\gamma^2-1)^2} ln\\left(\\frac{k (\\gamma^2-1)^2}{\\gamma \\delta + b}\\right) \\right] + \\left[\\frac{\\gamma^2(\\gamma \\delta + b)}{k(\\gamma^2-1)^3}\\frac{4k\\gamma(\\gamma^2-1)(\\gamma \\delta + b) - k\\delta(\\gamma^2-1)^2}{(\\gamma \\delta + b)^2} \\right]\\Bigg).\n",
    "\\end{align}\n",
    "\n",
    "La deuxième dérivée est simplement \n",
    "\n",
    "\\begin{align}\n",
    "\\frac{d\\gamma}{dT} = \\frac{1}{m_pc^2}.\n",
    "\\end{align}\n",
    "\n",
    "Donc selon le théorème de dérivation des fonctions composées, on obtient\n",
    "\n",
    "\\begin{align}\n",
    "\\frac{dS_{col}}{dT} = \\frac{U}{m_pc^2} \\Bigg(\\left[\\frac{\\gamma(\\gamma^2-1)-2\\gamma^3}{(\\gamma^2-1)^2} ln\\left(\\frac{k (\\gamma^2-1)^2}{\\gamma \\delta + b}\\right) \\right] + \\left[\\frac{\\gamma^2(\\gamma \\delta + b)}{k(\\gamma^2-1)^3}\\frac{4k\\gamma(\\gamma^2-1)(\\gamma \\delta + b) - k\\delta(\\gamma^2-1)^2}{(\\gamma \\delta + b)^2} \\right]\\Bigg).\n",
    "\\end{align}"
   ]
  },
  {
   "cell_type": "markdown",
   "metadata": {},
   "source": [
    "## Question 7 :"
   ]
  },
  {
   "cell_type": "code",
   "execution_count": null,
   "metadata": {},
   "outputs": [],
   "source": [
    "def erreur_approx_trapeze(fonction, a, b,N,n, *args): # n est la distance des points utilisé pour faire la dérivée\n",
    "    \n",
    "    h = (b - a) / N\n",
    "\n",
    "    v_a0 = fonction(a,*args)\n",
    "    v_a1 = fonction(a+n,*args)\n",
    "    v_a2 = fonction(a-n,*args)\n",
    "    \n",
    "    p_a1 = (v_a0-v_a1)/(n)\n",
    "    p_a2 = (v_a0-v_a2)/(-n)\n",
    "    da = (p_a1+p_a2)/2 # dérivée autour de a\n",
    "    \n",
    "    v_b0 = fonction(b,*args)\n",
    "    v_b1 = fonction(b+n,*args)\n",
    "    v_b2 = fonction(b-n,*args)\n",
    "    \n",
    "    p_b1 = (v_b0-v_b1)/(n)\n",
    "    p_b2 = (v_b0-v_b2)/(-n)\n",
    "    db = (p_b1+p_b2)/2 # dérivée autour de b\n",
    "    print(p_a1,p_a2)\n",
    "    return 1/12*h**2*(da-db)\n",
    "print(erreur_approx_trapeze(pouvoir_arret, 3e6, 150e6, 39665935,1e-7, ne_eau, 75,-1))\n",
    "print(pouvoir_arret(3e6,ne_eau,75,-1))"
   ]
  },
  {
   "cell_type": "markdown",
   "metadata": {},
   "source": [
    "# Optimisation"
   ]
  },
  {
   "cell_type": "markdown",
   "metadata": {},
   "source": [
    "## Question 8 :\n",
    "La distribution en énergie des protons peut être approximée par une distribution de Moyal telle que présentée par la figure suivante pour la gamme d'énergies de la protonthérapie."
   ]
  },
  {
   "cell_type": "code",
   "execution_count": 34,
   "metadata": {},
   "outputs": [
    {
     "data": {
      "image/png": "[encoded data removed]",
      "text/plain": [
       "<Figure size 432x288 with 1 Axes>"
      ]
     },
     "metadata": {
      "needs_background": "light"
     },
     "output_type": "display_data"
    }
   ],
   "source": [
    "r_energie = moyal.rvs(size=10000)\n",
    "ppf_energie = np.linspace(moyal.ppf(0.01, loc=150, scale=4), moyal.ppf(0.99, loc=150, scale=4), 10000)\n",
    "distribution = moyal.pdf(x, loc=150, scale=4)\n",
    " \n",
    "plt.plot(ppf_energie, distribution) \n",
    "plt.xlabel(\"Énergie [MeV]\")\n",
    "plt.ylabel(\"Distribution des protons [-]\")\n",
    "plt.show()"
   ]
  },
  {
   "cell_type": "markdown",
   "metadata": {},
   "source": [
    "## Question 9 :"
   ]
  },
  {
   "cell_type": "code",
   "execution_count": null,
   "metadata": {},
   "outputs": [],
   "source": []
  },
  {
   "cell_type": "markdown",
   "metadata": {},
   "source": [
    "# Énergie déposée"
   ]
  },
  {
   "cell_type": "code",
   "execution_count": null,
   "metadata": {},
   "outputs": [],
   "source": []
  },
  {
   "cell_type": "code",
   "execution_count": null,
   "metadata": {},
   "outputs": [],
   "source": []
  },
  {
   "cell_type": "code",
   "execution_count": null,
   "metadata": {},
   "outputs": [],
   "source": []
  }
 ],
 "metadata": {
  "kernelspec": {
   "display_name": "Python 3",
   "language": "python",
   "name": "python3"
  },
  "language_info": {
   "codemirror_mode": {
    "name": "ipython",
    "version": 3
   },
   "file_extension": ".py",
   "mimetype": "text/x-python",
   "name": "python",
   "nbconvert_exporter": "python",
   "pygments_lexer": "ipython3",
   "version": "3.8.3"
  }
 },
 "nbformat": 4,
 "nbformat_minor": 2
}
