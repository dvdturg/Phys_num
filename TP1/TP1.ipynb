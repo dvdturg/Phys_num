{
 "cells": [
  {
   "cell_type": "markdown",
   "metadata": {},
   "source": [
    "<h1><center>Physique numérique (PHY-3500)</center></h1>\n",
    "<h1><center>TP1 - Intégration numérique</center></h1>"
   ]
  },
  {
   "cell_type": "markdown",
   "metadata": {},
   "source": [
    "## Nom des membres de l'équipe:\n",
    "\n",
    "### Nom, Prénom :  NI \n",
    "### Légaré, Ophélie : 111 182 608\n",
    "### Parrot, Anaïs : 111 184 980\n",
    "### Turgeon, David : 111 182 265"
   ]
  },
  {
   "cell_type": "markdown",
   "metadata": {},
   "source": [
    "### Importation des modules :"
   ]
  },
  {
   "cell_type": "code",
   "execution_count": 2,
   "metadata": {},
   "outputs": [],
   "source": [
    "import numpy as np\n",
    "import matplotlib.pyplot as plt\n",
    "import seaborn as sns\n",
    "import scipy as sp"
   ]
  },
  {
   "cell_type": "markdown",
   "metadata": {},
   "source": [
    "# Introduction : \n",
    "\n",
    "La radiothérapie externe est une méthode employée notamment dans le domaine de la radio-oncologie au CHUM pour le traitement du cancer. La radiothérapie externe traite les tumeurs au moyen de faisceaux de rayons-X, d'électrons ou de hadrons. La protonthérapie, quant à elle, est une branche spécifique de la radiothérapie visant à traiter les tumeurs peu profondes telles que les mélanomes oculaires à l'aide de faisceaux de protons de faible énergie. Cette technique permet d'optimiser la ballistique du faisceau afin de cibler la tumeur tout en épargnant les tissus sains.\n",
    "\n",
    "Dans cette étude, on cherche à planifier et prédire la dose reçue par un patient suivant un traitement de protonthérapie. Pour ce faire, la portée des protons dans la matière est déterminée à l'aide de méthodes d'intégration numérique, soit la méthode des trapèzes et la méthode de Simpson. Par la suite, les algorithmes sont comparés à une distribution de Moyal. Le calcul de l'énergie déposée par le faisceau de protons à la tumeur est réalisé à partir de son énergie cinétique. Finalement, le réalisme du modèle d'intégration numérique développé est discuté."
   ]
  },
  {
   "cell_type": "markdown",
   "metadata": {},
   "source": [
    "# Équations utiles :\n",
    "\n",
    "Pouvoir d'arrêt collisionnel massique :\n",
    "\n",
    "\\begin{align}\n",
    "\\frac{S_{col}}{\\rho} = -\\left(\\frac{dT}{\\rho dx}\\right) = NZ\\int^{T_e^{max}}_0 T \\left(\\frac{d\\sigma}{dT'}\\right)_{col}dT'\n",
    "\\end{align}\n",
    "\n",
    "L'énergie maximale transférable à un électron par le proton :\n",
    "\n",
    "\\begin{align}\n",
    "T_e^{max} = \\frac{2m_ec^2(\\gamma^2-1)}{1+2\\gamma\\frac{m_e}{m_p}+\\left(\\frac{m_e}{m_p}\\right)^2}\n",
    "\\end{align}\n",
    "\n",
    "Pouvoir d'arrêt collisionnel pour les protons :\n",
    "\n",
    "\\begin{align}\n",
    "-\\left(\\frac{dT}{dx}\\right)_{col} = 2\\pi r_e^2 m_e c^2 n_e \\frac{Z^2}{\\beta^2}\\left [\\ln\\left(\\frac{2m_e c^2(\\gamma^2-1)T_e^{max}}{I^2} \\right)-\\delta+\\\\\n",
    "2(-\\beta^2-\\frac{C}{Z}+ZL_1+Z^2L_2)\\right]\n",
    "\\end{align}\n",
    "\n",
    "Pouvoir d'arrêt collisionnel pour protons de plus de 3 MeV (termes correctifs négligés) :\n",
    "\n",
    "\\begin{align}\n",
    "S_{col}(T) = 2\\pi r_e^2 m_e c^2 n_e \\frac{1}{\\beta^2} \\left [\\ln\\left(\\frac{2 m_e c^2 \\beta^2 \\gamma^2 T_e^{max}}{I^2}\\right)-2\\beta^2\\right]\n",
    "\\end{align}\n",
    "\n",
    "Portée des protons en ligne droite dans la matière :\n",
    "\n",
    "\\begin{align}\n",
    "R_{CSDA} = \\int^{T_i}_0 \\frac{dT'}{\\frac{S_{col}}{\\rho}}\n",
    "\\end{align}\n",
    "\n",
    "Énergie déposée pour un déplacement d'un proton s dans un milieu :\n",
    "\n",
    "\\begin{align}\n",
    "s = \\int^{T_i}_{T_f} \\frac{dT'}{S_{col}}\n",
    "\\end{align}\n",
    "\n",
    "Les différentes variables utilisées sont :\n",
    "\n",
    "- r_e le rayon classique de l'électron\n",
    "- n_e la densité électronique du matériaux\n",
    "- Z la charge de la particule (Z = 1 pour les protons)\n",
    "- N le nombre d'atome par gramme\n",
    "- T' l'énergie transféré à l'électron de l'atome\n",
    "- I l'énergie moyenne d'excitation du matériau,\n",
    "- $\\frac{d\\sigma}{dT}$ section efficace différentielle pour les collision inélastique d'une énergie transféee T',\n",
    "- $\\beta$ et $\\gamma$ sont les facteurs de Lorentz,\n",
    "- $\\delta$ un terme considérant les effets de la polarisation,\n",
    "- $2\\frac{C}{Z}$ corrige les effet du modèle en couche du cortège électronique atomique\n",
    "- ZL$_1$ est la correction de Barkas\n",
    "- Z$^2$L$_2$ est la correction de Bloch\n"
   ]
  },
  {
   "cell_type": "markdown",
   "metadata": {},
   "source": [
    "## Question 1 :\n",
    "\n",
    "La densité électronique d'un milieu peut être exprimée en fonction de sa composition atomique et de sa masse volumique à l'aide de l'équation suivante :\n",
    "\n",
    "\\begin{align}\n",
    "n_e = \\frac{N_A Z \\rho}{A M_u} = 0.6022~x~10^{24}~ \\frac{Z \\rho}{A},\n",
    "\\end{align}\n",
    "\n",
    "où $N_A$ est le nombre d'Avogadro, $Z$ est le numéro atomique, $\\rho$ est la densité, $A$ est la masse atomique relative et $M_u$ est la  masse molaire. L'eau liquide et l'os compact (ICRU) sont des composés dont le numéro atomique et la masse atomique de chacun des éléments qui les composent sont pondérés selon leur fraction massique respective."
   ]
  },
  {
   "cell_type": "code",
   "execution_count": 3,
   "metadata": {},
   "outputs": [
    {
     "name": "stdout",
     "output_type": "stream",
     "text": [
      "3.342705085983941e+23 g/cm^3\n"
     ]
    }
   ],
   "source": [
    "def densite_eau(rho,Z_1,A_1,Z_8,A_8):\n",
    "    n_eau = (0.6022*10**(24))*rho*(0.111894*(Z_1/A_1)+0.888106*(Z_8/A_8))\n",
    "    return n_eau\n",
    "print(densite_eau(1.00000,1,1.00794,8,15.9994), \"g/cm^3\")"
   ]
  },
  {
   "cell_type": "code",
   "execution_count": 4,
   "metadata": {},
   "outputs": [
    {
     "name": "stdout",
     "output_type": "stream",
     "text": [
      "5.90576758009253e+23 g/cm^3\n"
     ]
    }
   ],
   "source": [
    "def densite_os(rho,Z_1,A_1,Z_6,A_6,Z_7,A_7,Z_8,A_8,Z_12,A_12,Z_15,A_15,Z_16,A_16,Z_20,A_20):\n",
    "    n_os = (0.6022*10**(24))*rho*(0.063984*(Z_1/A_1)+0.278000*(Z_6/A_6)+0.027000*(Z_7/A_7)+0.410016*(Z_8/A_8)+0.002000*(Z_12/A_12)+0.070000*(Z_15/A_15)+0.002000*(Z_16/A_16)+0.147000*(Z_20/A_20))\n",
    "    return n_os\n",
    "print(densite_os(1.85000,1,1.00794,6,12.0107,7,14.0067,8,15.9994,12,24.3050,15,30.973762,16,32.065,20,40.078), \"g/cm^3\")"
   ]
  },
  {
   "cell_type": "markdown",
   "metadata": {},
   "source": [
    "L'énergie moyenne d'excitation de l'eau liquide est de 75.000000 eV et celle de l'os compact (ICRU) est de 91.900000 eV. Les courbes des pouvoirs d'arrêt collisionnel de l'eau liquide et de l'os compact sont présentées ci-dessous avec une échelle logarithmique en abscisse."
   ]
  },
  {
   "cell_type": "code",
   "execution_count": 5,
   "metadata": {},
   "outputs": [
    {
     "data": {
      "image/png": "[encoded data removed]",
      "text/plain": [
       "<Figure size 432x288 with 1 Axes>"
      ]
     },
     "metadata": {
      "needs_background": "light"
     },
     "output_type": "display_data"
    }
   ],
   "source": [
    "water_energy = np.loadtxt(\"./eau.txt\", float)\n",
    "#print(water_energy)\n",
    "plt.figure()\n",
    "plt.plot(water_energy[:,0],water_energy[:,1])\n",
    "plt.xlabel(\"Énergie cinétique [MeV]\")\n",
    "plt.ylabel('Pouvoir d''arrêt collisionnel [MeV cm$^2$/g]')\n",
    "plt.grid(True)\n",
    "plt.xscale('log')\n",
    "plt.show()"
   ]
  },
  {
   "cell_type": "code",
   "execution_count": 6,
   "metadata": {},
   "outputs": [
    {
     "data": {
      "image/png": "[encoded data removed]",
      "text/plain": [
       "<Figure size 432x288 with 1 Axes>"
      ]
     },
     "metadata": {
      "needs_background": "light"
     },
     "output_type": "display_data"
    }
   ],
   "source": [
    "bone_energy = np.loadtxt(\"./bone.txt\", float)\n",
    "#print(bone_energy)\n",
    "plt.figure()\n",
    "plt.plot(bone_energy[:,0],bone_energy[:,1])\n",
    "plt.xlabel(\"Énergie cinétique [MeV]\")\n",
    "plt.ylabel('Pouvoir d''arrêt collisionnel [MeV cm$^2$/g]')\n",
    "plt.grid(True)\n",
    "plt.xscale('log')\n",
    "plt.show()"
   ]
  },
  {
   "cell_type": "markdown",
   "metadata": {},
   "source": [
    "# Portée des protons dans la matière"
   ]
  },
  {
   "cell_type": "markdown",
   "metadata": {},
   "source": [
    "## Questions 2 :\n",
    "BLABLATONS TOUS EN COEUUUUUUUURRRRRRRR!!!!!!!!!!"
   ]
  },
  {
   "cell_type": "markdown",
   "metadata": {},
   "source": [
    "## Question 3 :"
   ]
  },
  {
   "cell_type": "markdown",
   "metadata": {},
   "source": [
    "## Question 4 :\n",
    "Il est nécessaire d'employer une méthode numérique pour calculer la portée des protons car il n'est pas possible de calculer cette dernière de façon analytique. On a donc recours à l'intégration numérique par la méthode des trapèzes et par la méthode de Simpson. Tel que présenté à la question 1, le pouvoir d'arrêt collisionnel varie en fonction de l'énergie des protons et du milieu traversé par le faisceau de protons. La portée des protons dépend entre autres des énergies de faisceau sélectionnées, de la forme et de la profondeur de la tumeur à traiter, de l'anatomie ainsi que de la morphologie spécifique du patient. Il s'agit de calculs complexes et laborieux qui nécessitent une exactitude au millimètre ou dixième de millimètre près afin de préserver les tissus sains. La calul numérique de la portée des protons permet d'économiser du temps lors de la préparation du traitement de chaque patient et de s'assurer que la ballistique du traitement est exacte et optimale."
   ]
  },
  {
   "cell_type": "markdown",
   "metadata": {},
   "source": [
    "## Question 5 :\n",
    "Comme mentionné en introduction, deux méthodes d'intrégration seront utilisés ici : la méthode des trapèzes et la méthode de Simpson. Leur algorithme respectif est écrit ci-dessous."
   ]
  },
  {
   "cell_type": "code",
   "execution_count": 7,
   "metadata": {},
   "outputs": [
    {
     "data": {
      "text/plain": [
       "'\\ndef f(x):\\n    return x**4 - 2*x + 1\\n\\ndat = []\\nfor x in np.linspace(0, 2, 11):\\n    dat.append([x, f(x)])\\nZ = np.asarray(dat)\\nprint(methode_Simpson(Z, 0, 2, 10))\\n'"
      ]
     },
     "execution_count": 7,
     "metadata": {},
     "output_type": "execute_result"
    }
   ],
   "source": [
    "def methode_trapezes(data, a, b, N):\n",
    "    if N == 0:   # Pour éviter une division par zéro (au calcul de h)\n",
    "        return 0\n",
    "    \n",
    "    index_a = np.where(data[:, 0] == a)[0][0]   \n",
    "    index_b = np.where(data[:, 0] == b)[0][0]\n",
    "    h = (b - a) / N\n",
    "    return h * (1/2*data[index_a, 1] + 1/2*data[index_b, 1] + sum(data[index_a+1:index_b, 1]))\n",
    "\n",
    "\n",
    "def methode_Simpson(data, a, b, N):\n",
    "    # N doit être pair pour que ça fonctionne\n",
    "    if N == 0:   # Pour éviter une division par zéro (au calcul de h)\n",
    "        return 0\n",
    "    \n",
    "    index_a = np.where(data[:, 0] == a)[0][0]   \n",
    "    index_b = np.where(data[:, 0] == b)[0][0]\n",
    "    h = (b - a) / N\n",
    "    \n",
    "    somme_impaire = 0\n",
    "    somme_paire = 0\n",
    "    for i in range(1, N, 2):\n",
    "        somme_impaire += data[index_a + i, 1]\n",
    "    for i in range(2, N, 2):\n",
    "        somme_paire += data[index_a + i, 1]\n",
    "    \n",
    "    return 1 / 3 * h * (data[index_a, 1] + data[index_b, 1] + 4 * somme_impaire + 2 * somme_paire)\n",
    "\n",
    "\n",
    "# Pour tester les méthodes avec l'exemple 5.1 et l'exercice 5.2 du manuel :\n",
    "\"\"\"\n",
    "def f(x):\n",
    "    return x**4 - 2*x + 1\n",
    "\n",
    "dat = []\n",
    "for x in np.linspace(0, 2, 11):\n",
    "    dat.append([x, f(x)])\n",
    "Z = np.asarray(dat)\n",
    "print(methode_Simpson(Z, 0, 2, 10))\n",
    "\"\"\""
   ]
  },
  {
   "cell_type": "code",
   "execution_count": 8,
   "metadata": {},
   "outputs": [
    {
     "name": "stdout",
     "output_type": "stream",
     "text": [
      "5467.503708333332\n",
      "5434.937083333331\n"
     ]
    }
   ],
   "source": [
    "# Intégrer entre 3 et 150 MeV!\n",
    "print(methode_trapezes(water_energy, 3.0, 150.0, 36))\n",
    "print(methode_Simpson(water_energy, 3.0, 150.0, 36))"
   ]
  },
  {
   "cell_type": "markdown",
   "metadata": {},
   "source": [
    "## Question 6 :\n",
    "\n",
    "L'expression analytique de la dérivée du pouvoir d'arrêt collisionnel est obtenue avec les simplifications et substitutions suggérées dans l'énoncé. On obtient l'équation suivante.\n",
    "\n",
    "\\begin{align}\n",
    "-\\left(\\frac{dT}{dx}\\right)_{col} = U \\frac{Z^2}{\\beta^2}\\left [\\ln\\left(\\frac{k\\gamma^4\\beta^4}{\\gamma\\delta+b}\\right)-\\delta+\n",
    "2(-\\beta^2-\\frac{C}{Z}+ZL_1+Z^2L_2)\\right]\n",
    "\\end{align}    "
   ]
  },
  {
   "cell_type": "markdown",
   "metadata": {},
   "source": [
    "## Question 7 :"
   ]
  },
  {
   "cell_type": "markdown",
   "metadata": {},
   "source": [
    "# Optimisation"
   ]
  },
  {
   "cell_type": "markdown",
   "metadata": {},
   "source": [
    "# Énergie déposée"
   ]
  },
  {
   "cell_type": "code",
   "execution_count": null,
   "metadata": {},
   "outputs": [],
   "source": []
  }
 ],
 "metadata": {
  "kernelspec": {
   "display_name": "Python 3",
   "language": "python",
   "name": "python3"
  },
  "language_info": {
   "codemirror_mode": {
    "name": "ipython",
    "version": 3
   },
   "file_extension": ".py",
   "mimetype": "text/x-python",
   "name": "python",
   "nbconvert_exporter": "python",
   "pygments_lexer": "ipython3",
   "version": "3.8.3"
  }
 },
 "nbformat": 4,
 "nbformat_minor": 2
}
