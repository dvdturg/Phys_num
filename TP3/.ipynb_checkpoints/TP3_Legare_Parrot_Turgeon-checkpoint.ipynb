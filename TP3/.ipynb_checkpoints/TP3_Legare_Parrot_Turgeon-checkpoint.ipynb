{
 "cells": [
  {
   "cell_type": "markdown",
   "metadata": {},
   "source": [
    "<h1><center>Physique numérique (PHY-3500)</center></h1>\n",
    "<h1><center>TP3 - Équations différentielles</center></h1>"
   ]
  },
  {
   "cell_type": "markdown",
   "metadata": {},
   "source": [
    "## Nom des membres de l'équipe:\n",
    "\n",
    "### Nom, Prénom :  NI \n",
    "### Légaré, Ophélie : 111 182 608\n",
    "### Parrot, Anaïs : 111 184 980\n",
    "### Turgeon, David : 111 182 265"
   ]
  },
  {
   "cell_type": "markdown",
   "metadata": {},
   "source": [
    "### Importation des modules :"
   ]
  },
  {
   "cell_type": "code",
   "execution_count": 1,
   "metadata": {},
   "outputs": [
    {
     "name": "stdout",
     "output_type": "stream",
     "text": [
      "Requirement already satisfied: jplephem in c:\\users\\anpar237\\anaconda3\\lib\\site-packages (2.15)\n",
      "Requirement already satisfied: numpy in c:\\users\\anpar237\\anaconda3\\lib\\site-packages (from jplephem) (1.18.5)\n",
      "Note: you may need to restart the kernel to use updated packages.\n",
      "Requirement already satisfied: de421 in c:\\users\\anpar237\\anaconda3\\lib\\site-packages (2008.1)\n",
      "Note: you may need to restart the kernel to use updated packages.\n"
     ]
    }
   ],
   "source": [
    "import numpy as np\n",
    "from numpy import empty\n",
    "from scipy import array, arange, sqrt\n",
    "import matplotlib.pyplot as plt\n",
    "import astropy as atp\n",
    "from astropy.time import Time\n",
    "from astropy import constants as const\n",
    "%pip install jplephem\n",
    "from jplephem import Ephemeris\n",
    "%pip install de421\n",
    "import de421"
   ]
  },
  {
   "cell_type": "markdown",
   "metadata": {},
   "source": [
    "# Introduction : \n",
    "En physique, les équations différentielles décrivent plusieurs concepts fondamentaux tels que le déplacement d'un système masse-ressort, la position d'un pendule, la déformation d'une poutre soumis à des contraintes, le courant dans un circuit RC,etc. On distingue les équations différentielles ordinaires (EDO) des équations différentielles partielles par la dépendance des fonctions inconnues. Cette étude concerne uniquement des équations différentielles ordinaires; des équations dans lesquelles les fonctions inconnues dépendent d'une seule variable, soit le temps.\n",
    "\n",
    "Cette dernière porte sur la mécanique des corps célestes du système solaire qui est régi par la deuxième loi de Newton. Ce rapport se divise en trois sections principales; la première concerne les comètes, la deuxième la Terre et la troisième Mars. Dans chaque cas, l'orbite du corps en rotation autour du soleil est calculé à l'aide d'une méthode numérique différente. La méthode Runge-Kutta d'ordre 4 à pas constants et à pas adaptatifs est employée pour une comète donnée. Les calculs de l'orbite de la Terre et de ses énergies potentielle et cinétique sont réalisés à partir des méthodes de Verlet, de Runge-Kutta d'ordre 2 et de Bulirsch-Stoer, puis leur précision respective est comparée. Finalement la position de Mars le jour d’atterissage de l’astromobile Perseverance est calculée en utilisant la méthode de Bulirsch-Stoer."
   ]
  },
  {
   "cell_type": "markdown",
   "metadata": {},
   "source": [
    "# Mécanique céleste - comètes"
   ]
  },
  {
   "cell_type": "markdown",
   "metadata": {},
   "source": [
    "## Question a.\n",
    "Il est possible de séparer une équation différentielle d'ordre supérieur en plusieurs équations différentielles de premier ordre. La deuxième loi de Newton qui décrit le mouvement bidimensionnel d'une comète autour du soleil est exprimée par deux équations différentielles de deuxième ordre. On sépare ces deux équations pour les ramener à quatre équations différentielles du premier ordre."
   ]
  },
  {
   "cell_type": "markdown",
   "metadata": {},
   "source": [
    "La démarche détaillée est présentée pour le mouvement dans la direction $x$ seulement puisque la démarche pour le mouvement en $y$ est la même. \n",
    "\n",
    "L'équation différentielle de départ est\n",
    "$$\\frac{d^{2}x}{dt^{2}} = -GM \\frac{x}{(x^{2}+y^{2})^{\\frac{3}{2}}} = f(x, y).$$\n",
    "On commence par faire des changements de variable pour chaque degré en $x$.\n",
    "$$\\delta = \\frac{dx}{dt}= x'$$\n",
    "$$\\delta' = \\frac{d \\delta}{dt} = \\frac{d^{2}x}{dt^{2}} = x''$$\n",
    "On substitue ces changements de variable dans l'équation du mouvement et on obtient deux équations différentielles de premier ordre.\n",
    "$$\\delta = \\frac{dx}{dt}$$\n",
    "$$\\frac{d \\delta}{dt} = -GM \\frac{x}{(x^{2}+y^{2})^{\\frac{3}{2}}}$$\n",
    "\n",
    "Dans le cas du mouvement en $y$, on obtient une réponse équivalente avec un changement de variable différent.\n",
    "$$\\gamma = \\frac{dy}{dt}$$\n",
    "$$\\frac{d \\gamma}{dt} = -GM \\frac{y}{(x^{2}+y^{2})^{\\frac{3}{2}}}$$"
   ]
  },
  {
   "cell_type": "markdown",
   "metadata": {},
   "source": [
    "## Question b.\n",
    "On utilise la méthode de Runge-Kutta d'ordre 4 pour résoudre ces quatre équations différentielles. Le pas $h$ reste constant dans ce programme."
   ]
  },
  {
   "cell_type": "code",
   "execution_count": 8,
   "metadata": {},
   "outputs": [
    {
     "name": "stderr",
     "output_type": "stream",
     "text": [
      "<ipython-input-8-3f36d0eb73b3>:23: DeprecationWarning: scipy.arange is deprecated and will be removed in SciPy 2.0.0, use numpy.arange instead\n",
      "  tpoints = arange(a, b, h)\n",
      "<ipython-input-8-3f36d0eb73b3>:26: DeprecationWarning: scipy.array is deprecated and will be removed in SciPy 2.0.0, use numpy.array instead\n",
      "  r = array([x_0, y_0, delta_0, gamma_0], float)\n",
      "<ipython-input-8-3f36d0eb73b3>:15: DeprecationWarning: scipy.sqrt is deprecated and will be removed in SciPy 2.0.0, use numpy.lib.scimath.sqrt instead\n",
      "  position = sqrt(x**2 + y**2)\n",
      "<ipython-input-8-3f36d0eb73b3>:16: DeprecationWarning: scipy.array is deprecated and will be removed in SciPy 2.0.0, use numpy.array instead\n",
      "  return array([delta, gamma, -G*M*x/position**3, -G*M*y/position**3], float)\n",
      "<ipython-input-8-3f36d0eb73b3>:38: DeprecationWarning: scipy.array is deprecated and will be removed in SciPy 2.0.0, use numpy.array instead\n",
      "  plt.plot(array(xpoints, float)/1000, array(ypoints, float)/1000)\n"
     ]
    },
    {
     "data": {
      "image/png": "[encoded data removed]",
      "text/plain": [
       "<Figure size 432x288 with 1 Axes>"
      ]
     },
     "metadata": {
      "needs_background": "light"
     },
     "output_type": "display_data"
    }
   ],
   "source": [
    "# Définition des constantes :\n",
    "G = const.G.value #constante gravitationnelle en m^3/(kg * s^2)\n",
    "M = const.M_sun.value #masse du soleil en kg\n",
    "\n",
    "x_0 = 4*10**12 #en mètres\n",
    "y_0 = 0\n",
    "delta_0 = 0 #vitesse initiale en x\n",
    "gamma_0 = 500 #vitesse initiale en y (m/s)\n",
    "\n",
    "def f(r,t):\n",
    "    x = r[0]\n",
    "    y = r[1]\n",
    "    delta = r[2]\n",
    "    gamma = r[3]\n",
    "    position = sqrt(x**2 + y**2)\n",
    "    return array([delta, gamma, -G*M*x/position**3, -G*M*y/position**3], float)\n",
    "\n",
    "a = 0 #temps initial\n",
    "b = 3600*24*365*100 #temps final (100 ans en secondes)\n",
    "N = 250000 #nombre de pas\n",
    "h = (b-a)/N\n",
    "\n",
    "tpoints = arange(a, b, h)\n",
    "xpoints = []\n",
    "ypoints = []\n",
    "r = array([x_0, y_0, delta_0, gamma_0], float)\n",
    "\n",
    "# Méthode RK4\n",
    "for t in tpoints:\n",
    "    xpoints.append(r[0])\n",
    "    ypoints.append(r[1])\n",
    "    k1 = h*f(r, t)\n",
    "    k2 = h*f(r+0.5*k1,t+0.5*h)\n",
    "    k3 = h*f(r+0.5*k2,t+0.5*h)\n",
    "    k4 = h*f(r+k3,t+h)\n",
    "    r += (k1+2*k2+2*k3+k4)/6\n",
    "    \n",
    "plt.plot(array(xpoints, float)/1000, array(ypoints, float)/1000)\n",
    "plt.title(\"Position de la comète dans un plan pour une durée de 100 ans\")\n",
    "plt.xlabel(\"Position de la comète en x [km]\")\n",
    "plt.ylabel(\"Position de la comète en y [km]\")\n",
    "plt.show()"
   ]
  },
  {
   "cell_type": "markdown",
   "metadata": {},
   "source": [
    "On observe que la période de révolution de cette comète autour du soleil est d'environ 49 ans. Le graphique ci-dessus présente la superposition d'au moins deux orbites complètes, soit 100 ans. Le pas $h$ a été sélectionné de sorte que le calcul des deux orbites soit suffisamment précis pour que ces dernières soient superposées. Le nombre $N$ de pas a été fixé à 250 000; toutefois pour une durée de 100 ans les orbites sont superposées pour un $N$ d'au moins 130 000. Si le nombre de pas $N$ est moindre, on obtient des orbites dont la trajectoire diffère davantage à mesure qu'on augmente le nombre d'années. Avec la méthode de Ruger-Kutta de dégré 4, il est possible d'augmenter le $h$ pour accélérer les calculs car cette méthode est plus précise que celles d'Euler ou de Ruger-Kutta de dégré 2 par exemple."
   ]
  },
  {
   "cell_type": "markdown",
   "metadata": {},
   "source": [
    "## Question c.\n",
    "Le programme précédent est modifié pour que le pas $h$ soit adaptatif afin de comparer la justesse des calculs avec la méthode à pas constant. L'avantage du pas adaptatif est qu'il permet d'augmenter la vitesse de calcul là où la position de la comète varie peu avec le temps tout en gardant un pas suffisamment petit là où la vitesse de la comète augmente. La précision est fixée à 1 km par année."
   ]
  },
  {
   "cell_type": "code",
   "execution_count": 3,
   "metadata": {},
   "outputs": [
    {
     "ename": "NameError",
     "evalue": "name 'tpoints' is not defined",
     "output_type": "error",
     "traceback": [
      "\u001b[1;31m---------------------------------------------------------------------------\u001b[0m",
      "\u001b[1;31mNameError\u001b[0m                                 Traceback (most recent call last)",
      "\u001b[1;32m<ipython-input-3-50186f113ebb>\u001b[0m in \u001b[0;36m<module>\u001b[1;34m\u001b[0m\n\u001b[0;32m      1\u001b[0m \u001b[0mprecision\u001b[0m \u001b[1;33m=\u001b[0m \u001b[1;36m1000\u001b[0m\u001b[1;33m/\u001b[0m\u001b[1;33m(\u001b[0m\u001b[1;36m3600\u001b[0m\u001b[1;33m*\u001b[0m\u001b[1;36m24\u001b[0m\u001b[1;33m*\u001b[0m\u001b[1;36m365\u001b[0m\u001b[1;33m)\u001b[0m \u001b[1;31m#en m/s\u001b[0m\u001b[1;33m\u001b[0m\u001b[1;33m\u001b[0m\u001b[0m\n\u001b[0;32m      2\u001b[0m \u001b[1;33m\u001b[0m\u001b[0m\n\u001b[1;32m----> 3\u001b[1;33m \u001b[1;32mfor\u001b[0m \u001b[0mt\u001b[0m \u001b[1;32min\u001b[0m \u001b[0mtpoints\u001b[0m\u001b[1;33m:\u001b[0m\u001b[1;33m\u001b[0m\u001b[1;33m\u001b[0m\u001b[0m\n\u001b[0m\u001b[0;32m      4\u001b[0m     \u001b[0mxpoints\u001b[0m\u001b[1;33m.\u001b[0m\u001b[0mappend\u001b[0m\u001b[1;33m(\u001b[0m\u001b[0mr\u001b[0m\u001b[1;33m[\u001b[0m\u001b[1;36m0\u001b[0m\u001b[1;33m]\u001b[0m\u001b[1;33m)\u001b[0m\u001b[1;33m\u001b[0m\u001b[1;33m\u001b[0m\u001b[0m\n\u001b[0;32m      5\u001b[0m     \u001b[0mypoints\u001b[0m\u001b[1;33m.\u001b[0m\u001b[0mappend\u001b[0m\u001b[1;33m(\u001b[0m\u001b[0mr\u001b[0m\u001b[1;33m[\u001b[0m\u001b[1;36m1\u001b[0m\u001b[1;33m]\u001b[0m\u001b[1;33m)\u001b[0m\u001b[1;33m\u001b[0m\u001b[1;33m\u001b[0m\u001b[0m\n",
      "\u001b[1;31mNameError\u001b[0m: name 'tpoints' is not defined"
     ]
    }
   ],
   "source": [
    "precision = 1000/(3600*24*365) #en m/s     \n",
    "    \n",
    "for t in tpoints:\n",
    "    xpoints.append(r[0])\n",
    "    ypoints.append(r[1])\n",
    "    k1 = h*f(r, t)\n",
    "    k2 = h*f(r+0.5*k1,t+0.5*h)\n",
    "    k3 = h*f(r+0.5*k2,t+0.5*h)\n",
    "    k4 = h*f(r+k3,t+h)\n",
    "    r += (k1+2*k2+2*k3+k4)/6\n",
    "    \n",
    "    \n",
    "erreur = (r1-r2)/30\n",
    "rho = (30*h*precision)/(r1-r2)\n",
    "h_prime = h*rho**(1/4)"
   ]
  },
  {
   "cell_type": "markdown",
   "metadata": {},
   "source": [
    "# Mécanique céleste - la Terre"
   ]
  },
  {
   "cell_type": "markdown",
   "metadata": {},
   "source": [
    "méthode de Verlet ... orbitre Terre autour Soleil ... 2D ..."
   ]
  },
  {
   "cell_type": "markdown",
   "metadata": {},
   "source": [
    "## Question d."
   ]
  },
  {
   "cell_type": "markdown",
   "metadata": {},
   "source": [
    "distance périhélie ... "
   ]
  },
  {
   "cell_type": "code",
   "execution_count": 4,
   "metadata": {},
   "outputs": [],
   "source": [
    "# Définition des constantes :\n",
    "G = const.G.value\n",
    "M = const.M_sun.value\n",
    "m = const.M_earth.value\n",
    "\n",
    "\n",
    "def f(x, y):\n",
    "    # Dérivée de 2ème ordre\n",
    "    r = np.sqrt(x**2 + y**2)\n",
    "    return - G * M * x / r**3, - G * M * y / r**3\n",
    "\n",
    "\n",
    "def Verlet(x0, y0, v_x0, v_y0, h, t_max):\n",
    "    x_pts = [x0]\n",
    "    y_pts = [y0]\n",
    "    for i in range(int(t_max/h)):\n",
    "        if i == 0:\n",
    "            init = f(x0, y0)\n",
    "            v_x_moitie = v_x0 + 1/2 * h * init[0]\n",
    "            v_y_moitie = v_y0 + 1/2 * h * init[1]\n",
    "            \n",
    "            x_suiv = x0 + h * v_x_moitie\n",
    "            y_suiv = y0 + h * v_y_moitie\n",
    "            \n",
    "        else :\n",
    "            v_x_moitie = v_x_moitie + k_x\n",
    "            v_y_moitie = v_y_moitie + k_y\n",
    "            \n",
    "            x_suiv = x_suiv + h * v_x_moitie\n",
    "            y_suiv = y_suiv + h * v_y_moitie\n",
    "    \n",
    "        suiv = f(x_suiv, y_suiv)\n",
    "        k_x = h * suiv[0]\n",
    "        k_y = h * suiv[1]\n",
    "    \n",
    "        v_x_suiv = v_x_moitie + 1/2 * k_x\n",
    "        v_y_suiv = v_y_moitie + 1/2 * k_y\n",
    "        \n",
    "        x_pts.append(x_suiv)\n",
    "        y_pts.append(y_suiv)\n",
    "        i += 1\n",
    "        \n",
    "    return x_pts, y_pts"
   ]
  },
  {
   "cell_type": "code",
   "execution_count": 5,
   "metadata": {},
   "outputs": [
    {
     "data": {
      "image/png": "[encoded data removed]",
      "text/plain": [
       "<Figure size 432x288 with 1 Axes>"
      ]
     },
     "metadata": {
      "needs_background": "light"
     },
     "output_type": "display_data"
    },
    {
     "data": {
      "text/plain": [
       "' TROUVER ZOOM ADÉQUAT POUR VOIR QUE LES COURBES SE SUPERPOSENT PAS EXACTEMENT?\\nplt.figure()\\nplt.plot(sln[0], sln[1])\\nplt.xlabel(\"Position en x [m]\")\\nplt.ylabel(\"Position en y [m]\")\\nplt.xlim(0, 0.1e11)\\nplt.ylim(1.475e11, 1.5e11)\\nplt.show()\\n'"
      ]
     },
     "execution_count": 5,
     "metadata": {},
     "output_type": "execute_result"
    }
   ],
   "source": [
    "# Données initiales du problème : \n",
    "x0 = 1.4710e11  # m\n",
    "y0 = 0\n",
    "v_x0 = 0  # m/s\n",
    "v_y0 = 3.0287e4 # m/s\n",
    "h = 3600  # s, donc 1 h\n",
    "\n",
    "\n",
    "sln = Verlet(x0, y0, v_x0, v_y0, h, h*8760*3)  # t_max est exprimé en h et il y a 8760 heures par année\n",
    "\n",
    "plt.figure()\n",
    "plt.plot(sln[0], sln[1])\n",
    "plt.title(\"Orbitre de la Terre autour du soleil\")\n",
    "plt.xlabel(\"Position en x [m]\")\n",
    "plt.ylabel(\"Position en y [m]\")\n",
    "plt.show()\n",
    "\n",
    "\"\"\" TROUVER ZOOM ADÉQUAT POUR VOIR QUE LES COURBES SE SUPERPOSENT PAS EXACTEMENT?\n",
    "plt.figure()\n",
    "plt.plot(sln[0], sln[1])\n",
    "plt.xlabel(\"Position en x [m]\")\n",
    "plt.ylabel(\"Position en y [m]\")\n",
    "plt.xlim(0, 0.1e11)\n",
    "plt.ylim(1.475e11, 1.5e11)\n",
    "plt.show()\n",
    "\"\"\""
   ]
  },
  {
   "cell_type": "markdown",
   "metadata": {},
   "source": [
    "## Question e."
   ]
  },
  {
   "cell_type": "code",
   "execution_count": 6,
   "metadata": {},
   "outputs": [],
   "source": [
    "def Verlet_modif(x0, y0, v_x0, v_y0, h, t_max):\n",
    "    x_pts = [x0]\n",
    "    y_pts = [y0]\n",
    "    t = np.linspace(h, t_max, int(t_max/h))\n",
    "    E_pot = []\n",
    "    E_cin = []\n",
    "    \n",
    "    for i in range(int(t_max/h)):\n",
    "        if i == 0:\n",
    "            init = f(x0, y0)\n",
    "            v_x_moitie = v_x0 + 1/2 * h * init[0]\n",
    "            v_y_moitie = v_y0 + 1/2 * h * init[1]\n",
    "            \n",
    "            x_suiv = x0 + h * v_x_moitie\n",
    "            y_suiv = y0 + h * v_y_moitie\n",
    "            \n",
    "        else :\n",
    "            v_x_moitie = v_x_moitie + k_x\n",
    "            v_y_moitie = v_y_moitie + k_y\n",
    "            \n",
    "            x_suiv = x_suiv + h * v_x_moitie\n",
    "            y_suiv = y_suiv + h * v_y_moitie\n",
    "    \n",
    "        suiv = f(x_suiv, y_suiv)\n",
    "        k_x = h * suiv[0]\n",
    "        k_y = h * suiv[1]\n",
    "    \n",
    "        v_x_suiv = v_x_moitie + 1/2 * k_x\n",
    "        v_y_suiv = v_y_moitie + 1/2 * k_y\n",
    "        \n",
    "        x_pts.append(x_suiv)\n",
    "        y_pts.append(y_suiv)\n",
    "        r = np.sqrt(x_suiv**2 + y_suiv**2)\n",
    "        v = np.sqrt(v_x_suiv**2 + v_y_suiv**2)\n",
    "        E_pot.append(G * M * m / r)  # En absolu\n",
    "        E_cin.append(1/2 * m * v**2)\n",
    "        \n",
    "        i += 1\n",
    "        \n",
    "    return x_pts, y_pts, t, E_pot, E_cin"
   ]
  },
  {
   "cell_type": "code",
   "execution_count": 7,
   "metadata": {},
   "outputs": [
    {
     "data": {
      "image/png": "[encoded data removed]",
      "text/plain": [
       "<Figure size 432x288 with 1 Axes>"
      ]
     },
     "metadata": {
      "needs_background": "light"
     },
     "output_type": "display_data"
    },
    {
     "data": {
      "text/plain": [
       "'\\nTROUVER UNE MEILLEURE FAÇON DE LES COMPARER !!\\n'"
      ]
     },
     "execution_count": 7,
     "metadata": {},
     "output_type": "execute_result"
    }
   ],
   "source": [
    "sln = Verlet_modif(x0, y0, v_x0, v_y0, h, h*8760*3)  # t_max est exprimé en h et il y a 8760 heures par année\n",
    "\n",
    "E_tot = []\n",
    "for i in range(len(sln[3])):\n",
    "    E_tot.append(sln[3][i] + sln[4][i])\n",
    "\n",
    "plt.figure()\n",
    "plt.plot(sln[2]/3600, E_tot, label=\"Énergie totale\")\n",
    "plt.plot(sln[2]/3600, sln[3], label=\"Énergie potentielle en absolu\")\n",
    "plt.plot(sln[2]/3600, sln[4], label=\"Énergie cinétique\")\n",
    "plt.title(\"Énergies associées à l'orbitre de la Terre autour du soleil\")\n",
    "plt.xlabel(\"Temps [h]\")\n",
    "plt.ylabel(\"Énergie [J]\")\n",
    "plt.legend()\n",
    "plt.show()\n",
    "\n",
    "\"\"\"\n",
    "TROUVER UNE MEILLEURE FAÇON DE LES COMPARER !!\n",
    "\"\"\""
   ]
  },
  {
   "cell_type": "markdown",
   "metadata": {},
   "source": [
    "## Question f."
   ]
  },
  {
   "cell_type": "markdown",
   "metadata": {},
   "source": [
    "## Question g.\n",
    "On calcule maintenant l'orbite de la Terre avec la méthode de Bulirsch-Stoer. La précision est fixée à 1 km par année et l'intervalle $H$ est de une semaine."
   ]
  },
  {
   "cell_type": "code",
   "execution_count": 2,
   "metadata": {},
   "outputs": [
    {
     "ename": "NameError",
     "evalue": "name 'r' is not defined",
     "output_type": "error",
     "traceback": [
      "\u001b[1;31m---------------------------------------------------------------------------\u001b[0m",
      "\u001b[1;31mNameError\u001b[0m                                 Traceback (most recent call last)",
      "\u001b[1;32m<ipython-input-2-e2c2be3d5402>\u001b[0m in \u001b[0;36m<module>\u001b[1;34m\u001b[0m\n\u001b[0;32m     22\u001b[0m \u001b[1;31m# Méthode de Bulirsch-Stoer\u001b[0m\u001b[1;33m\u001b[0m\u001b[1;33m\u001b[0m\u001b[1;33m\u001b[0m\u001b[0m\n\u001b[0;32m     23\u001b[0m \u001b[0mn\u001b[0m \u001b[1;33m=\u001b[0m \u001b[1;36m1\u001b[0m\u001b[1;33m\u001b[0m\u001b[1;33m\u001b[0m\u001b[0m\n\u001b[1;32m---> 24\u001b[1;33m \u001b[0mr1\u001b[0m \u001b[1;33m=\u001b[0m \u001b[0mr\u001b[0m \u001b[1;33m+\u001b[0m \u001b[1;36m0.5\u001b[0m\u001b[1;33m*\u001b[0m\u001b[0mH\u001b[0m\u001b[1;33m*\u001b[0m\u001b[0mf\u001b[0m\u001b[1;33m(\u001b[0m\u001b[0mr\u001b[0m\u001b[1;33m)\u001b[0m\u001b[1;33m\u001b[0m\u001b[1;33m\u001b[0m\u001b[0m\n\u001b[0m\u001b[0;32m     25\u001b[0m \u001b[0mr2\u001b[0m \u001b[1;33m=\u001b[0m \u001b[0mr\u001b[0m \u001b[1;33m+\u001b[0m \u001b[0mH\u001b[0m\u001b[1;33m*\u001b[0m\u001b[0mf\u001b[0m\u001b[1;33m(\u001b[0m\u001b[0mr1\u001b[0m\u001b[1;33m)\u001b[0m\u001b[1;33m\u001b[0m\u001b[1;33m\u001b[0m\u001b[0m\n\u001b[0;32m     26\u001b[0m \u001b[1;33m\u001b[0m\u001b[0m\n",
      "\u001b[1;31mNameError\u001b[0m: name 'r' is not defined"
     ]
    }
   ],
   "source": [
    "# Définition des constantes :\n",
    "G = const.G.value\n",
    "M = const.M_sun.value\n",
    "m = const.M_earth.value\n",
    "\n",
    "# Données initiales du problème : \n",
    "x0 = 1.4710e11  # m\n",
    "y0 = 0\n",
    "v_x0 = 0  # m/s\n",
    "v_y0 = 3.0287e4 # m/s\n",
    "H = 3600*24*7  # s, donc 1 semaine\n",
    "precision = 1000 # m\n",
    "\n",
    "def f(r):\n",
    "    x = r[0]\n",
    "    y = r[1]\n",
    "    v_x = r[2]\n",
    "    v_y = r[3]\n",
    "    position = sqrt(x**2 + y**2)\n",
    "    return array([v_x, v_y, -G*M*x/position**3, -G*M*y/position**3], float)\n",
    "\n",
    "# Méthode de Bulirsch-Stoer \n",
    "n = 1 \n",
    "r1 = r + 0.5*H*f(r) \n",
    "r2 = r + H*f(r1) \n",
    "\n",
    "R1 = empty([1,4] ,float) \n",
    "R1[0] = 0.5*(r1 + r2 + 0.5*H*f(r2)) \n",
    " \n",
    "erreur = 2*H*precision\n",
    "while erreur>H*precision: \n",
    "    n += 1 \n",
    "    h = H/n \n",
    "\n",
    "# Méthode de mi-chemin modifiée  \n",
    "    r1 = r + 0.5*h*f(r) \n",
    "    r2 = r + h*f(r1) \n",
    "    for i in range(n-1): \n",
    "        r1 += h*f(r2) \n",
    "        r2 += h*f(r1) \n",
    "    \n",
    "# Extrapolation Richardson \n",
    "    R2 = R1 \n",
    "    R1 = empty([n,4] ,float) \n",
    "    R1[0] = 0.5*(r1 + r2 + 0.5*h*f(r2)) \n",
    "    for m in range(1,n): \n",
    "        epsilon= (R1[m-1]-R2[m-1])/((n/(n-1))**(2*m)-1) \n",
    "        R1[m] = R1[m-1] + epsilon \n",
    "    erreur= abs(epsilon[0])  \n",
    "\n",
    "xpoints = []\n",
    "ypoints = []\n",
    "r = array([x0, y0, v_x0, v_y0], float)\n",
    "\n",
    "plt.plot(xpoints, ypoints)\n",
    "plt.title(\"Orbitre de la Terre autour du soleil\")\n",
    "plt.xlabel(\"Position en x [m]\")\n",
    "plt.ylabel(\"Position en x [m]\")\n",
    "plt.show()"
   ]
  },
  {
   "cell_type": "markdown",
   "metadata": {},
   "source": [
    "# Mécanique céleste - Mars"
   ]
  },
  {
   "cell_type": "markdown",
   "metadata": {},
   "source": [
    "## Question h."
   ]
  },
  {
   "cell_type": "code",
   "execution_count": 15,
   "metadata": {},
   "outputs": [
    {
     "data": {
      "text/plain": [
       "array([[-1.94538523e+06],\n",
       "       [ 2.14280417e+08],\n",
       "       [ 9.83090643e+07]])"
      ]
     },
     "execution_count": 15,
     "metadata": {},
     "output_type": "execute_result"
    }
   ],
   "source": [
    "# éphémérides\n",
    "eph = Ephemeris(de421)\n",
    "# dates\n",
    "lancement=Time(\"2020-07-30\")\n",
    "atterissage=Time(\"2021-02-18\")\n",
    "# un nombre de jours juliens est attendu par la routine, d’où le .jd\n",
    "# position en km, vitesse en km par jour\n",
    "position, velocity = eph.position_and_velocity('mars',lancement.jd)\n",
    "eph.position('mars',atterissage.jd)"
   ]
  },
  {
   "cell_type": "code",
   "execution_count": null,
   "metadata": {},
   "outputs": [],
   "source": []
  }
 ],
 "metadata": {
  "kernelspec": {
   "display_name": "Python 3",
   "language": "python",
   "name": "python3"
  },
  "language_info": {
   "codemirror_mode": {
    "name": "ipython",
    "version": 3
   },
   "file_extension": ".py",
   "mimetype": "text/x-python",
   "name": "python",
   "nbconvert_exporter": "python",
   "pygments_lexer": "ipython3",
   "version": "3.8.3"
  }
 },
 "nbformat": 4,
 "nbformat_minor": 2
}
