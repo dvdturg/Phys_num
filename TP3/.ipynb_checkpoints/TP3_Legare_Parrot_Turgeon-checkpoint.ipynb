{
 "cells": [
  {
   "cell_type": "markdown",
   "metadata": {},
   "source": [
    "<h1><center>Physique numérique (PHY-3500)</center></h1>\n",
    "<h1><center>TP3 - Équations différentielles</center></h1>"
   ]
  },
  {
   "cell_type": "markdown",
   "metadata": {},
   "source": [
    "## Nom des membres de l'équipe:\n",
    "\n",
    "### Nom, Prénom :  NI \n",
    "### Légaré, Ophélie : 111 182 608\n",
    "### Parrot, Anaïs : 111 184 980\n",
    "### Turgeon, David : 111 182 265"
   ]
  },
  {
   "cell_type": "markdown",
   "metadata": {},
   "source": [
    "### Importation des modules :"
   ]
  },
  {
   "cell_type": "code",
   "execution_count": 1,
   "metadata": {},
   "outputs": [
    {
     "name": "stdout",
     "output_type": "stream",
     "text": [
      "Requirement already satisfied: jplephem in c:\\users\\anpar237\\anaconda3\\lib\\site-packages (2.15)\n",
      "Requirement already satisfied: numpy in c:\\users\\anpar237\\anaconda3\\lib\\site-packages (from jplephem) (1.18.5)\n",
      "Note: you may need to restart the kernel to use updated packages.\n",
      "Requirement already satisfied: de421 in c:\\users\\anpar237\\anaconda3\\lib\\site-packages (2008.1)\n",
      "Note: you may need to restart the kernel to use updated packages.\n"
     ]
    }
   ],
   "source": [
    "import numpy as np\n",
    "from scipy import array, arange, sqrt\n",
    "import matplotlib.pyplot as plt\n",
    "from astropy import constants as const\n",
    "from astropy.time import Time\n",
    "%pip install jplephem\n",
    "from jplephem import Ephemeris\n",
    "%pip install de421\n",
    "import de421"
   ]
  },
  {
   "cell_type": "markdown",
   "metadata": {},
   "source": [
    "# Introduction : \n",
    "En physique, les équations différentielles décrivent plusieurs concepts fondamentaux tels que le déplacement d'un système masse-ressort, la position d'un pendule, la déformation d'une poutre soumis à des contraintes, le courant dans un circuit RC,etc. On distingue les équations différentielles ordinaires (EDO) des équations différentielles partielles par la dépendance des fonctions inconnues. Cette étude concerne uniquement des équations différentielles ordinaires; des équations dans lesquelles les fonctions inconnues dépendent d'une seule variable, soit le temps.\n",
    "\n",
    "Cette dernière porte sur la mécanique des corps célestes du système solaire qui est régi par la deuxième loi de Newton. Ce rapport se divise en trois sections principales; la première concerne les comètes, la deuxième la Terre et la troisième Mars. Dans chaque cas, l'orbite du corps en rotation autour du soleil est calculé à l'aide d'une méthode numérique différente. La méthode Runge-Kutta d'ordre 4 à pas constants et à pas adaptatifs est employée pour une comète donnée. Les calculs de l'orbite de la Terre et de ses énergies potentielle et cinétique sont réalisés à partir des méthodes de Verlet, de Runge-Kutta d'ordre 2 et de Bulirsch-Stoer, puis leur précision respective est comparée. Finalement la position de Mars le jour d’atterissage de l’astromobile Perseverance est calculée en utilisant la méthode de Bulirsch-Stoer."
   ]
  },
  {
   "cell_type": "markdown",
   "metadata": {},
   "source": [
    "# Mécanique céleste - comètes"
   ]
  },
  {
   "cell_type": "markdown",
   "metadata": {},
   "source": [
    "## Question a.\n",
    "Il est possible de séparer une équation différentielle d'ordre supérieur en plusieurs équations différentielles de premier ordre. La deuxième loi de Newton qui décrit le mouvement bidimensionnel d'une comète autour du soleil est exprimée par deux équations différentielles de deuxième ordre. On sépare ces deux équations pour les ramener à quatre équations différentielles du premier ordre."
   ]
  },
  {
   "cell_type": "markdown",
   "metadata": {},
   "source": [
    "La démarche détaillée est présentée pour le mouvement dans la direction $x$ seulement puisque la démarche pour le mouvement en $y$ est la même. \n",
    "\n",
    "L'équation différentielle de départ est\n",
    "$$\\frac{d^{2}x}{dt^{2}} = -GM \\frac{x}{(x^{2}+y^{2})^{\\frac{3}{2}}} = f(x, y).$$\n",
    "On commence par faire des changements de variable pour chaque degré en $x$.\n",
    "$$\\delta = \\frac{dx}{dt}= x'$$\n",
    "$$\\delta' = \\frac{d \\delta}{dt} = \\frac{d^{2}x}{dt^{2}} = x''$$\n",
    "On substitue ces changements de variable dans l'équation du mouvement et on obtient deux équations différentielles de premier ordre.\n",
    "$$\\delta = \\frac{dx}{dt}$$\n",
    "$$\\frac{d \\delta}{dt} = -GM \\frac{x}{(x^{2}+y^{2})^{\\frac{3}{2}}}$$\n",
    "\n",
    "Dans le cas du mouvement en $y$, on obtient une réponse équivalente avec un changement de variable différent.\n",
    "$$\\gamma = \\frac{dy}{dt}$$\n",
    "$$\\frac{d \\gamma}{dt} = -GM \\frac{y}{(x^{2}+y^{2})^{\\frac{3}{2}}}$$"
   ]
  },
  {
   "cell_type": "markdown",
   "metadata": {},
   "source": [
    "## Question b.\n",
    "On utilise la méthode de Runge-Kutta d'ordre 4 pour résoudre ces quatre équations différentielles. Le pas $h$ reste constant dans ce programme."
   ]
  },
  {
   "cell_type": "code",
   "execution_count": null,
   "metadata": {},
   "outputs": [],
   "source": [
    "# Définition des constantes :\n",
    "G = const.G.value #constante gravitationnelle en m^3/(kg * s^2)\n",
    "M = const.M_sun.value #masse du soleil en kg\n",
    "\n",
    "x_0 = 4*10**12 #en mètres\n",
    "y_0 = 0\n",
    "delta_0 = 0 #vitesse initiale en x\n",
    "gamma_0 = 500 #vitesse initiale en y (m/s)\n",
    "\n",
    "def f(r,t):\n",
    "    x = r[0]\n",
    "    y = r[1]\n",
    "    delta = r[2]\n",
    "    gamma = r[3]\n",
    "    position = np.sqrt(x**2 + y**2)\n",
    "    return np.array([delta, gamma, -G*M*x/position**3, -G*M*y/position**3], float)\n",
    "\n",
    "a = 0 #temps initial\n",
    "b = 3600*24*365*100 #temps final (100 ans en secondes)\n",
    "N = 250000 #nombre de pas\n",
    "h = (b-a)/N\n",
    "\n",
    "tpoints = np.arange(a, b, h)\n",
    "xpoints = []\n",
    "ypoints = []\n",
    "r = np.array([x_0, y_0, delta_0, gamma_0], float)\n",
    "\n",
    "# Méthode RK4 \n",
    "for t in tpoints:\n",
    "    xpoints.append(r[0])\n",
    "    ypoints.append(r[1])\n",
    "    k1 = h*f(r, t)\n",
    "    k2 = h*f(r+0.5*k1,t+0.5*h)\n",
    "    k3 = h*f(r+0.5*k2,t+0.5*h)\n",
    "    k4 = h*f(r+k3,t+h)\n",
    "    r += (k1+2*k2+2*k3+k4)/6\n",
    "\n",
    "plt.figure(figsize=(5, 5))\n",
    "plt.plot(np.array(xpoints, float)/1000, np.array(ypoints, float)/1000)\n",
    "plt.plot(np.array(xpoints, float)[::1000] / 1000, np.array(ypoints[::1000], float) / 1000, 'ko')\n",
    "plt.title(\"Position de la comète dans un plan pour une durée de 100 ans\")\n",
    "plt.xlabel(\"Position de la comète en x [km]\")\n",
    "plt.ylabel(\"Position de la comète en y [km]\")\n",
    "plt.show()"
   ]
  },
  {
   "cell_type": "markdown",
   "metadata": {},
   "source": [
    "On observe que la période de révolution de cette comète autour du soleil est d'environ 49 ans. Le graphique ci-dessus présente la superposition d'au moins deux orbites complètes, soit 100 ans. Le pas $h$ a été sélectionné de sorte que le calcul des deux orbites soit suffisamment précis pour que ces dernières soient superposées. Le nombre $N$ de pas a été fixé à 250 000; toutefois pour une durée de 100 ans les orbites sont superposées pour un $N$ d'au moins 130 000. Si le nombre de pas $N$ est moindre, on obtient des orbites dont la trajectoire diffère davantage à mesure qu'on augmente le nombre d'années. Avec la méthode de Ruger-Kutta de dégré 4, il est possible d'augmenter le $h$ pour accélérer les calculs car cette méthode est plus précise que celles d'Euler ou de Ruger-Kutta de dégré 2 par exemple."
   ]
  },
  {
   "cell_type": "markdown",
   "metadata": {},
   "source": [
    "## Question c.\n",
    "Le programme précédent est modifié pour que le pas $h$ soit adaptatif afin de comparer la justesse des calculs avec la méthode à pas constant. L'avantage du pas adaptatif est qu'il permet d'augmenter la vitesse de calcul là où la position de la comète varie peu avec le temps tout en gardant un pas suffisamment petit là où la vitesse de la comète augmente. La précision est fixée à 1 km par année."
   ]
  },
  {
   "cell_type": "code",
   "execution_count": 6,
   "metadata": {},
   "outputs": [
    {
     "data": {
      "image/png": "[encoded data removed]",
      "text/plain": [
       "<Figure size 432x288 with 1 Axes>"
      ]
     },
     "metadata": {
      "needs_background": "light"
     },
     "output_type": "display_data"
    }
   ],
   "source": [
    "precision = 1000/(3600*24*365) #en m/s    \n",
    "\n",
    "N = 250000 #nombre de pas\n",
    "b = 3600*24*365*100 #temps final (100 ans en secondes)\n",
    "h = (b-a)/N\n",
    "\n",
    "tpoints = np.arange(a, b, h)\n",
    "xpoints_ = []\n",
    "ypoints_ = []\n",
    "r = np.array([x_0, y_0, delta_0, gamma_0], float)\n",
    "\n",
    "# Pas adaptatifs\n",
    "def pas(r, t, h):\n",
    "\n",
    "    # Pas de h\n",
    "    pas_1 = pas(r, t, h)\n",
    "    pas_2 = pas(r + pas_1, t+h, h)\n",
    "    pas_simple = pas_1 + pas_2\n",
    "\n",
    "    # Pas de 2h\n",
    "    pas_double = pas(r, t, 2*h) \n",
    "    \n",
    "    # Erreur, précision\n",
    "    x1 = pas_simple[0]\n",
    "    x2 = pas_double[0]\n",
    "    y1 = pas_simple[1]\n",
    "    y2 = pas_double[1]\n",
    "    erreur_x = (x1-x2)/30\n",
    "    erreur_y = (y1-y2)/30\n",
    "    erreur = np.sqrt(erreur_x**2 + erreur_y**2)\n",
    "    rho = (h*precision)/erreur\n",
    "    h_prime = h*rho**(1/4)\n",
    "\n",
    "    # Vérification de la précision \n",
    "    if rho >= 1:\n",
    "        t = t+2*h\n",
    "        \n",
    "        if rho**(1/4) > 2:\n",
    "            h *= 2\n",
    "        else:\n",
    "            h *= rho**(1/4)\n",
    "\n",
    "        \n",
    "    # Extrapolation locale\n",
    "        pas_simple[0] += 1/15 * (x1-x2)\n",
    "        pas_simple[1] += 1/15 * (y1-y2)\n",
    "    \n",
    "        return pas_simple, h, t\n",
    "    else:\n",
    "        return pas(r, t, rho**(1/4) * h)\n",
    "\n",
    "# Méthode RK4 \n",
    "for t in tpoints:\n",
    "    xpoints_.append(r[0])\n",
    "    ypoints_.append(r[1])\n",
    "    k1 = h*f(r, t)\n",
    "    k2 = h*f(r+0.5*k1,t+0.5*h)\n",
    "    k3 = h*f(r+0.5*k2,t+0.5*h)\n",
    "    k4 = h*f(r+k3,t+h)\n",
    "    r += (k1+2*k2+2*k3+k4)/6\n",
    "    \n",
    "plt.figure(figsize=(5, 5))\n",
    "plt.plot(np.array(xpoints_, float)/1000, np.array(ypoints_, float)/1000)\n",
    "plt.plot(np.array(xpoints_, float)[::1000] / 1000, np.array(ypoints_[::1000], float) / 1000, 'ko')\n",
    "plt.title(\"Position de la comète dans un plan pour une durée de 100 ans\")\n",
    "plt.xlabel(\"Position de la comète en x [km]\")\n",
    "plt.ylabel(\"Position de la comète en y [km]\")\n",
    "plt.show()"
   ]
  },
  {
   "cell_type": "markdown",
   "metadata": {},
   "source": [
    "# Mécanique céleste - la Terre"
   ]
  },
  {
   "cell_type": "markdown",
   "metadata": {},
   "source": [
    "Dans cette partie, on s'intéresse à la mécanique céleste de la Terre. Son mouvement est décrit par :\n",
    "$$ \\frac{d^2 \\mathbf{r}}{dt^2} = -GM\\frac{\\mathbf{r}}{r^3}$$\n",
    "\n",
    "En résolvant cette équation différentielle de deuxième ordre, il est possible de calculer l'orbitre de la Terre autour du Soleil. Dans ce cas-ci, $\\mathbf{r}$ est un vecteur de deux dimensions, soit $x$ et $y$. \n",
    "\n",
    "L'orbitre de la Terre sera calculée grâce à la méthode de Verlet, de Runge-Kutta et de Burlisch-Stoer afin de comparer la précision des trois méthodes. De plus, l'énergie potentielle et cinétique associée au mouvement de la Terre sur son orbitre seront aussi calculées grâce aux deux premières méthodes."
   ]
  },
  {
   "cell_type": "markdown",
   "metadata": {},
   "source": [
    "## Question d."
   ]
  },
  {
   "cell_type": "markdown",
   "metadata": {},
   "source": [
    "On commence par définir l'équation différentielle de deuxième ordre sous la forme d'une équation $ \\frac{d^2 \\mathbf{r}}{dt^2} = f(\\mathbf{r}, t)$. On définit ensuite la méthode de Verlet pour commencer. Partant des conditions initiales données dans le problème, on résout l'équation pour être en mesure de tracer l'orbitre de la Terre. Le périhélie représente le point où la Terre est le plus près du Soleil. À cet endroit, la Terre est perpendiculaire à la ligne la reliant au Soleil."
   ]
  },
  {
   "cell_type": "code",
   "execution_count": 16,
   "metadata": {},
   "outputs": [],
   "source": [
    "# Définition des constantes :\n",
    "G = const.G.value   # Constante gravitationnelle [m^3/(kg s^2)]\n",
    "M = const.M_sun.value   # Masse du Soleil [kg]\n",
    "m = const.M_earth.value  # Masse de la Terre [kg]\n",
    "\n",
    "\n",
    "def f(x, y):\n",
    "    # Dérivée de 2ème ordre\n",
    "    r = np.sqrt(x**2 + y**2)   # Norme du vecteur en 2 dimensions\n",
    "    return - G * M * x / r**3, - G * M * y / r**3\n",
    "\n",
    "\n",
    "def Verlet(x0, y0, v_x0, v_y0, h, t_max):\n",
    "    # x0, y0, v_x0 et v_y0 représentent les données initiales du problème, h est l'incrément temporel utilisé\n",
    "    # et t_max est le temps maximal sur lequel on veut résoudre l'équation différentielle. t_max est un multiple\n",
    "    # de h et ne réfère pas au temps de simulation.\n",
    "    \n",
    "    x_pts = [x0]  # Ces deux listes permettent d'enregistrer la position de la Terre sur son orbitre.\n",
    "    y_pts = [y0]\n",
    "    \n",
    "    for i in range(int(t_max/h)):\n",
    "        # On itère sur le nombre d'incréments temporels choisi en arguement de la fonction.\n",
    "        \n",
    "        if i == 0:\n",
    "            # On définit ici les premiers paramètres selon la méthode de Verlet et à partir des conditions \n",
    "            # initiales du problème.\n",
    "            init = f(x0, y0)\n",
    "            v_x_moitie = v_x0 + 1/2 * h * init[0]\n",
    "            v_y_moitie = v_y0 + 1/2 * h * init[1]\n",
    "            \n",
    "            x_suiv = x0 + h * v_x_moitie\n",
    "            y_suiv = y0 + h * v_y_moitie\n",
    "            \n",
    "        else :\n",
    "            # Par la suite, on définit les paramètres suivants dans notre itération à partir des précédents \n",
    "            # paramètres calculés.\n",
    "            v_x_moitie = v_x_moitie + k_x\n",
    "            v_y_moitie = v_y_moitie + k_y\n",
    "            \n",
    "            x_suiv = x_suiv + h * v_x_moitie\n",
    "            y_suiv = y_suiv + h * v_y_moitie\n",
    "        \n",
    "        # Les calculs suivants s'appliquent à chaque itération.\n",
    "        suiv = f(x_suiv, y_suiv)\n",
    "        k_x = h * suiv[0]\n",
    "        k_y = h * suiv[1]\n",
    "    \n",
    "        v_x_suiv = v_x_moitie + 1/2 * k_x\n",
    "        v_y_suiv = v_y_moitie + 1/2 * k_y\n",
    "        \n",
    "        # On ajoute les positions calculés à nos listes de points pour tracer prochainement l'orbitre de la Terre.\n",
    "        x_pts.append(x_suiv)\n",
    "        y_pts.append(y_suiv)\n",
    "        \n",
    "        # Pour garder une trace des itérations et s'assurer qu'on a passé la première qui exige des définitions\n",
    "        # différentes pour les paramètres v_moitié et x/y_suiv.\n",
    "        i += 1\n",
    "        \n",
    "    return x_pts, y_pts"
   ]
  },
  {
   "cell_type": "code",
   "execution_count": 17,
   "metadata": {},
   "outputs": [
    {
     "data": {
      "image/png": "[encoded data removed]",
      "text/plain": [
       "<Figure size 360x360 with 1 Axes>"
      ]
     },
     "metadata": {
      "needs_background": "light"
     },
     "output_type": "display_data"
    }
   ],
   "source": [
    "# Données initiales du problème : \n",
    "x0 = 1.4710e11  # m\n",
    "y0 = 0  # m\n",
    "v_x0 = 0  # m/s\n",
    "v_y0 = 3.0287e4 # m/s\n",
    "h = 3600  # s, donc 1 h\n",
    "\n",
    "# Résoudre l'équation différentielle avec les données initiales du problème : \n",
    "sln = Verlet(x0, y0, v_x0, v_y0, h, h*8760*10)  # t_max est exprimé en h et il y a 8760 heures par année. On \n",
    "# teste donc ici avec 10 années, soit 10 orbitres.\n",
    "\n",
    "plt.figure(figsize=(5, 5))\n",
    "plt.plot(sln[0], sln[1])  # (x, y)\n",
    "plt.title(\"Orbitre de la Terre autour du Soleil\")\n",
    "plt.xlabel(\"Position en x [m]\")\n",
    "plt.ylabel(\"Position en y [m]\")\n",
    "plt.show()"
   ]
  },
  {
   "cell_type": "code",
   "execution_count": 18,
   "metadata": {},
   "outputs": [
    {
     "name": "stdout",
     "output_type": "stream",
     "text": [
      "En x, le demi-axe vaut 147.100000 Gm et, en y, il vaut 149.584729 Gm.\n",
      "Dans les négatifs, on retrouve une valeur de -152.111391 Gm en x et de -149.584703 Gm en y.\n"
     ]
    }
   ],
   "source": [
    "print(\"En x, le demi-axe vaut {:.6f} Gm et, en y, il vaut {:.6f} Gm.\".format(np.amax(sln[0])/1e9, np.amax(sln[1])/1e9))\n",
    "print(\"Dans les négatifs, on retrouve une valeur de {:.6f} Gm en x et de {:.6f} Gm en y.\".format(np.amin(sln[0])/1e9, np.amin(sln[1])/1e9))\n",
    "# L'affichage s'arrêtant au km est imposé de manière à faciliter la comparaison avec les valeurs obtenues à la\n",
    "# question g)."
   ]
  },
  {
   "cell_type": "markdown",
   "metadata": {},
   "source": [
    "Tel qu'attendu, l'orbitre est quelque peu elliptique. Le périhélie en $x$ est respecté. Pour les autres paramètres comme l'aphélie, ceux-ci sont aussi dans les bons ordres de grandeur [1]."
   ]
  },
  {
   "cell_type": "markdown",
   "metadata": {},
   "source": [
    "## Question e."
   ]
  },
  {
   "cell_type": "markdown",
   "metadata": {},
   "source": [
    "Le précédent code définissant la méthode de Verlet est maintenant modifié pour qu'il calcule aussi les énergies potentielle et cinétique à chaque pas. Il sera ainsi possible de tracer ces énergies en fonction du temps."
   ]
  },
  {
   "cell_type": "code",
   "execution_count": 19,
   "metadata": {},
   "outputs": [],
   "source": [
    "def Verlet_modif(x0, y0, v_x0, v_y0, h, t_max):\n",
    "    x_pts = [x0]\n",
    "    y_pts = [y0]\n",
    "    \n",
    "    # On ajoute maintenant des listes qui enregisteront le temps écoulé, ainsi que les énergies potentielle et\n",
    "    # cinétique à chaque pas. \n",
    "    t = np.linspace(h, t_max, int(t_max/h))\n",
    "    E_pot = []\n",
    "    E_cin = []\n",
    "    \n",
    "    for i in range(int(t_max/h)):\n",
    "        if i == 0:\n",
    "            init = f(x0, y0)\n",
    "            v_x_moitie = v_x0 + 1/2 * h * init[0]\n",
    "            v_y_moitie = v_y0 + 1/2 * h * init[1]\n",
    "            \n",
    "            x_suiv = x0 + h * v_x_moitie\n",
    "            y_suiv = y0 + h * v_y_moitie\n",
    "            \n",
    "        else :\n",
    "            v_x_moitie = v_x_moitie + k_x\n",
    "            v_y_moitie = v_y_moitie + k_y\n",
    "            \n",
    "            x_suiv = x_suiv + h * v_x_moitie\n",
    "            y_suiv = y_suiv + h * v_y_moitie\n",
    "    \n",
    "        suiv = f(x_suiv, y_suiv)\n",
    "        k_x = h * suiv[0]\n",
    "        k_y = h * suiv[1]\n",
    "    \n",
    "        v_x_suiv = v_x_moitie + 1/2 * k_x\n",
    "        v_y_suiv = v_y_moitie + 1/2 * k_y\n",
    "        \n",
    "        x_pts.append(x_suiv)\n",
    "        y_pts.append(y_suiv)\n",
    "        \n",
    "        # On doit maintenant calculer la norme des vecteurs r et v pour pouvoir mesurer les énergies potentielle\n",
    "        # et cinétique. \n",
    "        r = np.sqrt(x_suiv**2 + y_suiv**2)\n",
    "        v = np.sqrt(v_x_suiv**2 + v_y_suiv**2)\n",
    "        E_pot.append(-G * M * m / r) \n",
    "        E_cin.append(1/2 * m * v**2)\n",
    "        \n",
    "        i += 1\n",
    "        \n",
    "    return x_pts, y_pts, t, E_pot, E_cin"
   ]
  },
  {
   "cell_type": "code",
   "execution_count": 20,
   "metadata": {},
   "outputs": [
    {
     "data": {
      "image/png": "[encoded data removed]",
      "text/plain": [
       "<Figure size 504x360 with 1 Axes>"
      ]
     },
     "metadata": {
      "needs_background": "light"
     },
     "output_type": "display_data"
    },
    {
     "data": {
      "image/png": "[encoded data removed]",
      "text/plain": [
       "<Figure size 1008x360 with 2 Axes>"
      ]
     },
     "metadata": {
      "needs_background": "light"
     },
     "output_type": "display_data"
    }
   ],
   "source": [
    "sln = Verlet_modif(x0, y0, v_x0, v_y0, h, h*8760)  # t_max est exprimé en h et il y a 8760 heures par année. \n",
    "# Ici, une seule année est représentée, donc un seul orbitre.\n",
    "\n",
    "# Pour additionner les deux énergies :\n",
    "E_tot = []\n",
    "for i in range(len(sln[3])):\n",
    "    E_tot.append(sln[3][i] + sln[4][i])\n",
    "\n",
    "plt.figure(figsize=(7, 5))\n",
    "plt.plot(sln[2]/3600, E_tot, label=\"Énergie totale\")\n",
    "plt.plot(sln[2]/3600, sln[3], label=\"Énergie potentielle\")\n",
    "plt.plot(sln[2]/3600, sln[4], label=\"Énergie cinétique\")\n",
    "plt.title(\"Énergies associées à l'orbitre de la Terre autour du Soleil\")\n",
    "plt.xlabel(\"Temps [h]\")\n",
    "plt.ylabel(\"Énergie [J]\")\n",
    "plt.legend()\n",
    "plt.show()\n",
    "\n",
    "fig, (ax1, ax2) = plt.subplots(1, 2, figsize=(14, 5))\n",
    "ax1.plot(sln[2]/3600, sln[3], \"orange\")\n",
    "ax1.set_title(\"Énergie potentielle\")\n",
    "ax1.set_xlabel(\"Temps [h]\")\n",
    "ax1.set_ylabel(\"Énergie [J]\")\n",
    "ax2.plot(sln[2]/3600, sln[4], \"green\")\n",
    "ax2.set_title(\"Énergie cinétique\")\n",
    "ax2.set_xlabel(\"Temps [h]\")\n",
    "ax2.set_ylabel(\"Énergie [J]\")\n",
    "plt.show()"
   ]
  },
  {
   "cell_type": "markdown",
   "metadata": {},
   "source": [
    "On constate que la somme des deux énergies donne une constante dans le temps. Par conséquent, le principe de conservation de l'énergie est respecté. Là où l'énergie potentielle est maximale, l'énergie cinétique est minimale. Le périhélie représente la distance où la Terre est la plus proche du Soleil. Il est donc normal que ce soit au temps zéro que l'énergie potentielle est minimale et que l'énergie cinétique est maximale. Après avoir complété la moitié de son orbitre, la Terre se trouve à l'aphélie, et donc, l'énergie potentielle est maximale."
   ]
  },
  {
   "cell_type": "markdown",
   "metadata": {},
   "source": [
    "## Question f."
   ]
  },
  {
   "cell_type": "code",
   "execution_count": 33,
   "metadata": {},
   "outputs": [
    {
     "data": {
      "image/png": "[encoded data removed]",
      "text/plain": [
       "<Figure size 360x360 with 1 Axes>"
      ]
     },
     "metadata": {
      "needs_background": "light"
     },
     "output_type": "display_data"
    }
   ],
   "source": [
    "# Données initiales du problème : \n",
    "x0 = 1.4710e11  # m\n",
    "y0 = 0  # m\n",
    "v_x0 = 0  # m/s\n",
    "v_y0 = 3.0287e4 # m/s\n",
    "\n",
    "a = 0 #temps initial\n",
    "b = 3600*8760 #temps final en s (nombre de secondes par année, pour une orbite complète)\n",
    "N = 250000 #nombre de pas\n",
    "h = (b-a)/N\n",
    "\n",
    "def f(r,t):\n",
    "    # La dérivée de 2e ordre est redéfinie ici de manière à faciliter les calculs\n",
    "    x = r[0]\n",
    "    y = r[1]\n",
    "    v_x = r[2]\n",
    "    v_y = r[3]\n",
    "    distance = np.sqrt(x**2 + y**2)  # Norme du vecteur en 2 dimensions\n",
    "    return np.array([v_x, v_y, -G*M*x/distance**3, -G*M*y/distance**3], float)\n",
    "\n",
    "tpoints = np.arange(a,b,h) \n",
    "xpoints = [] \n",
    "ypoints = [] \n",
    "r = np.array([x0, y0, v_x0, v_y0], float)\n",
    "\n",
    "# Méthode RK2\n",
    "for t in tpoints:\n",
    "    xpoints.append(r[0])\n",
    "    ypoints.append(r[1])\n",
    "    k1 = h*f(r, t)\n",
    "    k2 = h*f(r+0.5*k1,t+0.5*h)\n",
    "    r += k2\n",
    "    \n",
    "plt.figure(figsize=(5, 5))    \n",
    "plt.plot(np.array(xpoints, float), np.array(ypoints, float))\n",
    "plt.plot(np.array(xpoints, float)[::10000], np.array(ypoints[::10000], float), 'ko')\n",
    "plt.title(\"Orbite de la Terre autour du Soleil\")\n",
    "plt.xlabel(\"Position de la Terre en x [m]\")\n",
    "plt.ylabel(\"Position de la Terre en y [m]\")\n",
    "plt.show()"
   ]
  },
  {
   "cell_type": "markdown",
   "metadata": {},
   "source": [
    "## Question g.\n",
    "On calcule maintenant l'orbite de la Terre avec la méthode de Bulirsch-Stoer. La précision est fixée à 1 km par année et l'intervalle $H$ est de une semaine. L'implémentation de cette méthode s'inspire de l'exemple 8.7 du manuel de cours [2]."
   ]
  },
  {
   "cell_type": "code",
   "execution_count": 46,
   "metadata": {},
   "outputs": [],
   "source": [
    "def Bulirsch_Stoer(x0, y0, v_x0, v_y0, H, t_max, precision):\n",
    "    # x0, y0, v_x0 et v_y0 représentent les données initiales du problème, H est l'incrément temporel utilisé,\n",
    "    # t_max est le temps maximal sur lequel on veut résoudre l'équation différentielle et precision est la \n",
    "    # précision souhaitée pour chaque nouvelle position calculée. t_max est un multiple de h et ne réfère pas \n",
    "    # au temps de simulation.\n",
    "    \n",
    "    temps = np.arange(0, t_max+H, H)  # On définit ici l'intervalle de temps allant de 0 à t_max par bonds de H.\n",
    "    points_x = []   # Ces deux listes permettent d'enregistrer la position de la Terre sur son orbitre.\n",
    "    points_y = []\n",
    "    r = np.array([x0, y0, v_x0, v_y0], float)  # Vecteur initial dont dépend la dérivée de 2e ordre\n",
    "    \n",
    "    for t in temps:\n",
    "        # On itère sur le nombre d'incréments temporels choisi en arguement de la fonction.\n",
    "        points_x.append(r[0])\n",
    "        points_y.append(r[1])\n",
    "        \n",
    "        # Calcul d'un premier point milieu modifié :\n",
    "        n = 1 \n",
    "        r1 = r + 0.5*H*f(r) \n",
    "        r2 = r + H*f(r1) \n",
    "        \n",
    "        # Calcul de la première extrapolation de Richardson à partir du premier point milieu modifié :\n",
    "        R1 = np.empty([n, 4], float)  # Puisque r est un vecteur à 4 dimensions\n",
    "        R1[0] = 0.5*(r1 + r2 + 0.5*H*f(r2))\n",
    "        \n",
    "        erreur = 2*H*precision\n",
    "        while erreur > H*precision:\n",
    "            # On va itérer sur n jusqu'à ce que l'erreur sur notre calcul atteigne la précision voulue.\n",
    "            n += 1 \n",
    "            h = H/n  # Incréments ajustés selon n, et donc, la précision voulue\n",
    "            \n",
    "            # Méthode de mi-chemin modifiée :\n",
    "            r1 = r + 0.5*h*f(r) \n",
    "            r2 = r + h*f(r1) \n",
    "            for i in range(n-1): \n",
    "                r1 += h*f(r2) \n",
    "                r2 += h*f(r1) \n",
    "            \n",
    "            # Extrapolation de Richardson :\n",
    "            R2 = R1 \n",
    "            R1 = np.empty([n, 4], float)  # Puisque r est un vecteur à 4 dimensions\n",
    "            R1[0] = 0.5*(r1 + r2 + 0.5*h*f(r2))\n",
    "            for m in range(1,n): \n",
    "                epsilon = (R1[m-1]-R2[m-1])/((n/(n-1))**(2*m)-1) \n",
    "                R1[m] = R1[m-1] + epsilon \n",
    "            erreur = abs(epsilon[0])  # Nouveau calcul de l'erreur de notre estimé\n",
    "        \n",
    "        r = R1[n-1]  # Une fois que nous avons atteint la précision voulue, la boucle s'arrête et nous \n",
    "        # recommençons une nouvelle itération avec le dernier estimé calculé. C'est d'ailleurs cet estimé qui\n",
    "        # est enregistré, par après, dans les listes points_x et points_y.\n",
    "    \n",
    "    return points_x, points_y"
   ]
  },
  {
   "cell_type": "code",
   "execution_count": 47,
   "metadata": {},
   "outputs": [
    {
     "data": {
      "image/png": "[encoded data removed]",
      "text/plain": [
       "<Figure size 360x360 with 1 Axes>"
      ]
     },
     "metadata": {
      "needs_background": "light"
     },
     "output_type": "display_data"
    }
   ],
   "source": [
    "# Données initiales du problème : \n",
    "H = 3600*24*7  # s, donc 1 semaine\n",
    "t_max = 3600*8760   # s, donc 1 orbitre\n",
    "precision = 1000 # m, donc 1 km\n",
    "\n",
    "# Résoudre l'équation différentielle avec les données initiales du problème, et ce, pour un orbitre complet : \n",
    "sln = Bulirsch_Stoer(x0, y0, v_x0, v_y0, H, t_max, precision)\n",
    "\n",
    "plt.figure(figsize=(5, 5))\n",
    "plt.plot(sln[0], sln[1])\n",
    "plt.title(\"Orbitre de la Terre autour du Soleil\")\n",
    "plt.xlabel(\"Position en x [m]\")\n",
    "plt.ylabel(\"Position en y [m]\")\n",
    "plt.show()"
   ]
  },
  {
   "cell_type": "code",
   "execution_count": 48,
   "metadata": {},
   "outputs": [
    {
     "name": "stdout",
     "output_type": "stream",
     "text": [
      "En x, le demi-axe vaut 147.100000 Gm et, en y, il vaut 149.575124 Gm.\n",
      "Dans les négatifs, on retrouve une valeur de -152.102188 Gm en x et de -149.501557 Gm en y.\n"
     ]
    }
   ],
   "source": [
    "print(\"En x, le demi-axe vaut {:.6f} Gm et, en y, il vaut {:.6f} Gm.\".format(np.amax(sln[0])/1e9, np.amax(sln[1])/1e9))\n",
    "print(\"Dans les négatifs, on retrouve une valeur de {:.6f} Gm en x et de {:.6f} Gm en y.\".format(np.amin(sln[0])/1e9, np.amin(sln[1])/1e9))\n",
    "# En présentant 6 chiffres décimaux, on montre la précision calculée au km près."
   ]
  },
  {
   "cell_type": "markdown",
   "metadata": {},
   "source": [
    "Pour rappel, avec la méthode de Verlet, il a été obtenu : \n",
    "\n",
    "En x, le demi-axe vaut 147.100000 Gm et, en y, il vaut 149.584729 Gm.\n",
    "\n",
    "Dans les négatifs, on retrouve une valeur de -152.111391 Gm en x et de -149.584703 Gm en y."
   ]
  },
  {
   "cell_type": "markdown",
   "metadata": {},
   "source": [
    "On voit ainsi que la méthode de Bulirsch-Stoer permet d'obtenir des valeurs semblables à celles calculées avec la méthode de Verlet. Toutefois, les chiffres changent d'une méthode à l'autre dès la dizaine de Mm. Avec la méthode de Bulirsch-Stoer, nous sommes assurés de la précision de nos calculs jusqu'au km. Par comparaison, on voit ainsi que la méthode de Verlet est bien moins précise, alors même qu'un incrément de 1 heure a été choisie. Pour la méthode de Bulirsch-Stoer, c'est un incrément d'une semaine qui a été choisie, soit un incrément 168 fois plus gros.\n",
    "\n",
    "La méthode de Verlet étant une méthode de type *leapfrog*, son erreur est proportionnelle à $h^3$. Pour la méthode de Bulirsch-Stoer, l'extrapolation de Richardson permet justement d'éliminer successivement les termes d'erreur d'ordre supérieur.  "
   ]
  },
  {
   "cell_type": "markdown",
   "metadata": {},
   "source": [
    "# Mécanique céleste - Mars"
   ]
  },
  {
   "cell_type": "markdown",
   "metadata": {},
   "source": [
    "Pour cette dernière partie, on s'intéresse à l'orbitre de la planète Mars. Celui-ci sera calculé grâce à la méthode de Bulirsh-Stoer définie plus tôt. Plus exactement, on souhaîte connaître la position de la planète Mars à une date précise, connaissant sa position à une autre date précise. Ces deux dates correspondent au jour prévu de l'attérissage et au jour de lancement de l'astromobile *Perseverance*.\n",
    "\n",
    "Le module <code>jplephem</code> et l'éphéméride <code>de421</code> permettront de connaître la position et la vitesse de Mars en date du 30 juillet 2020 et de comparer les positions calculées avec la méthode de Bulirsh-Stoer à la date du 18 février 2021. Cet éphéméride donne des positions en km et des vitesses en km/jour. Il faut donc commencer par les convertir en m et en m/s. De plus, cela nous donne des vecteurs en 3 dimensions. Il faut donc modifier les précédentes fonctions utilisées au g) pour inclure la dimension manquante. "
   ]
  },
  {
   "cell_type": "markdown",
   "metadata": {},
   "source": [
    "## Question h."
   ]
  },
  {
   "cell_type": "markdown",
   "metadata": {},
   "source": [
    "On commence par trouver la position et la vitesse de Mars aux deux dates souhaitées."
   ]
  },
  {
   "cell_type": "code",
   "execution_count": 49,
   "metadata": {},
   "outputs": [
    {
     "name": "stdout",
     "output_type": "stream",
     "text": [
      "\n"
     ]
    }
   ],
   "source": [
    "# Éphéméride utilisée :\n",
    "eph = Ephemeris(de421)\n",
    "\n",
    "# Dates :\n",
    "lancement=Time(\"2020-07-30\")\n",
    "atterissage=Time(\"2021-02-18\")\n",
    "\n",
    "# position en km, vitesse en km par jour\n",
    "# En date du lancement :\n",
    "pos_i, vit_i = eph.position_and_velocity('mars', lancement.jd)\n",
    "position_i = pos_i * 1000   # m\n",
    "vitesse_i = vit_i / 86400 * 1000  # m/s\n",
    "\n",
    "# En date de l'attérissage (valeurs attendues) :\n",
    "print()\n",
    "pos_f = eph.position('mars', atterissage.jd)\n",
    "position_f = pos_f * 1000   # m"
   ]
  },
  {
   "cell_type": "markdown",
   "metadata": {},
   "source": [
    "On redéfinit maintenant les équations de la question g) de façon à inclure la troisième dimension manquante."
   ]
  },
  {
   "cell_type": "code",
   "execution_count": 50,
   "metadata": {},
   "outputs": [],
   "source": [
    "def f(r):\n",
    "    # Dérivée de 2ème ordre\n",
    "    x = r[0]\n",
    "    y = r[1]\n",
    "    z = r[2]\n",
    "    v_x = r[3]\n",
    "    v_y = r[4]\n",
    "    v_z = r[5]\n",
    "    distance = np.sqrt(x**2 + y**2 + z**2)   # Norme du vecteur en 3 dimensions\n",
    "    return np.array([v_x, v_y, v_z, -G*M*x/distance**3, -G*M*y/distance**3, -G*M*z/distance**3], float)\n",
    "\n",
    "\n",
    "def Bulirsch_Stoer(position, vitesse, H, t_max, precision):\n",
    "    # position et vitesse représentent des vecteurs en trois dimensions contenant les données initiales du \n",
    "    # problème, H est l'incrément temporel utilisé, t_max est le temps maximal sur lequel on veut résoudre \n",
    "    # l'équation différentielle et precision est la précision souhaitée pour chaque nouvelle position calculée. \n",
    "    # t_max est un multiple de h et ne réfère pas au temps de simulation.\n",
    "    \n",
    "    temps = np.arange(0, t_max+H, H)  # On définit ici l'intervalle de temps allant de 0 à t_max par bonds de H.\n",
    "    points_x = []\n",
    "    points_y = []\n",
    "    points_z = []\n",
    "    # Définition du vecteur initial dont dépend la dérivée de 2e ordre : \n",
    "    r = np.array([position[0][0], position[1][0], position[2][0], vitesse[0][0], vitesse[1][0], vitesse[2][0]], float)\n",
    "    \n",
    "    for t in temps:\n",
    "        points_x.append(r[0])\n",
    "        points_y.append(r[1])\n",
    "        points_z.append(r[2])\n",
    "        \n",
    "        n = 1 \n",
    "        r1 = r + 0.5*H*f(r) \n",
    "        r2 = r + H*f(r1) \n",
    "        \n",
    "        R1 = np.empty([n, 6], float)   # Puisque r est un vecteur à 6 dimensions\n",
    "        R1[0] = 0.5*(r1 + r2 + 0.5*H*f(r2))\n",
    "        \n",
    "        erreur = 2*H*precision\n",
    "        while erreur > H*precision:\n",
    "            n += 1 \n",
    "            h = H/n\n",
    "            \n",
    "            # Méthode de mi-chemin modifiée  \n",
    "            r1 = r + 0.5*h*f(r) \n",
    "            r2 = r + h*f(r1) \n",
    "            for i in range(n-1): \n",
    "                r1 += h*f(r2) \n",
    "                r2 += h*f(r1) \n",
    "            \n",
    "            # Extrapolation Richardson \n",
    "            R2 = R1 \n",
    "            R1 = np.empty([n, 6], float)  # Puisque r est un vecteur à 6 dimensions\n",
    "            R1[0] = 0.5*(r1 + r2 + 0.5*h*f(r2))\n",
    "            for m in range(1,n): \n",
    "                epsilon = (R1[m-1]-R2[m-1])/((n/(n-1))**(2*m)-1) \n",
    "                R1[m] = R1[m-1] + epsilon \n",
    "            erreur = abs(epsilon[0])  \n",
    "        \n",
    "        r = R1[n-1]\n",
    "    \n",
    "    return points_x, points_y, points_z"
   ]
  },
  {
   "cell_type": "markdown",
   "metadata": {},
   "source": [
    "L'intervalle de temps $H$ utilisé et la précision souhaîtée ont été choisies de manière arbitraire en assurant une bonne précision sur les calculs.\n",
    "\n",
    "Le 18 février 2021 se trouve 203 jours plus tard que le 30 juillet 2020. On pose donc t_max comme étant égal à 203 jours."
   ]
  },
  {
   "cell_type": "code",
   "execution_count": 55,
   "metadata": {},
   "outputs": [
    {
     "name": "stdout",
     "output_type": "stream",
     "text": [
      "La méthode de Bulirsch-Stoer donne la position suivante en Gm : (-5.47732281, 210.81203890, 96.86168830)\n",
      "L'éphéméride utilisée prévoit la position suivante en Gm :( -1.945385232669045 214.2804165286719 98.3090642723317 )\n"
     ]
    }
   ],
   "source": [
    "# Données initiales du problème : \n",
    "H = 3600  # s, donc 1 h\n",
    "precision = 10 # m\n",
    "t_max = 3600*24*203   # 203 jours plus tard\n",
    "\n",
    "sln = Bulirsch_Stoer(position_i, vitesse_i, H, t_max, precision)\n",
    "print(\"La méthode de Bulirsch-Stoer donne la position suivante en Gm : ({:.8f}, {:.8f}, {:.8f})\".format(sln[0][-1]/1e9, sln[1][-1]/1e9, sln[2][-1]/1e9))\n",
    "\n",
    "print(\"L'éphéméride utilisée prévoit la position suivante en Gm :(\", position_f[0][0]/1e9, position_f[1][0]/1e9, position_f[2][0]/1e9,\")\")"
   ]
  },
  {
   "cell_type": "markdown",
   "metadata": {},
   "source": [
    "Comparer les résultats entre eux + Commentez,  notamment  sur  vos  limites  et celles de la méthode utilisée, peut-être en vous inspirant d’informations à cette adresse : https://en.wikipedia.org/wiki/Jet_Propulsion_Laboratory_Development_Ephemeris"
   ]
  },
  {
   "cell_type": "markdown",
   "metadata": {},
   "source": [
    "## Références\n",
    "\n",
    "[1] NASA (2020). *Earth Fact Sheet*. https://nssdc.gsfc.nasa.gov/planetary/factsheet/earthfact.html\n",
    "\n",
    "[2] Mark Newman (2013). *Computational Physics*. University of Michigan. "
   ]
  }
 ],
 "metadata": {
  "kernelspec": {
   "display_name": "Python 3",
   "language": "python",
   "name": "python3"
  },
  "language_info": {
   "codemirror_mode": {
    "name": "ipython",
    "version": 3
   },
   "file_extension": ".py",
   "mimetype": "text/x-python",
   "name": "python",
   "nbconvert_exporter": "python",
   "pygments_lexer": "ipython3",
   "version": "3.8.3"
  }
 },
 "nbformat": 4,
 "nbformat_minor": 2
}
