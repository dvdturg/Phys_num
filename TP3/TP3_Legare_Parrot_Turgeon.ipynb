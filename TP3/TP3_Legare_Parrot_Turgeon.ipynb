{
 "cells": [
  {
   "cell_type": "markdown",
   "metadata": {},
   "source": [
    "<h1><center>Physique numérique (PHY-3500)</center></h1>\n",
    "<h1><center>TP3 - Équations différentielles</center></h1>"
   ]
  },
  {
   "cell_type": "markdown",
   "metadata": {},
   "source": [
    "## Nom des membres de l'équipe:\n",
    "\n",
    "### Nom, Prénom :  NI \n",
    "### Légaré, Ophélie : 111 182 608\n",
    "### Parrot, Anaïs : 111 184 980\n",
    "### Turgeon, David : 111 182 265"
   ]
  },
  {
   "cell_type": "markdown",
   "metadata": {},
   "source": [
    "### Importation des modules :"
   ]
  },
  {
   "cell_type": "code",
   "execution_count": 1,
   "metadata": {},
   "outputs": [
    {
     "name": "stdout",
     "output_type": "stream",
     "text": [
      "Requirement already satisfied: jplephem in c:\\users\\anpar237\\anaconda3\\lib\\site-packages (2.15)\n",
      "Requirement already satisfied: numpy in c:\\users\\anpar237\\anaconda3\\lib\\site-packages (from jplephem) (1.18.5)\n",
      "Note: you may need to restart the kernel to use updated packages.\n",
      "Requirement already satisfied: de421 in c:\\users\\anpar237\\anaconda3\\lib\\site-packages (2008.1)\n",
      "Note: you may need to restart the kernel to use updated packages.\n"
     ]
    }
   ],
   "source": [
    "import numpy as np\n",
    "import matplotlib.pyplot as plt\n",
    "import astropy as atp\n",
    "from astropy.time import Time\n",
    "%pip install jplephem\n",
    "from jplephem import Ephemeris\n",
    "%pip install de421\n",
    "import de421"
   ]
  },
  {
   "cell_type": "markdown",
   "metadata": {},
   "source": [
    "# Introduction : "
   ]
  },
  {
   "cell_type": "markdown",
   "metadata": {},
   "source": [
    "# Mécanique céleste - comètes"
   ]
  },
  {
   "cell_type": "markdown",
   "metadata": {},
   "source": [
    "## Question a.\n",
    "Il est possible de séparer une équation différentielle d'ordre supérieur en plusieurs équations différentielles de premier ordre. La deuxième loi de Newton qui décrit le mouvement bidimensionnel d'une comète autour du soleil est exprimée par deux équations différentielles de deuxième ordre. On sépare ces deux équations pour les ramener à quatre équations différentielles du premier ordre."
   ]
  },
  {
   "cell_type": "markdown",
   "metadata": {},
   "source": [
    "La démarche détaillée est présentée pour le mouvement dans la direction $x$ seulement puisque la démarche pour le mouvement en $y$ est la même. \n",
    "\n",
    "L'équation différentielle de départ est\n",
    "$$\\frac{d^{2}x}{dt^{2}} = -GM \\frac{x}{(x^{2}+y^{2})^{\\frac{3}{2}}} = f(x, y).$$\n",
    "On commence par faire des changements de variable pour chaque degré en $x$.\n",
    "$$\\delta = \\frac{dx}{dt}= x'$$\n",
    "$$\\delta' = \\frac{d \\delta}{dt} = \\frac{d^{2}x}{dt^{2}} = x''$$\n",
    "On substitue ces changements de variable dans l'équation du mouvement et on obtient deux équations différentielles de premier ordre.\n",
    "$$\\delta = \\frac{dx}{dt}$$\n",
    "$$\\frac{d \\delta}{dt} = -GM \\frac{x}{(x^{2}+y^{2})^{\\frac{3}{2}}}$$\n",
    "\n",
    "Dans le cas du mouvement en $y$, on obtient une réponse équivalente avec un changement de variable différent.\n",
    "$$\\gamma = \\frac{dy}{dt}$$\n",
    "$$\\frac{d \\gamma}{dt} = -GM \\frac{y}{(x^{2}+y^{2})^{\\frac{3}{2}}}$$"
   ]
  },
  {
   "cell_type": "markdown",
   "metadata": {},
   "source": [
    "## Question b."
   ]
  },
  {
   "cell_type": "markdown",
   "metadata": {},
   "source": [
    "## Question c."
   ]
  },
  {
   "cell_type": "markdown",
   "metadata": {},
   "source": [
    "# Mécanique céleste - la Terre"
   ]
  },
  {
   "cell_type": "markdown",
   "metadata": {},
   "source": [
    "## Question d."
   ]
  },
  {
   "cell_type": "markdown",
   "metadata": {},
   "source": [
    "## Question e."
   ]
  },
  {
   "cell_type": "markdown",
   "metadata": {},
   "source": [
    "## Question f."
   ]
  },
  {
   "cell_type": "markdown",
   "metadata": {},
   "source": [
    "## Question g."
   ]
  },
  {
   "cell_type": "markdown",
   "metadata": {},
   "source": [
    "# Mécanique céleste - Mars"
   ]
  },
  {
   "cell_type": "markdown",
   "metadata": {},
   "source": [
    "## Question h."
   ]
  },
  {
   "cell_type": "code",
   "execution_count": 15,
   "metadata": {},
   "outputs": [
    {
     "data": {
      "text/plain": [
       "array([[-1.94538523e+06],\n",
       "       [ 2.14280417e+08],\n",
       "       [ 9.83090643e+07]])"
      ]
     },
     "execution_count": 15,
     "metadata": {},
     "output_type": "execute_result"
    }
   ],
   "source": [
    "# éphémérides\n",
    "eph = Ephemeris(de421)\n",
    "# dates\n",
    "lancement=Time(\"2020-07-30\")\n",
    "atterissage=Time(\"2021-02-18\")\n",
    "# un nombre de jours juliens est attendu par la routine, d’où le .jd\n",
    "# position en km, vitesse en km par jour\n",
    "position, velocity = eph.position_and_velocity('mars',lancement.jd)\n",
    "eph.position('mars',atterissage.jd)"
   ]
  },
  {
   "cell_type": "code",
   "execution_count": null,
   "metadata": {},
   "outputs": [],
   "source": []
  }
 ],
 "metadata": {
  "kernelspec": {
   "display_name": "Python 3",
   "language": "python",
   "name": "python3"
  },
  "language_info": {
   "codemirror_mode": {
    "name": "ipython",
    "version": 3
   },
   "file_extension": ".py",
   "mimetype": "text/x-python",
   "name": "python",
   "nbconvert_exporter": "python",
   "pygments_lexer": "ipython3",
   "version": "3.8.3"
  }
 },
 "nbformat": 4,
 "nbformat_minor": 2
}
