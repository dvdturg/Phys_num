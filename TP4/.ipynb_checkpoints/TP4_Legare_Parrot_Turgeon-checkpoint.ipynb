{
 "cells": [
  {
   "cell_type": "markdown",
   "metadata": {},
   "source": [
    "<h1><center>Physique numérique (PHY-3500)</center></h1>\n",
    "<h1><center>TP4 - Équations différentielles partielles</center></h1>"
   ]
  },
  {
   "cell_type": "markdown",
   "metadata": {},
   "source": [
    "## Nom des membres de l'équipe:\n",
    "\n",
    "### Nom, Prénom :  NI \n",
    "### Légaré, Ophélie : 111 182 608\n",
    "### Parrot, Anaïs : 111 184 980\n",
    "### Turgeon, David : 111 182 265"
   ]
  },
  {
   "cell_type": "markdown",
   "metadata": {},
   "source": [
    "### Importation des modules :"
   ]
  },
  {
   "cell_type": "code",
   "execution_count": 17,
   "metadata": {},
   "outputs": [],
   "source": [
    "import numpy as np\n",
    "import matplotlib.pyplot as plt\n",
    "import scipy.constants as cst"
   ]
  },
  {
   "cell_type": "markdown",
   "metadata": {},
   "source": [
    "# L'équation de Schrödinger et la méthode de Crank-Nicolson"
   ]
  },
  {
   "cell_type": "markdown",
   "metadata": {},
   "source": [
    "## Introduction"
   ]
  },
  {
   "cell_type": "markdown",
   "metadata": {},
   "source": [
    "C'eeeest plaaaaaaaaaaaaaaaaaaaaaaaate !!!!!!!"
   ]
  },
  {
   "cell_type": "markdown",
   "metadata": {},
   "source": [
    "## Question 1"
   ]
  },
  {
   "cell_type": "code",
   "execution_count": 19,
   "metadata": {},
   "outputs": [],
   "source": [
    "# Données initiales\n",
    "M = 9.109e-31   # kg\n",
    "L = 1e-8        # m\n",
    "sigma = 1e-10   # m\n",
    "kappa = 5e10    # 1/m\n",
    "hbar = cst.hbar # J*s\n",
    "\n",
    "# Équation intiale\n",
    "def psi_0(x):\n",
    "    x0 = L/2\n",
    "    return np.exp(- (x-x0)**2 / 2*sigma**2) * np.exp(1j*kappa*x)\n",
    "\n",
    "# Données du problème\n",
    "h = 1e-18\n",
    "N = 1000\n",
    "a = L/N"
   ]
  },
  {
   "cell_type": "code",
   "execution_count": 20,
   "metadata": {},
   "outputs": [],
   "source": [
    "\"PAS SURE QUE CE VECTEUR SOIT UTILE : À VOIR!\"\n",
    "psi_t = []  # Vecteur psi(t)   (Équation 7 de l'énoncé)\n",
    "for i in range(N):\n",
    "    if i == 0:\n",
    "        pass\n",
    "    else:\n",
    "        psi_t.append(psi_0(a*i))\n",
    "\"PEUT-ÊTRE PLUS UTILE AU #2 ?\"\n",
    "\n",
    "# Coefficients des matrices A et B\n",
    "a1 = 1 + h*1j*hbar / (2*M*a**2)\n",
    "a2 = -h*1j*hbar / (4*M*a**2)\n",
    "b1 = 1 - h*1j*hbar / (2*M*a**2)\n",
    "b2 = h*1j*hbar / (4*M*a**2)"
   ]
  },
  {
   "cell_type": "code",
   "execution_count": null,
   "metadata": {},
   "outputs": [],
   "source": [
    "# v = B*psi\n",
    "# Valeurs propres :\n",
    "lambda_k = []\n",
    "for i in range(N):\n",
    "    lambda_k.append(b1 + 2*b2*np.cos(i*np.pi / (N+1)))    # selon wikipédia, Matrices de Toeplitz tridiagonales"
   ]
  },
  {
   "cell_type": "markdown",
   "metadata": {},
   "source": [
    "## Question 2"
   ]
  },
  {
   "cell_type": "code",
   "execution_count": 21,
   "metadata": {},
   "outputs": [],
   "source": [
    "# Méthode de Thomas  (selon méthode décrite par Wikipédia - Tridiagonal matrix algorithm)\n",
    "def Thomas(a, b, c, d):\n",
    "    # a = diagonale inférieure, b = diagonale centrale, c = diagonale supérieure, d = vecteur v\n",
    "    \n",
    "    c_prime = []\n",
    "    d_prime = []\n",
    "    vecteur_x = np.zeros(N, float)   # Solution, vecteur qu'on cherche à calculer dans A*x = v\n",
    "    \n",
    "    for i in range(N):\n",
    "        if i == 0:\n",
    "            pass\n",
    "        if i == 1:\n",
    "            c_prime.append(c[i]/b[i])\n",
    "            d_prime.append(d[i]/b[i])\n",
    "        else:\n",
    "            c_prime.append(c[i] / (b[i] - a[i]*c_prime[i-1]))\n",
    "            d_prime.append((d[i] - a[i]*d_prime[i-1]) / (b[i] - a[i]*c_prime[i-1]))\n",
    "    \n",
    "    vecteur_x[N] = d_prime[N]\n",
    "    for i in range(N-1, 0, -1):\n",
    "        vecteur_x[i] = d_prime[i] - c_prime[i]*vecteur_x[i+1]\n",
    "    \n",
    "    return vecteur_x"
   ]
  },
  {
   "cell_type": "markdown",
   "metadata": {},
   "source": [
    "## Question 3"
   ]
  },
  {
   "cell_type": "markdown",
   "metadata": {},
   "source": [
    "## Question 4"
   ]
  },
  {
   "cell_type": "markdown",
   "metadata": {},
   "source": [
    "## Question 5"
   ]
  },
  {
   "cell_type": "markdown",
   "metadata": {},
   "source": [
    "*Blabla dé la physica !!*"
   ]
  }
 ],
 "metadata": {
  "kernelspec": {
   "display_name": "Python 3",
   "language": "python",
   "name": "python3"
  },
  "language_info": {
   "codemirror_mode": {
    "name": "ipython",
    "version": 3
   },
   "file_extension": ".py",
   "mimetype": "text/x-python",
   "name": "python",
   "nbconvert_exporter": "python",
   "pygments_lexer": "ipython3",
   "version": "3.9.1"
  }
 },
 "nbformat": 4,
 "nbformat_minor": 2
}
