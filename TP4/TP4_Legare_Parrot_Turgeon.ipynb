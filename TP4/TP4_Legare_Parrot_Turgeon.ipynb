{
 "cells": [
  {
   "cell_type": "markdown",
   "metadata": {},
   "source": [
    "<h1><center>Physique numérique (PHY-3500)</center></h1>\n",
    "<h1><center>TP4 - Équations différentielles partielles</center></h1>"
   ]
  },
  {
   "cell_type": "markdown",
   "metadata": {},
   "source": [
    "## Nom des membres de l'équipe:\n",
    "\n",
    "### Nom, Prénom :  NI \n",
    "### Légaré, Ophélie : 111 182 608\n",
    "### Parrot, Anaïs : 111 184 980\n",
    "### Turgeon, David : 111 182 265"
   ]
  },
  {
   "cell_type": "markdown",
   "metadata": {},
   "source": [
    "### Importation des modules :"
   ]
  },
  {
   "cell_type": "code",
   "execution_count": 19,
   "metadata": {},
   "outputs": [],
   "source": [
    "import numpy as np\n",
    "import matplotlib.pyplot as plt\n",
    "import scipy.constants as cst"
   ]
  },
  {
   "cell_type": "markdown",
   "metadata": {},
   "source": [
    "# L'équation de Schrödinger et la méthode de Crank-Nicolson"
   ]
  },
  {
   "cell_type": "markdown",
   "metadata": {},
   "source": [
    "## Introduction"
   ]
  },
  {
   "cell_type": "markdown",
   "metadata": {},
   "source": [
    "La résolution de l'équation de Schrödinger dépendante du temps en une dimension permet de trouver la fonction d'onde d'une particule dans une boîte ayant des parois impénétrables, donc sans potentiel.\n",
    "$$\\frac{-\\hbar^2}{2 M} \\frac{\\partial^2 \\psi}{\\partial x^2} = i \\hbar \\frac{\\partial \\psi}{\\partial t}$$\n",
    "\n",
    "La méthode de Crank-Nicolson permet de résoudre cette équation différentielle partielle et d'obtenir une solution numérique stable dont la solution est \n",
    "$$\\psi(x, t+h) = \\psi(x, t) + h \\frac{i \\hbar}{4 m a^2} \\left[\\psi(x+a, t) + \\psi(x-a, t) -2\\psi(x,t) \\right].$$\n",
    "Sa forme compacte est $A \\psi(t+h) = B \\psi(t)$, où $A$ et $B$ sont deux matrices symétriques et tridiagonales.\n",
    "\n",
    "Dans cette étude, la méthode de Crank-Nicolson est employée pour calculer la fonction d'onde de l'électron dans une boîte unidimensionnelle de 10$^{-8}$ m pour un temps $h$ de 10$^{-18}$ seconde. On connaît la fonction d'onde de l'électron au temps initial, soit $$\\psi(x, 0) = exp \\left[-\\frac{(x-x_0)^2}{2 \\sigma^2} \\right]e^{i \\kappa x}$$\n",
    "\n",
    "Puis, on pose que cette dernière est nulle aux parois de la boîte; à $x=0$ et à $x=L$. Par la suite, une animation est produite afin de visualiser l'évolution de cette fonction d'onde pour différents incréments temporels."
   ]
  },
  {
   "cell_type": "markdown",
   "metadata": {},
   "source": [
    "## Question 1\n",
    "On divise la longueur de la boîte en 1000 tranches pour tout d'abord calculer le vecteur $v = B \\psi$ à partir de la matrice tridiagonale $B$ définie précédemment. L'expression utilisée pour le calcul des éléments $v_i$ du vecteur $v$ provient du manuel de référence (Newman)."
   ]
  },
  {
   "cell_type": "code",
   "execution_count": 20,
   "metadata": {},
   "outputs": [],
   "source": [
    "# Données initiales du problème \n",
    "M = 9.109e-31   # kg\n",
    "L = 1e-8        # m\n",
    "sigma = 1e-10   # m\n",
    "kappa = 5e10    # 1/m\n",
    "hbar = cst.hbar # J*s\n",
    "\n",
    "# Équation intiale\n",
    "def psi_0(x):\n",
    "    x0 = L/2\n",
    "    return np.exp(- (x-x0)**2 / 2*sigma**2) * np.exp(1j*kappa*x)\n",
    "\n",
    "# Données du problème\n",
    "h = 1e-18\n",
    "N = 1000\n",
    "a = L/N"
   ]
  },
  {
   "cell_type": "code",
   "execution_count": 21,
   "metadata": {},
   "outputs": [],
   "source": [
    "# Coefficients des matrices A et B\n",
    "a1 = 1 + h*1j*hbar / (2*M*a**2)\n",
    "a2 = -h*1j*hbar / (4*M*a**2)\n",
    "b1 = 1 - h*1j*hbar / (2*M*a**2)\n",
    "b2 = h*1j*hbar / (4*M*a**2)"
   ]
  },
  {
   "cell_type": "code",
   "execution_count": 52,
   "metadata": {},
   "outputs": [],
   "source": [
    "# Matrices A et B\n",
    "A = np.zeros([N + 1, N + 1], complex) # Dimension de la matrice A\n",
    "for i in range(N):\n",
    "    A[i, i - 1] = a2\n",
    "    A[i, i] = a1\n",
    "    A[i, i + 1] = a2\n",
    "A[N, N] = a1        # Ajout des valeurs à la dernière rangée\n",
    "A[N, N - 1] = a2\n",
    "    \n",
    "B = np.zeros([N + 1, N + 1], complex) # Dimension de la matrice B\n",
    "for i in range(N):\n",
    "    B[i, i - 1] = b2\n",
    "    B[i, i] = b1\n",
    "    B[i, i + 1] = b2\n",
    "B[N, N] = b1         # Ajout des valeurs à la dernière rangée\n",
    "B[N, N - 1] = b2"
   ]
  },
  {
   "cell_type": "code",
   "execution_count": 53,
   "metadata": {},
   "outputs": [],
   "source": [
    "\"Bonne hypothèse, par contre selon le manuel il s'agirait d'une autre équation\"\n",
    "# v = B*psi\n",
    "# Valeurs propres :\n",
    "lambda_k = []\n",
    "for i in range(N):\n",
    "    lambda_k.append(b1 + 2*b2*np.cos(i*np.pi / (N+1)))    # selon wikipédia, Matrices de Toeplitz tridiagonales"
   ]
  },
  {
   "cell_type": "code",
   "execution_count": 61,
   "metadata": {},
   "outputs": [],
   "source": [
    "x = np.linspace(0, L, N + 1) # Vecteur des positions en x\n",
    "psi[0] = psi[N - 1] = 0 # Conditions initiales du problème\n",
    "\n",
    "\"Voilà ce que j'ai trouvé dans le manuel, p. 441\"\n",
    "v = [v_i] # Liste de valeurs propres\n",
    "for i in range(N):\n",
    "    v_i = b1 * psi[1: N] + b2 * (psi[2:] + psi[0: N-1])\n",
    "    v.append(v_i)"
   ]
  },
  {
   "cell_type": "markdown",
   "metadata": {},
   "source": [
    "## Question 2\n",
    "Ici, on procède au calcul de la fonction d'onde à partir du vecteur $v$ calculé dans la question précédente. Pour ce faire, on a recours à l'algorithme de Thomas conçu pour résoudre les matrices tridiagonales."
   ]
  },
  {
   "cell_type": "code",
   "execution_count": 5,
   "metadata": {},
   "outputs": [],
   "source": [
    "# Méthode de Thomas  (selon méthode décrite par Wikipédia - Tridiagonal matrix algorithm)\n",
    "def Thomas(a, b, c, d):\n",
    "    # a = diagonale inférieure, b = diagonale centrale, c = diagonale supérieure, d = vecteur v\n",
    "    \n",
    "    c_prime = []\n",
    "    d_prime = []\n",
    "    vecteur_x = np.zeros(N, float)   # Solution, vecteur qu'on cherche à calculer dans A*x = v\n",
    "    \n",
    "    for i in range(N):\n",
    "        if i == 0:\n",
    "            pass\n",
    "        if i == 1:\n",
    "            c_prime.append(c[i]/b[i])\n",
    "            d_prime.append(d[i]/b[i])\n",
    "        else:\n",
    "            c_prime.append(c[i] / (b[i] - a[i]*c_prime[i-1]))\n",
    "            d_prime.append((d[i] - a[i]*d_prime[i-1]) / (b[i] - a[i]*c_prime[i-1]))\n",
    "    \n",
    "    vecteur_x[N] = d_prime[N]\n",
    "    for i in range(N-1, 0, -1):\n",
    "        vecteur_x[i] = d_prime[i] - c_prime[i]*vecteur_x[i+1]\n",
    "    \n",
    "    return vecteur_x"
   ]
  },
  {
   "cell_type": "markdown",
   "metadata": {},
   "source": [
    "## Question 3\n",
    "Une animation de l'évolution de la fonction d'onde dans l'intervalle de temps $h$ est présentée. Une image de la fonction d'onde est générée pour chaque incrément temporel. Dans notre cas, l'animation a été crée avec matplotlib..."
   ]
  },
  {
   "cell_type": "code",
   "execution_count": null,
   "metadata": {},
   "outputs": [],
   "source": [
    "\"Vecteur qui a déménagé de question\"\n",
    "psi_t = []  # Vecteur psi(t)   (Équation 7 de l'énoncé)\n",
    "for i in range(N):\n",
    "    if i == 0:\n",
    "        pass\n",
    "    else:\n",
    "        psi_t.append(psi_0(a*i))"
   ]
  },
  {
   "cell_type": "markdown",
   "metadata": {},
   "source": [
    "## Question 4\n",
    "Le programme précédent est maintenant modifié afin d'effectuer les opérations d'algèbre linéaire avec le module numpy.linalg. On observe un certain gain en vitesse de calcul..."
   ]
  },
  {
   "cell_type": "markdown",
   "metadata": {},
   "source": [
    "## Question 5"
   ]
  },
  {
   "cell_type": "markdown",
   "metadata": {},
   "source": [
    "*Blabla dé la physica !!*\n",
    "Le comportement de la fonction d'onde, tel que décrit par l'animation, est..."
   ]
  }
 ],
 "metadata": {
  "kernelspec": {
   "display_name": "Python 3",
   "language": "python",
   "name": "python3"
  },
  "language_info": {
   "codemirror_mode": {
    "name": "ipython",
    "version": 3
   },
   "file_extension": ".py",
   "mimetype": "text/x-python",
   "name": "python",
   "nbconvert_exporter": "python",
   "pygments_lexer": "ipython3",
   "version": "3.9.1"
  }
 },
 "nbformat": 4,
 "nbformat_minor": 2
}
